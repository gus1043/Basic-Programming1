{
 "cells": [
  {
   "cell_type": "code",
   "execution_count": 11,
   "metadata": {},
   "outputs": [
    {
     "name": "stdout",
     "output_type": "stream",
     "text": [
      "정수 아닌 값이 있네\n"
     ]
    }
   ],
   "source": [
    "def test(t):\n",
    "    assert isinstance(t, int), \"정수 아닌 값이 있네\"\n",
    "    \n",
    "lists=[1,3,6,3,8,7,13,23,13,2,3.14,2,3,7]\n",
    "\n",
    "try:\n",
    "    for i in lists:\n",
    "        test(i)\n",
    "except AssertionError as errorMsg:\n",
    "    print(errorMsg)"
   ]
  },
  {
   "cell_type": "code",
   "execution_count": 15,
   "metadata": {},
   "outputs": [
    {
     "ename": "NameError",
     "evalue": "name 'aaa' is not defined",
     "output_type": "error",
     "traceback": [
      "\u001b[1;31m---------------------------------------------------------------------------\u001b[0m",
      "\u001b[1;31mNameError\u001b[0m                                 Traceback (most recent call last)",
      "\u001b[1;32m<ipython-input-15-07495827112a>\u001b[0m in \u001b[0;36m<module>\u001b[1;34m\u001b[0m\n\u001b[0;32m     16\u001b[0m \u001b[1;33m\u001b[0m\u001b[0m\n\u001b[0;32m     17\u001b[0m \u001b[1;32mtry\u001b[0m\u001b[1;33m:\u001b[0m\u001b[1;33m\u001b[0m\u001b[1;33m\u001b[0m\u001b[0m\n\u001b[1;32m---> 18\u001b[1;33m     \u001b[0mlst\u001b[0m\u001b[1;33m=\u001b[0m\u001b[1;33m[\u001b[0m\u001b[1;36m10\u001b[0m\u001b[1;33m,\u001b[0m\u001b[1;36m20\u001b[0m\u001b[1;33m,\u001b[0m\u001b[0maaa\u001b[0m\u001b[1;33m]\u001b[0m\u001b[1;33m\u001b[0m\u001b[1;33m\u001b[0m\u001b[0m\n\u001b[0m\u001b[0;32m     19\u001b[0m     \u001b[0mprint\u001b[0m\u001b[1;33m(\u001b[0m\u001b[1;34m\"input: {}\"\u001b[0m\u001b[1;33m.\u001b[0m\u001b[0mformat\u001b[0m\u001b[1;33m(\u001b[0m\u001b[0mlst\u001b[0m\u001b[1;33m)\u001b[0m\u001b[1;33m)\u001b[0m\u001b[1;33m\u001b[0m\u001b[1;33m\u001b[0m\u001b[0m\n\u001b[0;32m     20\u001b[0m \u001b[1;33m\u001b[0m\u001b[0m\n",
      "\u001b[1;31mNameError\u001b[0m: name 'aaa' is not defined"
     ]
    }
   ],
   "source": [
    "def getAverage(vect):\n",
    "    avg = 0\n",
    "    \n",
    "    for elem in vect:\n",
    "        try:\n",
    "            avg += int(elem)\n",
    "        except :\n",
    "            raise ValueError(\"Cannot calculate invalid arguments.\")\n",
    "            \n",
    "    try:\n",
    "        avg /= len(vect)\n",
    "    except :\n",
    "        return float(\"nan\")\n",
    "    \n",
    "    return avg\n",
    "\n",
    "try:\n",
    "    lst=[10,20,aaa]\n",
    "    print(\"input: {}\".format(lst))\n",
    "    \n",
    "    avg = getAverage(lst)\n",
    "    print(\"Average result is {}\".format(avg))\n",
    "\n",
    "except ValueError as errorMsg:\n",
    "    print(errorMsg)"
   ]
  },
  {
   "cell_type": "code",
   "execution_count": null,
   "metadata": {},
   "outputs": [],
   "source": []
  },
  {
   "cell_type": "code",
   "execution_count": null,
   "metadata": {},
   "outputs": [],
   "source": []
  },
  {
   "cell_type": "code",
   "execution_count": null,
   "metadata": {},
   "outputs": [],
   "source": []
  },
  {
   "cell_type": "code",
   "execution_count": null,
   "metadata": {},
   "outputs": [],
   "source": [
    "def getAverage(vect):\n",
    "    avg=0\n",
    "    \n",
    "    for elem in vect:\n",
    "        assert type(elem)==int, 'Cannot calculate invalid arguments.'   #틀린부분            \n",
    "    \n",
    "    try:\n",
    "        avg =  sum(vect) / len(vect)                                    \n",
    "    except:     \n",
    "        return float(\"nan\")\n",
    "    \n",
    "    return avg\n",
    "        \n",
    "try:\n",
    "    lst=[10,20,30,40]\n",
    "    print(\"Input:\", format(lst))\n",
    "    \n",
    "    avg=getAverage(lst)\n",
    "    print(\"Average result is \",format(avg))\n",
    "    \n",
    "except ValueError as errorMsg:\n",
    "    print(errorMsg) \n",
    "except AssertionError as errorMsg:\n",
    "    print(errorMsg)\n",
    "except NameError as errorMsg:\n",
    "    print(errorMsg) "
   ]
  }
 ],
 "metadata": {
  "kernelspec": {
   "display_name": "Python 3",
   "language": "python",
   "name": "python3"
  },
  "language_info": {
   "codemirror_mode": {
    "name": "ipython",
    "version": 3
   },
   "file_extension": ".py",
   "mimetype": "text/x-python",
   "name": "python",
   "nbconvert_exporter": "python",
   "pygments_lexer": "ipython3",
   "version": "3.8.5"
  }
 },
 "nbformat": 4,
 "nbformat_minor": 4
}
