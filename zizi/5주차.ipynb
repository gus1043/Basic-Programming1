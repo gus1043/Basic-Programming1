{
 "cells": [
  {
   "cell_type": "code",
   "execution_count": 18,
   "metadata": {},
   "outputs": [
    {
     "name": "stdout",
     "output_type": "stream",
     "text": [
      "Enter an interger: -27\n",
      "Cube root of -27 is -3\n"
     ]
    }
   ],
   "source": [
    "#Find the cube root of a perfect cube\n",
    "x=int(input('Enter an interger: '))\n",
    "ans=0\n",
    "while (ans**3<abs(x)):\n",
    "    ans=ans+1\n",
    "if ans**3 != abs(x):\n",
    "    print(x, 'is not a perfect cube')\n",
    "else : \n",
    "    if x<0:\n",
    "        ans=-ans\n",
    "        print('Cube root of', x, 'is', ans)"
   ]
  },
  {
   "cell_type": "code",
   "execution_count": 8,
   "metadata": {},
   "outputs": [
    {
     "name": "stdout",
     "output_type": "stream",
     "text": [
      "0\n",
      "1\n",
      "2\n",
      "3\n"
     ]
    }
   ],
   "source": [
    "x=4\n",
    "for i in range(0,x):     #range(0,4)==range(4)==(0,1,2,3)\n",
    "    print (i)"
   ]
  },
  {
   "cell_type": "code",
   "execution_count": 10,
   "metadata": {},
   "outputs": [
    {
     "name": "stdout",
     "output_type": "stream",
     "text": [
      "0\n",
      "1\n",
      "2\n",
      "3\n",
      "0\n",
      "1\n",
      "2\n",
      "3\n",
      "0\n",
      "1\n",
      "2\n",
      "3\n",
      "0\n",
      "1\n",
      "2\n",
      "3\n"
     ]
    }
   ],
   "source": [
    "x=4\n",
    "for j in range(x):\n",
    "    for i in range(x):\n",
    "        print(i)"
   ]
  },
  {
   "cell_type": "code",
   "execution_count": 11,
   "metadata": {},
   "outputs": [
    {
     "name": "stdout",
     "output_type": "stream",
     "text": [
      "0\n",
      "1\n",
      "2\n",
      "3\n",
      "0\n",
      "1\n",
      "0\n",
      "1\n",
      "0\n",
      "1\n"
     ]
    }
   ],
   "source": [
    "x=4\n",
    "for j in range (4):\n",
    "    for i in range(x):\n",
    "        print (i)\n",
    "        x=2          #헷갈리기 싫으면 웬만해선 for문의 변수 바꾸지마라"
   ]
  },
  {
   "cell_type": "code",
   "execution_count": 14,
   "metadata": {},
   "outputs": [
    {
     "name": "stdout",
     "output_type": "stream",
     "text": [
      "Enter an intwger:8\n",
      "Cube root of 8 is 2\n"
     ]
    }
   ],
   "source": [
    "#Find the cube root of a perfect cube\n",
    "x=int(input('Enter an intwger:'))\n",
    "for ans in range(0,abs(x)+1):        #x=9이라면 0~8까지임\n",
    "    if ans**3>=abs(x):\n",
    "        break\n",
    "if ans**3 != abs(x):\n",
    "    print(x,'is not a perfect cube')\n",
    "else :\n",
    "    if x<0:\n",
    "        ans=-ans\n",
    "    print('Cube root of', x, 'is', ans)"
   ]
  },
  {
   "cell_type": "code",
   "execution_count": 21,
   "metadata": {},
   "outputs": [
    {
     "name": "stdout",
     "output_type": "stream",
     "text": [
      "numGuesses = 49990\n",
      "4.999000000001688 is close to square root of 25\n"
     ]
    }
   ],
   "source": [
    "x=25            #ans제곱 - 25가 0이랑 가까우면 답이 될수 있음\n",
    "epsilon=0.01\n",
    "step=epsilon**2     #step=0.0001                \n",
    "numGuesses = 0\n",
    "ans = 0.0\n",
    "while (abs(ans**2 - x) >= epsilon and ans <= x ): \n",
    "    ans += step\n",
    "    numGuesses += 1\n",
    "print('numGuesses =', numGuesses)\n",
    "if abs(ans**2-x) >= epsilon:\n",
    "    print ('Failed on square root of', x)\n",
    "else :\n",
    "    print(ans, 'is close to square root of', x)"
   ]
  },
  {
   "cell_type": "code",
   "execution_count": 23,
   "metadata": {
    "scrolled": true
   },
   "outputs": [
    {
     "name": "stdout",
     "output_type": "stream",
     "text": [
      "low= 0.0 high= 25 ans= 12.5\n",
      "low= 0.0 high= 12.5 ans= 6.25\n",
      "low= 0.0 high= 6.25 ans= 3.125\n",
      "low= 3.125 high= 6.25 ans= 4.6875\n",
      "low= 4.6875 high= 6.25 ans= 5.46875\n",
      "low= 4.6875 high= 5.46875 ans= 5.078125\n",
      "low= 4.6875 high= 5.078125 ans= 4.8828125\n",
      "low= 4.8828125 high= 5.078125 ans= 4.98046875\n",
      "low= 4.98046875 high= 5.078125 ans= 5.029296875\n",
      "low= 4.98046875 high= 5.029296875 ans= 5.0048828125\n",
      "low= 4.98046875 high= 5.0048828125 ans= 4.99267578125\n",
      "low= 4.99267578125 high= 5.0048828125 ans= 4.998779296875\n",
      "low= 4.998779296875 high= 5.0048828125 ans= 5.0018310546875\n",
      "numGuesses = 13\n",
      "5.00030517578125 is close to sqare root of 25\n"
     ]
    }
   ],
   "source": [
    "x=25\n",
    "epsilon=0.01\n",
    "numGuesses = 0\n",
    "low = 0.0\n",
    "high=max(1.0,x)\n",
    "ans=(high+low)/2.0\n",
    "while abs(ans**2 - x) >= epsilon:\n",
    "    print('low=', low, 'high=', high, 'ans=', ans)\n",
    "    numGuesses += 1\n",
    "    if ans**2 < x:   #<<<여기서부터가 중요\n",
    "        low=ans\n",
    "    else:\n",
    "        high=ans\n",
    "    ans=(high+low)/2.0\n",
    "print('numGuesses =', numGuesses)\n",
    "print(ans, 'is close to sqare root of', x)"
   ]
  },
  {
   "cell_type": "code",
   "execution_count": 24,
   "metadata": {},
   "outputs": [
    {
     "name": "stdout",
     "output_type": "stream",
     "text": [
      "The core is10, so no driver license!\n",
      "the score is 70, so issued driver license!\n",
      "The core is30, so no driver license!\n",
      "the score is 89, so issued driver license!\n",
      "the score is 95, so issued driver license!\n",
      "the score is 100, so issued driver license!\n",
      "The core is56, so no driver license!\n",
      "the score is 82, so issued driver license!\n",
      "the score is 78, so issued driver license!\n",
      "The core is50, so no driver license!\n"
     ]
    }
   ],
   "source": [
    "scores=[10, 70, 30, 89, 95, 100, 56, 82, 78, 50]\n",
    "\n",
    "for score in scores :\n",
    "    if score<70:\n",
    "        print ('The core is'+ str(score) +', so no driver license!')\n",
    "    else:\n",
    "        print('the score is '+ str(score) +', so issued driver license!')"
   ]
  },
  {
   "cell_type": "code",
   "execution_count": null,
   "metadata": {},
   "outputs": [
    {
     "name": "stdout",
     "output_type": "stream",
     "text": [
      "input an integer: 20\n",
      "input an integer: 40\n",
      "input an integer: 50\n"
     ]
    }
   ],
   "source": [
    "scores=[]\n",
    "\n",
    "while (1):\n",
    "    temp=input('input an integer: ')\n",
    "    \n",
    "    if (temp!='EOF'):\n",
    "        scores.append(int(temp))\n",
    "    else:\n",
    "        break\n",
    "    \n",
    "print(scores)\n",
    "print(max(scores))\n",
    "for score in scores :\n",
    "    if score<70:\n",
    "        print ('The core is'+ str(score) +', so no driver license!')\n",
    "    else:\n",
    "        print('the score is '+ str(score) +', so issued driver license!')"
   ]
  },
  {
   "cell_type": "code",
   "execution_count": null,
   "metadata": {},
   "outputs": [],
   "source": []
  },
  {
   "cell_type": "code",
   "execution_count": null,
   "metadata": {},
   "outputs": [],
   "source": []
  },
  {
   "cell_type": "code",
   "execution_count": null,
   "metadata": {},
   "outputs": [],
   "source": []
  },
  {
   "cell_type": "code",
   "execution_count": null,
   "metadata": {},
   "outputs": [],
   "source": []
  },
  {
   "cell_type": "code",
   "execution_count": null,
   "metadata": {},
   "outputs": [],
   "source": []
  },
  {
   "cell_type": "code",
   "execution_count": null,
   "metadata": {},
   "outputs": [],
   "source": []
  },
  {
   "cell_type": "code",
   "execution_count": null,
   "metadata": {},
   "outputs": [],
   "source": []
  },
  {
   "cell_type": "code",
   "execution_count": null,
   "metadata": {},
   "outputs": [],
   "source": []
  },
  {
   "cell_type": "code",
   "execution_count": null,
   "metadata": {},
   "outputs": [],
   "source": [
    "4"
   ]
  },
  {
   "cell_type": "code",
   "execution_count": null,
   "metadata": {},
   "outputs": [],
   "source": []
  },
  {
   "cell_type": "code",
   "execution_count": null,
   "metadata": {},
   "outputs": [],
   "source": []
  },
  {
   "cell_type": "code",
   "execution_count": null,
   "metadata": {},
   "outputs": [],
   "source": []
  },
  {
   "cell_type": "code",
   "execution_count": null,
   "metadata": {},
   "outputs": [],
   "source": []
  },
  {
   "cell_type": "code",
   "execution_count": null,
   "metadata": {},
   "outputs": [],
   "source": []
  },
  {
   "cell_type": "code",
   "execution_count": null,
   "metadata": {},
   "outputs": [],
   "source": []
  },
  {
   "cell_type": "code",
   "execution_count": null,
   "metadata": {},
   "outputs": [],
   "source": []
  },
  {
   "cell_type": "code",
   "execution_count": null,
   "metadata": {},
   "outputs": [],
   "source": []
  },
  {
   "cell_type": "code",
   "execution_count": null,
   "metadata": {},
   "outputs": [],
   "source": []
  },
  {
   "cell_type": "code",
   "execution_count": null,
   "metadata": {},
   "outputs": [],
   "source": []
  },
  {
   "cell_type": "code",
   "execution_count": null,
   "metadata": {},
   "outputs": [],
   "source": []
  },
  {
   "cell_type": "code",
   "execution_count": null,
   "metadata": {},
   "outputs": [],
   "source": []
  },
  {
   "cell_type": "code",
   "execution_count": null,
   "metadata": {},
   "outputs": [],
   "source": []
  }
 ],
 "metadata": {
  "kernelspec": {
   "display_name": "Python 3",
   "language": "python",
   "name": "python3"
  },
  "language_info": {
   "codemirror_mode": {
    "name": "ipython",
    "version": 3
   },
   "file_extension": ".py",
   "mimetype": "text/x-python",
   "name": "python",
   "nbconvert_exporter": "python",
   "pygments_lexer": "ipython3",
   "version": "3.8.5"
  }
 },
 "nbformat": 4,
 "nbformat_minor": 4
}
