{
 "cells": [
  {
   "cell_type": "code",
   "execution_count": 2,
   "metadata": {},
   "outputs": [
    {
     "name": "stdout",
     "output_type": "stream",
     "text": [
      "Univs = [['MIT', 'Caltech'], ['Harvard', 'Yale', 'Brown']]\n",
      "Univs1 = [['MIT', 'Caltech'], ['Harvard', 'Yale', 'Brown']]\n",
      "True\n",
      "Id of Univs = 2225121865408\n",
      "Id of Univs = 2225122373376\n"
     ]
    }
   ],
   "source": [
    "Techs=[\"MIT\", \"Caltech\"]\n",
    "Ivys = [\"Harvard\", \"Yale\", \"Brown\"]\n",
    "Univs=[Techs, Ivys]\n",
    "Univs1=[[\"MIT\", \"Caltech\"], [\"Harvard\", \"Yale\", \"Brown\"]]\n",
    "print(\"Univs =\", Univs)\n",
    "print('Univs1 =', Univs1)\n",
    "print(Univs == Univs1)\n",
    "print(\"Id of Univs =\", id(Univs))\n",
    "print(\"Id of Univs =\", id(Univs1))\n"
   ]
  },
  {
   "cell_type": "code",
   "execution_count": null,
   "metadata": {},
   "outputs": [],
   "source": []
  }
 ],
 "metadata": {
  "kernelspec": {
   "display_name": "Python 3",
   "language": "python",
   "name": "python3"
  },
  "language_info": {
   "codemirror_mode": {
    "name": "ipython",
    "version": 3
   },
   "file_extension": ".py",
   "mimetype": "text/x-python",
   "name": "python",
   "nbconvert_exporter": "python",
   "pygments_lexer": "ipython3",
   "version": "3.8.5"
  }
 },
 "nbformat": 4,
 "nbformat_minor": 4
}
