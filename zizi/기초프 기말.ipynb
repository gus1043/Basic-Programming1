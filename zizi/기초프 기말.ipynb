{
 "cells": [
  {
   "cell_type": "code",
   "execution_count": 4,
   "metadata": {},
   "outputs": [
    {
     "name": "stdout",
     "output_type": "stream",
     "text": [
      "[ 넓이 : 6.0]\n",
      "10.0\n",
      "[ 넓이 : 20.0]\n",
      "20\n",
      "25\n",
      "[ 한 변의 길이 : 5]\n",
      "[ 지름 : 20]\n",
      "314.0\n"
     ]
    }
   ],
   "source": [
    "class Shape(object):\n",
    "    \n",
    "    def __init__(self, width, height):\n",
    "        self.width = float(width)\n",
    "        self.height = float(height)\n",
    "        \n",
    "    def Area(self):\n",
    "        return self.width*self.height\n",
    "    \n",
    "    def __str__(self):\n",
    "        return \"[ 너비 : \"+str(self.width)+\", 높이 : \"+ str(self.height)+\"]\"\n",
    "    \n",
    "    def __lt__(self, other):\n",
    "        return self.Area() > other.Area()\n",
    "    \n",
    "    \n",
    "class Rectangle(Shape):\n",
    "    \n",
    "    def Circum(self):\n",
    "        return (self.width+self.height)*2\n",
    "    \n",
    "    def __str__(self):\n",
    "        return \"[ 넓이 : \"+str(self.Area())+\"]\"\n",
    "    \n",
    "        \n",
    "class Square(Shape):\n",
    "    \n",
    "    def __init__(self, width):\n",
    "        self.width = width\n",
    "        \n",
    "    def Circum(self):\n",
    "        return self.width*4\n",
    "    \n",
    "    def Area(self):\n",
    "        return self.width**2\n",
    "    \n",
    "    def __str__(self):\n",
    "        return \"[ 한 변의 길이 : \"+str(self.width)+\"]\"\n",
    "    \n",
    "\n",
    "class Circle(Shape):\n",
    "    \n",
    "    def __init__(self, radius):\n",
    "        self.radius = radius\n",
    "        \n",
    "    def Circum(self):\n",
    "        return 2*3.14*self.radius\n",
    "    \n",
    "    def Area(self):\n",
    "        return 3.14*(self.radius)**2\n",
    "    \n",
    "    def __str__(self):\n",
    "        return \"[ 지름 : \"+str( 2*self.radius )+\"]\"\n",
    "    \n",
    "    def __lt__(self, other):\n",
    "        return self.Area() < other.Area()\n",
    "\n",
    "r = Rectangle(2,3)\n",
    "print(r)\n",
    "r2 = Rectangle(4,5)\n",
    "print(r.Circum())\n",
    "print(r2)\n",
    "s=Square(5)\n",
    "print(s.Circum())\n",
    "print(s.Area())\n",
    "print(s)\n",
    "c = Circle(10)\n",
    "print(c)\n",
    "print(c.Area())\n"
   ]
  },
  {
   "cell_type": "code",
   "execution_count": 10,
   "metadata": {},
   "outputs": [],
   "source": [
    "class Triangle(Shape):\n",
    "    def Circum(self):\n",
    "        return self.width*3\n",
    "\n",
    "    def Area(self):\n",
    "        return self.width*self.height/2\n",
    "\n",
    "    def __str__(self):\n",
    "        return \"[ 넓이 : \" + self.Area() + \"]\"\n"
   ]
  },
  {
   "cell_type": "code",
   "execution_count": 11,
   "metadata": {},
   "outputs": [
    {
     "name": "stdout",
     "output_type": "stream",
     "text": [
      "Obama\n",
      "Hahn\n",
      "Kim\n",
      "Sayhee Hahn\n",
      "Barack Hassein Obama\n",
      "Boyung Kim\n",
      "Sayhee Hahn\n",
      "Boyung Kim\n",
      "Barack Hassein Obama\n"
     ]
    }
   ],
   "source": [
    "import datetime\n",
    "\n",
    "class Person(object):\n",
    "    def __init__(self, name):\n",
    "        \"\"\"create a person with name name\"\"\"\n",
    "        self.name = name\n",
    "        try:\n",
    "            lastBlank = name.rindex(' ')\n",
    "            self.lastName = name[lastBlank+1:]\n",
    "        except:\n",
    "            self.lastName = name\n",
    "        self.birthday = None\n",
    "        \n",
    "    def getLastName(self):\n",
    "        \"\"\"return self's last name\"\"\"\n",
    "        return self.lastName\n",
    "    def setBirthday(self, birthDate):\n",
    "        \"\"\"Assumes birthDate is of tupe datetime.date\n",
    "           set self's birthday to birthDate\"\"\"\n",
    "        self.birthday = birthDate\n",
    "    def getAge(self):\n",
    "        \"\"\"returns self's current age in days\"\"\"\n",
    "        if self.birthday == None:\n",
    "            raise ValueError\n",
    "        return (datetime.date.today() - self.birthday).days\n",
    "    def __lt__(self, other): \n",
    "        \"\"\"return True if self;s name is lexicographically\n",
    "           less than other's name, and False otherwise\"\"\"\n",
    "        if self.lastName == other.lastName:\n",
    "            return self.name < other.name\n",
    "        return self.lastName < other.lastName\n",
    "    def __str__(self):\n",
    "        \"\"\"return self's name\"\"\"\n",
    "        return self.name\n",
    "    \n",
    "me=Person(\"Sayhee Hahn\")\n",
    "him=Person(\"Barack Hassein Obama\")\n",
    "her=Person(\"Boyung Kim\")\n",
    "print(him.getLastName())\n",
    "print(me.getLastName())\n",
    "print(her.getLastName())\n",
    "him.setBirthday(datetime.date(1996, 8, 4))\n",
    "her.setBirthday(datetime.date(1996, 12, 30))\n",
    "\n",
    "pList = [me, him, her]\n",
    "for p in pList:\n",
    "    print(p)\n",
    "pList.sort()\n",
    "for p in pList:\n",
    "    print(p)"
   ]
  },
  {
   "cell_type": "code",
   "execution_count": 14,
   "metadata": {},
   "outputs": [
    {
     "name": "stdout",
     "output_type": "stream",
     "text": [
      "Jinyoung Bae's id number is 0\n",
      "Jihoon Min's if number is1\n",
      "p1 < p2 = True\n",
      "p3 < p2 = False\n",
      "p4 < p1 = False\n"
     ]
    }
   ],
   "source": [
    "class MITPerson(Person) :\n",
    "    nextIdNum = 0\n",
    "    def __init__(self, name):\n",
    "        Person.__init__(self, name)\n",
    "        self.idNum = MITPerson.nextIdNum\n",
    "        MITPerson.nextIdNum +=1\n",
    "    def getIdNum(self):\n",
    "        return self.idNum\n",
    "    def __lt__(self, other):\n",
    "        return self.idNum < other.idNum\n",
    "    \n",
    "p1 = MITPerson('Jinyoung Bae')\n",
    "print(str(p1) + '\\'s id number is ' + str(p1.getIdNum()))\n",
    "\n",
    "p1 = MITPerson(\"Jihoon Min\")\n",
    "p2 = MITPerson(\"Jiwoo Lee\")  #--> bind num 1\n",
    "p3 = MITPerson(\"Jiwoo Lee\")  #--> bine num 2\n",
    "p4 = MITPerson(\"Jiwoo Lee\")  #--> bind num 3\n",
    "\n",
    "print(str(p1) + '\\'s if number is' + str(p1.getIdNum()))\n",
    "print('p1 < p2 =', p1 < p2)\n",
    "print('p3 < p2 =', p3 < p2)\n",
    "print('p4 < p1 =', p4 < p1)"
   ]
  },
  {
   "cell_type": "code",
   "execution_count": 15,
   "metadata": {},
   "outputs": [
    {
     "name": "stdout",
     "output_type": "stream",
     "text": [
      "Soobin Sonh is a graduate student is True\n",
      "Soobin Sonh is an undergraduate student is False\n"
     ]
    }
   ],
   "source": [
    "class Student(MITPerson):\n",
    "    pass\n",
    "\n",
    "class UG(Student):\n",
    "    def __init__(self, name, classYear):\n",
    "        MITPerson.__init__(self, name)\n",
    "        self.year = classYear\n",
    "    def getClass(self):\n",
    "        return self.year\n",
    "        \n",
    "class Grad(Student) :\n",
    "    pass\n",
    "\n",
    "p5 = Grad(\"Soobin Sonh\")\n",
    "p6 = UG(\"Jooyoung Pyun\", 2020)\n",
    "print(p5, 'is a graduate student is', type(p5) == Grad)\n",
    "print (p5, 'is an undergraduate student is', type(p5)==UG)"
   ]
  },
  {
   "cell_type": "code",
   "execution_count": null,
   "metadata": {},
   "outputs": [],
   "source": []
  }
 ],
 "metadata": {
  "kernelspec": {
   "display_name": "Python 3",
   "language": "python",
   "name": "python3"
  },
  "language_info": {
   "codemirror_mode": {
    "name": "ipython",
    "version": 3
   },
   "file_extension": ".py",
   "mimetype": "text/x-python",
   "name": "python",
   "nbconvert_exporter": "python",
   "pygments_lexer": "ipython3",
   "version": "3.8.5"
  }
 },
 "nbformat": 4,
 "nbformat_minor": 4
}
