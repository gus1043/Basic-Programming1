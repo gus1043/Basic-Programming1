{
 "cells": [
  {
   "cell_type": "code",
   "execution_count": 7,
   "metadata": {},
   "outputs": [
    {
     "name": "stdout",
     "output_type": "stream",
     "text": [
      "input: [10, 20, 30, 'aaa']\n",
      "Cannot calculate invalid arguments.\n"
     ]
    }
   ],
   "source": [
    "def getAverage(vect):\n",
    "    avg = 0\n",
    "    \n",
    "    for elem in vect:\n",
    "        assert isinstance(elem, int), \"Cannot calculate invalid arguments.\"\n",
    "            \n",
    "    try:\n",
    "        avg /= len(vect)\n",
    "    except :\n",
    "        return float(\"nan\")\n",
    "    \n",
    "    return avg\n",
    "\n",
    "try:\n",
    "    lst=[10,20,30,\"aaa\"]\n",
    "    print(\"input: {}\".format(lst))\n",
    "    \n",
    "    avg = getAverage(lst)\n",
    "    print(\"Average result is {}\".format(avg))\n",
    "\n",
    "except ValueError as errorMsg:\n",
    "    print(errorMsg) \n",
    "except AssertionError as errorMsg:\n",
    "    print(errorMsg)\n",
    "except NameError as errorMsg:\n",
    "    print(errorMsg)"
   ]
  },
  {
   "cell_type": "code",
   "execution_count": 8,
   "metadata": {},
   "outputs": [
    {
     "name": "stdout",
     "output_type": "stream",
     "text": [
      "Input: [10, 20, 30, 40]\n",
      "Average result is  25.0\n"
     ]
    }
   ],
   "source": [
    "def getAverage(vect):\n",
    "    avg=0\n",
    "    \n",
    "    for elem in vect:\n",
    "        assert isinstance(elem, int), 'Cannot calculate invalid arguments.'          \n",
    "    \n",
    "    try:\n",
    "        avg =  sum(vect) / len(vect)                                    \n",
    "    except:     \n",
    "        return float(\"nan\")\n",
    "    \n",
    "    return avg\n",
    "        \n",
    "try:\n",
    "    lst=[10,20,30,40]\n",
    "    print(\"Input:\", format(lst))\n",
    "    \n",
    "    avg=getAverage(lst)\n",
    "    print(\"Average result is \",format(avg))\n",
    "    \n",
    "except ValueError as errorMsg:\n",
    "    print(errorMsg) \n",
    "except AssertionError as errorMsg:\n",
    "    print(errorMsg)\n",
    "except NameError as errorMsg:\n",
    "    print(errorMsg) "
   ]
  },
  {
   "cell_type": "code",
   "execution_count": null,
   "metadata": {},
   "outputs": [],
   "source": []
  },
  {
   "cell_type": "code",
   "execution_count": null,
   "metadata": {},
   "outputs": [],
   "source": []
  },
  {
   "cell_type": "code",
   "execution_count": null,
   "metadata": {},
   "outputs": [],
   "source": []
  },
  {
   "cell_type": "code",
   "execution_count": null,
   "metadata": {},
   "outputs": [],
   "source": []
  },
  {
   "cell_type": "code",
   "execution_count": null,
   "metadata": {},
   "outputs": [],
   "source": []
  },
  {
   "cell_type": "code",
   "execution_count": null,
   "metadata": {},
   "outputs": [],
   "source": []
  }
 ],
 "metadata": {
  "kernelspec": {
   "display_name": "Python 3",
   "language": "python",
   "name": "python3"
  },
  "language_info": {
   "codemirror_mode": {
    "name": "ipython",
    "version": 3
   },
   "file_extension": ".py",
   "mimetype": "text/x-python",
   "name": "python",
   "nbconvert_exporter": "python",
   "pygments_lexer": "ipython3",
   "version": "3.8.5"
  }
 },
 "nbformat": 4,
 "nbformat_minor": 4
}
