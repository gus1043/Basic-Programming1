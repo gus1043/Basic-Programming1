{
 "cells": [
  {
   "cell_type": "code",
   "execution_count": 3,
   "metadata": {},
   "outputs": [
    {
     "name": "stdout",
     "output_type": "stream",
     "text": [
      "학생 수:5\n",
      "성적 : 45\n",
      "성적 : 65\n",
      "성적 : 89\n",
      "성적 : 45\n",
      "성적 : 12\n",
      "89\n"
     ]
    }
   ],
   "source": [
    "cnt = int(input(\"학생 수:\"))\n",
    "n=cnt\n",
    "p=cnt\n",
    "scores=[]\n",
    "while cnt>0:\n",
    "    x= input(\"성적 : \")\n",
    "    scores.append(int(x))\n",
    "    cnt-=1\n",
    "    \n",
    "def find_max(scores):\n",
    "    max_val = scores[0]\n",
    "    for i in scores:\n",
    "        if i > max_val:\n",
    "            max_val = i\n",
    "    return max_val\n",
    "\n",
    "print(find_max(scores))"
   ]
  },
  {
   "cell_type": "code",
   "execution_count": null,
   "metadata": {},
   "outputs": [],
   "source": []
  },
  {
   "cell_type": "code",
   "execution_count": null,
   "metadata": {},
   "outputs": [],
   "source": []
  },
  {
   "cell_type": "code",
   "execution_count": null,
   "metadata": {},
   "outputs": [],
   "source": []
  }
 ],
 "metadata": {
  "kernelspec": {
   "display_name": "Python 3",
   "language": "python",
   "name": "python3"
  },
  "language_info": {
   "codemirror_mode": {
    "name": "ipython",
    "version": 3
   },
   "file_extension": ".py",
   "mimetype": "text/x-python",
   "name": "python",
   "nbconvert_exporter": "python",
   "pygments_lexer": "ipython3",
   "version": "3.8.5"
  }
 },
 "nbformat": 4,
 "nbformat_minor": 4
}
