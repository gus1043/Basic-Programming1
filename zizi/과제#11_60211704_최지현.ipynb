{
 "cells": [
  {
   "cell_type": "code",
   "execution_count": 1,
   "metadata": {},
   "outputs": [
    {
     "name": "stdout",
     "output_type": "stream",
     "text": [
      "Customer 1 is abc@abc.com\n",
      "Customer 2 is def@def.com\n",
      "Customer 3 is hello@world.com\n",
      "Customer 1's id is 0\n",
      "Customer 2's id is 1\n",
      "Customer 3's id is 2\n",
      "Customer 1 sign-in True\n",
      "'Already signed out.'\n",
      "Customer 3 sign-in False\n"
     ]
    }
   ],
   "source": [
    "class LoggedError(Exception):\n",
    "    def __init__(self, value):\n",
    "        self.value = value\n",
    "        \n",
    "    def __str__(self):\n",
    "        return repr(self.value)\n",
    "    \n",
    "class Member(object):\n",
    "    nextid = 0\n",
    "    def __init__(self):\n",
    "        self.id = Member.nextid\n",
    "        Member.nextid += 1\n",
    "    def getid(self):\n",
    "        return self.id\n",
    "\n",
    "class Customer(Member):\n",
    "    def __init__(self, email, password):\n",
    "        self.id = Member.nextid\n",
    "        Member.nextid += 1\n",
    "        self.email = email\n",
    "        self.password = password\n",
    "        self.logged = False\n",
    "\n",
    "    def signin(self, email, password):\n",
    "        if not self.logged:\n",
    "            if self.email == email and self.password == password:\n",
    "                self.logged = True\n",
    "                return True\n",
    "            else:\n",
    "                return False\n",
    "        else:\n",
    "            raise LoggedError(\"Already signed in.\")\n",
    "\n",
    "    def signout(self):\n",
    "        if self.logged:\n",
    "            self.logged = False\n",
    "        else:\n",
    "            raise LoggedError(\"Already signed out.\")\n",
    "\n",
    "    def __str__(self):\n",
    "        return self.email\n",
    "\n",
    "    \n",
    "c1 = Customer(\"abc@abc.com\", \"12341234\")\n",
    "c2 = Customer(\"def@def.com\", \"56785678\")\n",
    "c3 = Customer(\"hello@world.com\", \"qwerty\")\n",
    "\n",
    "print(\"Customer 1 is {}\".format(c1))\n",
    "print(\"Customer 2 is {}\".format(c2))\n",
    "print(\"Customer 3 is {}\".format(c3))\n",
    "print(\"Customer 1's id is {}\".format(c1.getid()))\n",
    "print(\"Customer 2's id is {}\".format(c2.getid()))\n",
    "print(\"Customer 3's id is {}\".format(c3.getid()))\n",
    "\n",
    "try:\n",
    "    print(\"Customer 1 sign-in {}\".format(c1.signin(\"abc@abc.com\",\"12341234\")))\n",
    "except LoggedError as e :\n",
    "    print(e)\n",
    "    \n",
    "try:\n",
    "    print(\"Customer 2 sign-out {}\".format(c2.signout()))\n",
    "except LoggedError as e :\n",
    "    print(e)\n",
    "    \n",
    "try:\n",
    "    print(\"Customer 3 sign-in {}\".format(c3.signin(\"abc@abc.com\", \"12341234\")))\n",
    "except LoggedError as e :\n",
    "    print(e)"
   ]
  },
  {
   "cell_type": "code",
   "execution_count": null,
   "metadata": {},
   "outputs": [],
   "source": []
  }
 ],
 "metadata": {
  "kernelspec": {
   "display_name": "Python 3",
   "language": "python",
   "name": "python3"
  },
  "language_info": {
   "codemirror_mode": {
    "name": "ipython",
    "version": 3
   },
   "file_extension": ".py",
   "mimetype": "text/x-python",
   "name": "python",
   "nbconvert_exporter": "python",
   "pygments_lexer": "ipython3",
   "version": "3.8.5"
  }
 },
 "nbformat": 4,
 "nbformat_minor": 4
}
