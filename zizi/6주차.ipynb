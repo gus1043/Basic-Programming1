{
 "cells": [
  {
   "cell_type": "code",
   "execution_count": 1,
   "metadata": {},
   "outputs": [
    {
     "name": "stdout",
     "output_type": "stream",
     "text": [
      "Olga Puchmajerova\n",
      "Puchmajerova, Olga\n",
      "Puchmajerova, Olga\n"
     ]
    }
   ],
   "source": [
    "def printName(firstName, lastName, reverse=False):\n",
    "    if reverse:\n",
    "        print(lastName + \", \" + firstName)\n",
    "    else:\n",
    "        print(firstName, lastName)\n",
    "        \n",
    "printName('Olga', 'Puchmajerova')\n",
    "printName('Olga', 'Puchmajerova', True)\n",
    "printName('Olga', 'Puchmajerova', reverse=True)"
   ]
  },
  {
   "cell_type": "code",
   "execution_count": 2,
   "metadata": {},
   "outputs": [
    {
     "ename": "TypeError",
     "evalue": "printName() got multiple values for argument 'lastName'",
     "output_type": "error",
     "traceback": [
      "\u001b[1;31m---------------------------------------------------------------------------\u001b[0m",
      "\u001b[1;31mTypeError\u001b[0m                                 Traceback (most recent call last)",
      "\u001b[1;32m<ipython-input-2-c84eb88a5f1c>\u001b[0m in \u001b[0;36m<module>\u001b[1;34m\u001b[0m\n\u001b[0;32m      5\u001b[0m         \u001b[0mprint\u001b[0m\u001b[1;33m(\u001b[0m\u001b[0mfirstName\u001b[0m\u001b[1;33m,\u001b[0m \u001b[0mlastName\u001b[0m\u001b[1;33m)\u001b[0m\u001b[1;33m\u001b[0m\u001b[1;33m\u001b[0m\u001b[0m\n\u001b[0;32m      6\u001b[0m \u001b[1;33m\u001b[0m\u001b[0m\n\u001b[1;32m----> 7\u001b[1;33m \u001b[0mprintName\u001b[0m\u001b[1;33m(\u001b[0m\u001b[1;34m'Olga'\u001b[0m\u001b[1;33m,\u001b[0m \u001b[1;32mTrue\u001b[0m\u001b[1;33m,\u001b[0m \u001b[0mlastName\u001b[0m\u001b[1;33m=\u001b[0m\u001b[1;34m'Puchmajerova'\u001b[0m\u001b[1;33m)\u001b[0m\u001b[1;33m\u001b[0m\u001b[1;33m\u001b[0m\u001b[0m\n\u001b[0m",
      "\u001b[1;31mTypeError\u001b[0m: printName() got multiple values for argument 'lastName'"
     ]
    }
   ],
   "source": [
    "def printName(firstName, lastName, reverse=False):\n",
    "    if reverse:\n",
    "        print(lastName + \", \" + firstName)\n",
    "    else:\n",
    "        print(firstName, lastName)\n",
    "    \n",
    "printName('Olga', True, lastName='Puchmajerova')"
   ]
  },
  {
   "cell_type": "code",
   "execution_count": 4,
   "metadata": {},
   "outputs": [],
   "source": [
    "def min(x,y):\n",
    "    if x>y:\n",
    "        return y\n",
    "    else:\n",
    "        return x"
   ]
  },
  {
   "cell_type": "code",
   "execution_count": 5,
   "metadata": {},
   "outputs": [
    {
     "name": "stdout",
     "output_type": "stream",
     "text": [
      "x= 4\n",
      "z= 4\n",
      "x= 3\n",
      "y= 2\n"
     ]
    }
   ],
   "source": [
    "def f(x):\n",
    "    y=1\n",
    "    x=x+y\n",
    "    print ('x=', x)\n",
    "    return x\n",
    "x=3\n",
    "y=2\n",
    "z=f(x)\n",
    "print('z=',z)\n",
    "print('x=',x)\n",
    "print('y=', y)"
   ]
  },
  {
   "cell_type": "code",
   "execution_count": 2,
   "metadata": {},
   "outputs": [
    {
     "name": "stdout",
     "output_type": "stream",
     "text": [
      "x= 4\n",
      "z= 4\n",
      "x= abc\n",
      "x= 4\n",
      "x= 3\n",
      "z= <function f.<locals>.g at 0x000001EA65E768B0>\n",
      "x= abc\n"
     ]
    }
   ],
   "source": [
    "def f(x):\n",
    "    def g():\n",
    "        x='abc'\n",
    "        print ('x=', x)\n",
    "    def h():\n",
    "        z=x\n",
    "        print('z=',z)\n",
    "    x=x+1\n",
    "    print ('x=',x)\n",
    "    h()\n",
    "    g()\n",
    "    print('x=',x)\n",
    "    return (g)\n",
    "x=3\n",
    "z=f(x)\n",
    "print('x=',x)\n",
    "print('z=',z)\n",
    "z()"
   ]
  },
  {
   "cell_type": "code",
   "execution_count": 5,
   "metadata": {},
   "outputs": [
    {
     "name": "stdout",
     "output_type": "stream",
     "text": [
      "input two numbers :\n",
      "5\n",
      "7\n",
      "Result is 12\n"
     ]
    }
   ],
   "source": [
    "def my_plus(x,y):\n",
    "    return x+y\n",
    "\n",
    "print('input two numbers :')\n",
    "x=int(input())\n",
    "y=int(input())\n",
    "\n",
    "print('Result is', my_plus(x,y))"
   ]
  },
  {
   "cell_type": "code",
   "execution_count": 8,
   "metadata": {},
   "outputs": [
    {
     "name": "stdout",
     "output_type": "stream",
     "text": [
      "input two numvers : \n",
      "5\n",
      "7\n",
      "Result is -2\n",
      "Result is 35\n",
      "Result is 0.7142857142857143\n"
     ]
    }
   ],
   "source": [
    "def my_minus(x,y):\n",
    "    return x-y\n",
    "\n",
    "def my_multiply(x,y):\n",
    "    return x*y\n",
    "\n",
    "def my_division(x,y):\n",
    "    return x/y\n",
    "\n",
    "print('input two numvers : ')\n",
    "x=int(input())\n",
    "y=int(input())\n",
    "\n",
    "print('Result is', my_minus(x,y))\n",
    "print('Result is', my_multiply(x,y))\n",
    "print('Result is', my_division(x,y))"
   ]
  },
  {
   "cell_type": "code",
   "execution_count": 2,
   "metadata": {},
   "outputs": [
    {
     "name": "stdout",
     "output_type": "stream",
     "text": [
      "input two numbers : \n",
      "*\n"
     ]
    },
    {
     "ename": "ValueError",
     "evalue": "invalid literal for int() with base 10: '*'",
     "output_type": "error",
     "traceback": [
      "\u001b[1;31m---------------------------------------------------------------------------\u001b[0m",
      "\u001b[1;31mValueError\u001b[0m                                Traceback (most recent call last)",
      "\u001b[1;32m<ipython-input-2-49c8a292bbc0>\u001b[0m in \u001b[0;36m<module>\u001b[1;34m\u001b[0m\n\u001b[0;32m     22\u001b[0m \u001b[1;33m\u001b[0m\u001b[0m\n\u001b[0;32m     23\u001b[0m \u001b[0mprint\u001b[0m\u001b[1;33m(\u001b[0m\u001b[1;34m'input two numbers : '\u001b[0m\u001b[1;33m)\u001b[0m\u001b[1;33m\u001b[0m\u001b[1;33m\u001b[0m\u001b[0m\n\u001b[1;32m---> 24\u001b[1;33m \u001b[0mx\u001b[0m\u001b[1;33m=\u001b[0m\u001b[0mint\u001b[0m\u001b[1;33m(\u001b[0m\u001b[0minput\u001b[0m\u001b[1;33m(\u001b[0m\u001b[1;33m)\u001b[0m\u001b[1;33m)\u001b[0m\u001b[1;33m\u001b[0m\u001b[1;33m\u001b[0m\u001b[0m\n\u001b[0m\u001b[0;32m     25\u001b[0m \u001b[0my\u001b[0m\u001b[1;33m=\u001b[0m\u001b[0mint\u001b[0m\u001b[1;33m(\u001b[0m\u001b[0minput\u001b[0m\u001b[1;33m(\u001b[0m\u001b[1;33m)\u001b[0m\u001b[1;33m)\u001b[0m\u001b[1;33m\u001b[0m\u001b[1;33m\u001b[0m\u001b[0m\n\u001b[0;32m     26\u001b[0m \u001b[0mopcode\u001b[0m\u001b[1;33m=\u001b[0m\u001b[0minput\u001b[0m\u001b[1;33m(\u001b[0m\u001b[1;34m'input operation: '\u001b[0m\u001b[1;33m)\u001b[0m\u001b[1;33m\u001b[0m\u001b[1;33m\u001b[0m\u001b[0m\n",
      "\u001b[1;31mValueError\u001b[0m: invalid literal for int() with base 10: '*'"
     ]
    }
   ],
   "source": [
    "def my_plus(x,y):\n",
    "    return x+y\n",
    "\n",
    "def my_minus(x,y):\n",
    "    return x-y\n",
    "\n",
    "def my_multiply(x,y):\n",
    "    return x*y\n",
    "\n",
    "def my_division(x,y):\n",
    "    return x/y\n",
    "\n",
    "def my_calculate (x,y,opcode='+'):\n",
    "    if (opcode=='-'):\n",
    "        return my_minus(x,y)\n",
    "    elif (opcode=='*'):\n",
    "        return my_multiply(x,y)\n",
    "    elif (opcode=='/'):\n",
    "        return my_division(x,y)\n",
    "    else:\n",
    "        return my_plus(x,y)\n",
    "\n",
    "print('input two numbers : ')\n",
    "x=int(input())\n",
    "y=int(input())\n",
    "opcode=input('input operation: ')\n",
    "\n",
    "print('Result is', my_calculate(x,y,opcode))"
   ]
  },
  {
   "cell_type": "code",
   "execution_count": null,
   "metadata": {},
   "outputs": [],
   "source": []
  },
  {
   "cell_type": "code",
   "execution_count": 36,
   "metadata": {},
   "outputs": [
    {
     "ename": "SyntaxError",
     "evalue": "invalid syntax (<ipython-input-36-696b1fdf0ed7>, line 26)",
     "output_type": "error",
     "traceback": [
      "\u001b[1;36m  File \u001b[1;32m\"<ipython-input-36-696b1fdf0ed7>\"\u001b[1;36m, line \u001b[1;32m26\u001b[0m\n\u001b[1;33m    ...??==False\u001b[0m\n\u001b[1;37m       ^\u001b[0m\n\u001b[1;31mSyntaxError\u001b[0m\u001b[1;31m:\u001b[0m invalid syntax\n"
     ]
    }
   ],
   "source": [
    "def my_plus(x,y):\n",
    "    return x+y\n",
    "\n",
    "def my_minus(x,y):\n",
    "    return x-y\n",
    "\n",
    "def my_multiply(x,y):\n",
    "    return x*y\n",
    "\n",
    "def my_division(x,y):\n",
    "    return x/y\n",
    "\n",
    "def my_calculate (x,y,opcode='+'):\n",
    "    if (opcode=='-'):\n",
    "        return my_minus(x,y)\n",
    "    elif (opcode=='*'):\n",
    "        return my_multiply(x,y)\n",
    "    elif (opcode=='/'):\n",
    "        return my_division(x,y)\n",
    "    else:\n",
    "        return my_plus(x,y)\n",
    "\n",
    "def isint(x):\n",
    "    for c in x:\n",
    "        if c in '0123456789':\n",
    "            ...??==False\n",
    "        else:\n",
    "            ...??==True\n",
    "            break\n",
    "        return ...??\n",
    "    \n",
    "def inputint(s):\n",
    "    while ... :\n",
    "        x=input('Enter an integer:')\n",
    "        ans=isint(x) #ans-->True or False\n",
    "        if...:\n",
    "            \n",
    "        else:\n",
    "            print ('Wrong integer! Input the second integer again')\n",
    "    return x\n",
    "\n",
    "def isOp():\n",
    "    for a in ():\n",
    "        if a in '+-*/'\n",
    "        \n",
    "def inputOp():\n",
    "    while  :\n",
    "        x=input('Enter an integer:')\n",
    "\n",
    "    \n",
    "x=inputint('first')\n",
    "y=inputint('second')\n",
    "Op=inputOp()\n",
    "print(str(x)+Op+str(y), 'is' , my_calculate(x,y,Op))\n"
   ]
  },
  {
   "cell_type": "code",
   "execution_count": null,
   "metadata": {},
   "outputs": [],
   "source": [
    "def my_plus(x,y):\n",
    "    return x+y\n",
    "\n",
    "def my_minus(x,y):\n",
    "    return x-y\n",
    "\n",
    "def my_multiply(x,y):\n",
    "    return x*y\n",
    "\n",
    "def my_division(x,y):\n",
    "    return x/y\n",
    "\n",
    "def my_calculate (x,y,opcode='+'):\n",
    "    if (opcode=='-'):\n",
    "        return my_minus(x,y)\n",
    "    elif (opcode=='*'):\n",
    "        return my_multiply(x,y)\n",
    "    elif (opcode=='/'):\n",
    "        return my_division(x,y)\n",
    "    else:\n",
    "        return my_plus(x,y)\n",
    "\n",
    "def isint(x):\n",
    "    for c in x:\n",
    "        if c in '0123456789':\n",
    "            ...??==False\n",
    "        else:\n",
    "            ...??==True\n",
    "            break\n",
    "        return ...??\n",
    "    \n",
    "def inputint(s):\n",
    "    while (isint(x)):\n",
    "        x=input('Enter an integer:')\n",
    "        ans=isint(x) #ans-->True or False\n",
    "        if...:\n",
    "            \n",
    "        else:\n",
    "            print ('Wrong integer! Input the second integer again')\n",
    "    return x\n",
    "\n",
    "def isOp():\n",
    "    for a in ():\n",
    "        if a in '+-*/'\n",
    "        \n",
    "def inputOp():\n",
    "    while  :\n",
    "        x=input('Enter an integer:')\n",
    "\n",
    "    \n",
    "x=inputint('first')\n",
    "y=inputint('second')\n",
    "Op=inputOp()\n",
    "print(str(x)+Op+str(y), 'is' , my_calculate(x,y,Op))\n"
   ]
  },
  {
   "cell_type": "code",
   "execution_count": 44,
   "metadata": {},
   "outputs": [
    {
     "ename": "IndentationError",
     "evalue": "expected an indented block (<ipython-input-44-f290c358bd79>, line 39)",
     "output_type": "error",
     "traceback": [
      "\u001b[1;36m  File \u001b[1;32m\"<ipython-input-44-f290c358bd79>\"\u001b[1;36m, line \u001b[1;32m39\u001b[0m\n\u001b[1;33m    else ans==False:\u001b[0m\n\u001b[1;37m    ^\u001b[0m\n\u001b[1;31mIndentationError\u001b[0m\u001b[1;31m:\u001b[0m expected an indented block\n"
     ]
    }
   ],
   "source": []
  },
  {
   "cell_type": "code",
   "execution_count": null,
   "metadata": {},
   "outputs": [],
   "source": []
  },
  {
   "cell_type": "code",
   "execution_count": 74,
   "metadata": {},
   "outputs": [
    {
     "ename": "SyntaxError",
     "evalue": "invalid syntax (<ipython-input-74-48e5eec3368e>, line 27)",
     "output_type": "error",
     "traceback": [
      "\u001b[1;36m  File \u001b[1;32m\"<ipython-input-74-48e5eec3368e>\"\u001b[1;36m, line \u001b[1;32m27\u001b[0m\n\u001b[1;33m    ...??==False\u001b[0m\n\u001b[1;37m       ^\u001b[0m\n\u001b[1;31mSyntaxError\u001b[0m\u001b[1;31m:\u001b[0m invalid syntax\n"
     ]
    }
   ],
   "source": [
    "def my_plus(x,y):\n",
    "    return x+y\n",
    "\n",
    "def my_minus(x,y):\n",
    "    return x-y\n",
    "\n",
    "def my_multiply(x,y):\n",
    "    return x*y\n",
    "\n",
    "def my_division(x,y):\n",
    "    return x/y\n",
    "\n",
    "def my_calculate (x,y,opcode='+'):\n",
    "    if (opcode=='-'):\n",
    "        return my_minus(x,y)\n",
    "    elif (opcode=='*'):\n",
    "        return my_multiply(x,y)\n",
    "    elif (opcode=='/'):\n",
    "        return my_division(x,y)\n",
    "    else:\n",
    "        return my_plus(x,y)\n",
    "\n",
    "\n",
    "def isint(x):\n",
    "    for c in x:\n",
    "        if c in '0123456789':\n",
    "            ...??==False\n",
    "        else:\n",
    "            ...??==True\n",
    "            break\n",
    "        return ...??\n",
    "    \n",
    "def inputint(s):\n",
    "    while (!isint(x)):\n",
    "        x=input('Enter an integer:')\n",
    "        ans=isint(x) #ans-->True or False\n",
    "        prit('Wrong integer! input the')\n",
    "        \n",
    "def isOp(x):\n",
    "    for a in (x):\n",
    "        if a in '+-*/':\n",
    "            \n",
    "        \n",
    "def inputOp():\n",
    "    while  :\n",
    "        x=input('Enter an integer:')\n",
    "\n",
    "    \n",
    "x=inputint('first')\n",
    "y=inputint('second')\n",
    "Op=inputOp()\n",
    "print(str(x)+Op+str(y), 'is' , my_calculate(x,y,Op))\n"
   ]
  },
  {
   "cell_type": "code",
   "execution_count": null,
   "metadata": {},
   "outputs": [],
   "source": []
  },
  {
   "cell_type": "code",
   "execution_count": null,
   "metadata": {},
   "outputs": [],
   "source": []
  },
  {
   "cell_type": "code",
   "execution_count": 51,
   "metadata": {},
   "outputs": [
    {
     "name": "stdout",
     "output_type": "stream",
     "text": [
      "enter hour:45\n",
      "enter rate:10\n",
      "pay : 475.0\n"
     ]
    }
   ],
   "source": [
    "def computepay (x,y):\n",
    "    if x>40:\n",
    "        return (40*y+((x-40)*y*1.5))\n",
    "\n",
    "x=int(input('enter hour:'))\n",
    "y=int(input('enter rate:'))\n",
    "print('pay :', computepay(x,y))"
   ]
  },
  {
   "cell_type": "code",
   "execution_count": 52,
   "metadata": {},
   "outputs": [
    {
     "name": "stdout",
     "output_type": "stream",
     "text": [
      "enter hour:45\n",
      "enter rate:10\n",
      "pay : 401.6875\n"
     ]
    }
   ],
   "source": [
    "while"
   ]
  },
  {
   "cell_type": "code",
   "execution_count": 60,
   "metadata": {},
   "outputs": [
    {
     "ename": "UnboundLocalError",
     "evalue": "local variable 'x' referenced before assignment",
     "output_type": "error",
     "traceback": [
      "\u001b[1;31m---------------------------------------------------------------------------\u001b[0m",
      "\u001b[1;31mUnboundLocalError\u001b[0m                         Traceback (most recent call last)",
      "\u001b[1;32m<ipython-input-60-9d6d8d5f15b4>\u001b[0m in \u001b[0;36m<module>\u001b[1;34m\u001b[0m\n\u001b[0;32m     57\u001b[0m \u001b[1;33m\u001b[0m\u001b[0m\n\u001b[0;32m     58\u001b[0m \u001b[1;33m\u001b[0m\u001b[0m\n\u001b[1;32m---> 59\u001b[1;33m \u001b[0mx\u001b[0m\u001b[1;33m=\u001b[0m\u001b[0minputint\u001b[0m\u001b[1;33m(\u001b[0m\u001b[1;34m'first'\u001b[0m\u001b[1;33m)\u001b[0m\u001b[1;33m\u001b[0m\u001b[1;33m\u001b[0m\u001b[0m\n\u001b[0m\u001b[0;32m     60\u001b[0m \u001b[0my\u001b[0m\u001b[1;33m=\u001b[0m\u001b[0minputint\u001b[0m\u001b[1;33m(\u001b[0m\u001b[1;34m'second'\u001b[0m\u001b[1;33m)\u001b[0m\u001b[1;33m\u001b[0m\u001b[1;33m\u001b[0m\u001b[0m\n\u001b[0;32m     61\u001b[0m \u001b[0mOp\u001b[0m\u001b[1;33m=\u001b[0m\u001b[0minputOp\u001b[0m\u001b[1;33m(\u001b[0m\u001b[1;33m)\u001b[0m\u001b[1;33m\u001b[0m\u001b[1;33m\u001b[0m\u001b[0m\n",
      "\u001b[1;32m<ipython-input-60-9d6d8d5f15b4>\u001b[0m in \u001b[0;36minputint\u001b[1;34m(s)\u001b[0m\n\u001b[0;32m     32\u001b[0m \u001b[1;33m\u001b[0m\u001b[0m\n\u001b[0;32m     33\u001b[0m \u001b[1;32mdef\u001b[0m \u001b[0minputint\u001b[0m\u001b[1;33m(\u001b[0m\u001b[0ms\u001b[0m\u001b[1;33m)\u001b[0m\u001b[1;33m:\u001b[0m\u001b[1;33m\u001b[0m\u001b[1;33m\u001b[0m\u001b[0m\n\u001b[1;32m---> 34\u001b[1;33m     \u001b[1;32mwhile\u001b[0m \u001b[1;33m(\u001b[0m\u001b[0misint\u001b[0m\u001b[1;33m(\u001b[0m\u001b[0mx\u001b[0m\u001b[1;33m)\u001b[0m\u001b[1;33m)\u001b[0m\u001b[1;33m:\u001b[0m\u001b[1;33m\u001b[0m\u001b[1;33m\u001b[0m\u001b[0m\n\u001b[0m\u001b[0;32m     35\u001b[0m         \u001b[0mx\u001b[0m\u001b[1;33m=\u001b[0m\u001b[0minput\u001b[0m\u001b[1;33m(\u001b[0m\u001b[1;34m'Enter an integer:'\u001b[0m\u001b[1;33m)\u001b[0m\u001b[1;33m\u001b[0m\u001b[1;33m\u001b[0m\u001b[0m\n\u001b[0;32m     36\u001b[0m         \u001b[0mans\u001b[0m\u001b[1;33m=\u001b[0m\u001b[0misint\u001b[0m\u001b[1;33m(\u001b[0m\u001b[0mx\u001b[0m\u001b[1;33m)\u001b[0m \u001b[1;31m#ans-->True or False\u001b[0m\u001b[1;33m\u001b[0m\u001b[1;33m\u001b[0m\u001b[0m\n",
      "\u001b[1;31mUnboundLocalError\u001b[0m: local variable 'x' referenced before assignment"
     ]
    }
   ],
   "source": [
    "def my_plus(x,y):\n",
    "    return x+y\n",
    "\n",
    "def my_minus(x,y):\n",
    "    return x-y\n",
    "\n",
    "def my_multiply(x,y):\n",
    "    return x*y\n",
    "\n",
    "def my_division(x,y):\n",
    "    return x/y\n",
    "\n",
    "def my_calculate (x,y,opcode='+'):\n",
    "    if (opcode=='-'):\n",
    "        return my_minus(x,y)\n",
    "    elif (opcode=='*'):\n",
    "        return my_multiply(x,y)\n",
    "    elif (opcode=='/'):\n",
    "        return my_division(x,y)\n",
    "    else:\n",
    "        return my_plus(x,y)\n",
    "\n",
    "\n",
    "def isint(x):\n",
    "    for c in x:\n",
    "        if c in '0123456789':\n",
    "            x==False\n",
    "        else:\n",
    "            x==True\n",
    "            break\n",
    "        return inputint\n",
    "    \n",
    "def inputint(s):\n",
    "    while (isint(x)):\n",
    "        x=input('Enter an integer:')\n",
    "        ans=isint(x) #ans-->True or False\n",
    "        prit('Wrong integer! input the integer again')\n",
    "    return int(x)\n",
    "     \n",
    "    \n",
    "def isOp(x):\n",
    "    for a in (x):\n",
    "        if a in '+-*/':\n",
    "            x==False\n",
    "        else: \n",
    "            x==True\n",
    "            break\n",
    "        return inoutOp\n",
    "            \n",
    "        \n",
    "def inputOp():\n",
    "    while True :\n",
    "        x=input('Enter an integer:')\n",
    "        if isOp(x):\n",
    "            return x\n",
    "        print ('Wrong Operation! Input the operation again!')\n",
    "\n",
    "    \n",
    "x=inputint('first')\n",
    "y=inputint('second')\n",
    "Op=inputOp()\n",
    "print(str(x)+Op+str(y), 'is' , my_calculate(x,y,Op))"
   ]
  },
  {
   "cell_type": "code",
   "execution_count": null,
   "metadata": {},
   "outputs": [],
   "source": []
  },
  {
   "cell_type": "code",
   "execution_count": null,
   "metadata": {},
   "outputs": [],
   "source": []
  },
  {
   "cell_type": "code",
   "execution_count": null,
   "metadata": {},
   "outputs": [],
   "source": []
  },
  {
   "cell_type": "code",
   "execution_count": null,
   "metadata": {},
   "outputs": [],
   "source": []
  },
  {
   "cell_type": "code",
   "execution_count": null,
   "metadata": {},
   "outputs": [],
   "source": []
  },
  {
   "cell_type": "code",
   "execution_count": null,
   "metadata": {},
   "outputs": [],
   "source": []
  },
  {
   "cell_type": "code",
   "execution_count": null,
   "metadata": {},
   "outputs": [],
   "source": []
  },
  {
   "cell_type": "code",
   "execution_count": 73,
   "metadata": {},
   "outputs": [
    {
     "name": "stdout",
     "output_type": "stream",
     "text": [
      "Enter an First integer: 45\n",
      "Enter an Second integer: 54\n",
      "Enter Operation: 8\n",
      "Wrong Operation! Input the operation again!\n",
      "\n",
      "Enter Operation: -\n",
      "45-54 is -9\n"
     ]
    }
   ],
   "source": [
    "def my_plus(x,y):\n",
    "    return x+y\n",
    "\n",
    "def my_minus(x,y):\n",
    "    return x-y\n",
    "\n",
    "def my_multiply(x,y):\n",
    "    return x*y\n",
    "\n",
    "def my_division(x,y):\n",
    "    return x/y\n",
    "\n",
    "def my_calculate (x,y,opcode='+'):\n",
    "    if (opcode=='-'):my\n",
    "        return my_minus(x,y)\n",
    "    elif (opcode=='*'):\n",
    "        return my_multiply(x,y)\n",
    "    elif (opcode=='/'):\n",
    "        return my_division(x,y)\n",
    "    else:\n",
    "        return my_plus(x,y)\n",
    "\n",
    "def inputint(s):\n",
    "    while isint(x):\n",
    "        x=input('Enter an integer:')\n",
    "        ans=isint(x) #ans-->True or False\n",
    "        prit('Wrong integer! input the integer again')\n",
    "    return int(x)    \n",
    "    \n",
    "def inputOp():\n",
    "    while isOp(x) :\n",
    "        Op=input('Enter an integer:')\n",
    "        ans=isOp(x)\n",
    "        print ('Wrong Operation! Input the operation again!')\n",
    "    return Op\n",
    "       \n",
    "\n",
    "        \n",
    "def isint(x):\n",
    "    for c in x:\n",
    "        if c in '0123456789':\n",
    "            inputint(s)==False\n",
    "        else:\n",
    "            inputint(s)==True\n",
    "            break\n",
    "        return inputint\n",
    "    \n",
    "\n",
    "    \n",
    "def isOp(x):\n",
    "    for a in (x):\n",
    "        if a in '+-*/':\n",
    "            x==False\n",
    "        else: \n",
    "            x==True\n",
    "            break\n",
    "        return inputOp\n",
    "\n",
    "    \n",
    "x = InputInt(\"First\")\n",
    "y = InputInt(\"Second\")\n",
    "Op = InputOp()\n",
    "\n",
    "print(str(x)+Op+str(y), 'is' , my_calculate(x,y,Op))"
   ]
  },
  {
   "cell_type": "code",
   "execution_count": null,
   "metadata": {},
   "outputs": [],
   "source": []
  },
  {
   "cell_type": "code",
   "execution_count": null,
   "metadata": {},
   "outputs": [],
   "source": []
  },
  {
   "cell_type": "code",
   "execution_count": null,
   "metadata": {},
   "outputs": [],
   "source": []
  },
  {
   "cell_type": "code",
   "execution_count": null,
   "metadata": {},
   "outputs": [],
   "source": []
  },
  {
   "cell_type": "code",
   "execution_count": null,
   "metadata": {},
   "outputs": [],
   "source": []
  },
  {
   "cell_type": "code",
   "execution_count": null,
   "metadata": {},
   "outputs": [],
   "source": []
  },
  {
   "cell_type": "code",
   "execution_count": null,
   "metadata": {},
   "outputs": [],
   "source": []
  },
  {
   "cell_type": "code",
   "execution_count": null,
   "metadata": {},
   "outputs": [],
   "source": []
  },
  {
   "cell_type": "code",
   "execution_count": null,
   "metadata": {},
   "outputs": [],
   "source": []
  },
  {
   "cell_type": "code",
   "execution_count": null,
   "metadata": {},
   "outputs": [],
   "source": []
  },
  {
   "cell_type": "code",
   "execution_count": null,
   "metadata": {},
   "outputs": [],
   "source": [
    "def my_plus(x,y):\n",
    "    return x + y\n",
    "def my_minus(x,y):\n",
    "    return x - y\n",
    "def my_mul(x,y):\n",
    "    return x * y\n",
    "def my_div(x,y):\n",
    "    return x / y\n",
    "def my_calculate(x,y,op='+'):\n",
    "    if op == '+':\n",
    "        return my_plus(x,y)\n",
    "    elif op == '-':\n",
    "        return my_minus(x,y)\n",
    "    elif op == '*':\n",
    "        return my_mul(x,y)\n",
    "    elif op == '/':\n",
    "        return my_div(x,y)\n",
    "    else:\n",
    "        return my_plus(x,y)\n",
    "    \n",
    "def isInt(x):\n",
    "    try:\n",
    "        x=int(x)\n",
    "    except ValueError:\n",
    "        return False\n",
    "    return True\n",
    "\n",
    "def InputInt(s):\n",
    "    while True:\n",
    "        i = input(\"Enter an %s integer: \" % s)\n",
    "        if isInt(i):\n",
    "            return int(i)\n",
    "        print(\"Wrong  Integer! Input the %s integer again!\\n\" % s)\n",
    "\n",
    "def isOp(x):\n",
    "    return (x in \"+-*/\")\n",
    "\n",
    "def InputOp():\n",
    "    while True:\n",
    "        i = input(\"Enter Operation: \")\n",
    "        if isOp(i):\n",
    "            return i[0]\n",
    "        print(\"Wrong Operation! Input the operation again!\\n\")\n",
    "\n",
    "x = InputInt(\"First\")\n",
    "y = InputInt(\"Second\")\n",
    "op = InputOp()\n",
    "\n",
    "print(str(x)+op+str(y), 'is' , my_calculate(x,y,op))"
   ]
  },
  {
   "cell_type": "code",
   "execution_count": null,
   "metadata": {},
   "outputs": [],
   "source": []
  },
  {
   "cell_type": "code",
   "execution_count": null,
   "metadata": {},
   "outputs": [],
   "source": []
  },
  {
   "cell_type": "code",
   "execution_count": null,
   "metadata": {},
   "outputs": [],
   "source": [
    "def my_plus(x,y):\n",
    "    return x + y\n",
    "def my_minus(x,y):\n",
    "    return x - y\n",
    "def my_mul(x,y):\n",
    "    return x * y\n",
    "def my_div(x,y):\n",
    "    return x / y\n",
    "def my_calculate(x,y,op='+'):\n",
    "    if op == '+':\n",
    "        return my_plus(x,y)\n",
    "    elif op == '-':\n",
    "        return my_minus(x,y)\n",
    "    elif op == '*':\n",
    "        return my_mul(x,y)\n",
    "    elif op == '/':\n",
    "        return my_div(x,y)\n",
    "    else:\n",
    "        return my_plus(x,y)"
   ]
  },
  {
   "cell_type": "code",
   "execution_count": null,
   "metadata": {},
   "outputs": [],
   "source": []
  },
  {
   "cell_type": "code",
   "execution_count": null,
   "metadata": {},
   "outputs": [],
   "source": []
  },
  {
   "cell_type": "code",
   "execution_count": null,
   "metadata": {},
   "outputs": [],
   "source": []
  },
  {
   "cell_type": "code",
   "execution_count": null,
   "metadata": {},
   "outputs": [],
   "source": []
  },
  {
   "cell_type": "code",
   "execution_count": null,
   "metadata": {},
   "outputs": [],
   "source": []
  },
  {
   "cell_type": "code",
   "execution_count": null,
   "metadata": {},
   "outputs": [],
   "source": []
  },
  {
   "cell_type": "code",
   "execution_count": null,
   "metadata": {},
   "outputs": [],
   "source": []
  },
  {
   "cell_type": "code",
   "execution_count": null,
   "metadata": {},
   "outputs": [],
   "source": []
  },
  {
   "cell_type": "code",
   "execution_count": null,
   "metadata": {},
   "outputs": [],
   "source": []
  },
  {
   "cell_type": "code",
   "execution_count": null,
   "metadata": {},
   "outputs": [],
   "source": []
  },
  {
   "cell_type": "code",
   "execution_count": null,
   "metadata": {},
   "outputs": [],
   "source": []
  },
  {
   "cell_type": "code",
   "execution_count": null,
   "metadata": {},
   "outputs": [],
   "source": []
  },
  {
   "cell_type": "code",
   "execution_count": null,
   "metadata": {},
   "outputs": [],
   "source": []
  },
  {
   "cell_type": "code",
   "execution_count": null,
   "metadata": {},
   "outputs": [],
   "source": []
  },
  {
   "cell_type": "code",
   "execution_count": null,
   "metadata": {},
   "outputs": [],
   "source": []
  },
  {
   "cell_type": "code",
   "execution_count": null,
   "metadata": {},
   "outputs": [],
   "source": []
  },
  {
   "cell_type": "code",
   "execution_count": null,
   "metadata": {},
   "outputs": [],
   "source": []
  },
  {
   "cell_type": "code",
   "execution_count": null,
   "metadata": {},
   "outputs": [],
   "source": []
  },
  {
   "cell_type": "code",
   "execution_count": null,
   "metadata": {},
   "outputs": [],
   "source": []
  },
  {
   "cell_type": "code",
   "execution_count": null,
   "metadata": {},
   "outputs": [],
   "source": []
  },
  {
   "cell_type": "code",
   "execution_count": null,
   "metadata": {},
   "outputs": [],
   "source": []
  },
  {
   "cell_type": "code",
   "execution_count": null,
   "metadata": {},
   "outputs": [],
   "source": []
  },
  {
   "cell_type": "code",
   "execution_count": null,
   "metadata": {},
   "outputs": [],
   "source": []
  },
  {
   "cell_type": "code",
   "execution_count": null,
   "metadata": {},
   "outputs": [],
   "source": []
  },
  {
   "cell_type": "code",
   "execution_count": null,
   "metadata": {},
   "outputs": [],
   "source": []
  },
  {
   "cell_type": "code",
   "execution_count": null,
   "metadata": {},
   "outputs": [],
   "source": []
  },
  {
   "cell_type": "code",
   "execution_count": null,
   "metadata": {},
   "outputs": [],
   "source": []
  },
  {
   "cell_type": "code",
   "execution_count": null,
   "metadata": {},
   "outputs": [],
   "source": []
  },
  {
   "cell_type": "code",
   "execution_count": null,
   "metadata": {},
   "outputs": [],
   "source": []
  },
  {
   "cell_type": "code",
   "execution_count": null,
   "metadata": {},
   "outputs": [],
   "source": []
  },
  {
   "cell_type": "code",
   "execution_count": null,
   "metadata": {},
   "outputs": [],
   "source": []
  }
 ],
 "metadata": {
  "kernelspec": {
   "display_name": "Python 3",
   "language": "python",
   "name": "python3"
  },
  "language_info": {
   "codemirror_mode": {
    "name": "ipython",
    "version": 3
   },
   "file_extension": ".py",
   "mimetype": "text/x-python",
   "name": "python",
   "nbconvert_exporter": "python",
   "pygments_lexer": "ipython3",
   "version": "3.8.5"
  }
 },
 "nbformat": 4,
 "nbformat_minor": 4
}
