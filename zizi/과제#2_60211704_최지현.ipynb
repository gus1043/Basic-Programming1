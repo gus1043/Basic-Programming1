{
 "cells": [
  {
   "cell_type": "code",
   "execution_count": 1,
   "metadata": {},
   "outputs": [
    {
     "name": "stdout",
     "output_type": "stream",
     "text": [
      "input an integer number:3\n",
      "input an integer number:3\n",
      "They are same!\n"
     ]
    }
   ],
   "source": [
    "num1=int(input('input an integer number:'))\n",
    "num2=int(input('input an integer number:'))\n",
    "\n",
    "if num1>num2 :\n",
    "    print (num2)\n",
    "elif num2>num1 :\n",
    "    print (num1)\n",
    "else:\n",
    "    print ('They are same!')"
   ]
  },
  {
   "cell_type": "code",
   "execution_count": 2,
   "metadata": {},
   "outputs": [
    {
     "name": "stdout",
     "output_type": "stream",
     "text": [
      "숫자를 입력하시오 : 9\n",
      "ans = 9\n",
      "ans = 18\n",
      "ans = 81\n",
      "결과값 : 81\n",
      "itersleft= 0\n"
     ]
    }
   ],
   "source": [
    "x=int(input('숫자를 입력하시오 : '))\n",
    "ans = 0\n",
    "itersleft=x\n",
    "while(itersleft != 0) :\n",
    "    ans = ans+x\n",
    "    itersleft = itersleft -1\n",
    "    break\n",
    "print ('ans =',ans)\n",
    "ans = ans\n",
    "while(itersleft != 0) :\n",
    "    ans = ans+x\n",
    "    itersleft = itersleft -1\n",
    "    break\n",
    "print ('ans =',ans)\n",
    "ans = ans\n",
    "while(itersleft != 0) :\n",
    "    ans = ans+x\n",
    "    itersleft = itersleft -1\n",
    "결과값 = ans\n",
    "print ('ans =',ans)\n",
    "print ('결과값 :', 결과값)\n",
    "print ('itersleft=', itersleft)"
   ]
  },
  {
   "cell_type": "code",
   "execution_count": null,
   "metadata": {},
   "outputs": [],
   "source": []
  },
  {
   "cell_type": "code",
   "execution_count": null,
   "metadata": {},
   "outputs": [],
   "source": []
  },
  {
   "cell_type": "code",
   "execution_count": 3,
   "metadata": {},
   "outputs": [
    {
     "name": "stdout",
     "output_type": "stream",
     "text": [
      "132 is divisible by 11 and 12\n"
     ]
    }
   ],
   "source": [
    "x=1\n",
    "while not (x%11==0 and x%12 ==0) :\n",
    "    x=x+1\n",
    "print(x, 'is divisible by 11 and 12')"
   ]
  },
  {
   "cell_type": "code",
   "execution_count": 4,
   "metadata": {},
   "outputs": [
    {
     "name": "stdout",
     "output_type": "stream",
     "text": [
      "input 1st sting:My FIRST\n",
      "input 2nd sting: Programming Language\n",
      "input 3rd sting: is PYTHON!\n",
      "The merged string: My FIRST Programming Language is PYTHON!\n"
     ]
    }
   ],
   "source": [
    "str1=input('input 1st sting:')\n",
    "str2=input('input 2nd sting: ')\n",
    "str3=input('input 3rd sting: ')\n",
    "print ('The merged string:', str1+' '+str2+' '+str3)"
   ]
  },
  {
   "cell_type": "code",
   "execution_count": 5,
   "metadata": {},
   "outputs": [
    {
     "name": "stdout",
     "output_type": "stream",
     "text": [
      "input a string: fdaerwegzjlfszew\n",
      "The result is:erweg\n"
     ]
    }
   ],
   "source": [
    "char=input('input a string: ')\n",
    "cnt=len(char)\n",
    "\n",
    "i=0\n",
    "chara=0\n",
    "charz=0\n",
    "\n",
    "while cnt>i :\n",
    "    if char[i] == 'a' :\n",
    "        chara=i\n",
    "    if char[i] == 'z' :\n",
    "        charz=i\n",
    "        break\n",
    "    i=i+1\n",
    "print('The result is:'+char[chara+1:charz])"
   ]
  },
  {
   "cell_type": "code",
   "execution_count": null,
   "metadata": {},
   "outputs": [],
   "source": []
  }
 ],
 "metadata": {
  "kernelspec": {
   "display_name": "Python 3",
   "language": "python",
   "name": "python3"
  },
  "language_info": {
   "codemirror_mode": {
    "name": "ipython",
    "version": 3
   },
   "file_extension": ".py",
   "mimetype": "text/x-python",
   "name": "python",
   "nbconvert_exporter": "python",
   "pygments_lexer": "ipython3",
   "version": "3.8.5"
  }
 },
 "nbformat": 4,
 "nbformat_minor": 4
}
