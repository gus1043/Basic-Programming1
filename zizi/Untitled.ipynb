{
 "cells": [
  {
   "cell_type": "code",
   "execution_count": 15,
   "metadata": {},
   "outputs": [
    {
     "name": "stdout",
     "output_type": "stream",
     "text": [
      "가로: 5\n",
      "세로: 6\n",
      "직사각형의 둘레는 22이고 넓이는 30입니다\n"
     ]
    }
   ],
   "source": [
    "class cal_Area:\n",
    "    def setdata(self, first, second):\n",
    "        self.first=first\n",
    "        self.second=second\n",
    "    def area(self):\n",
    "        result=self.first*self.second\n",
    "        return result\n",
    "    \n",
    "class cal_length:\n",
    "    def setdata(self, first, second):\n",
    "        self.first=first\n",
    "        self.second=second\n",
    "    def length(self):\n",
    "        result=(self.first+self.second)*2\n",
    "        return result\n",
    "    \n",
    "x=int(input(\"가로: \"))\n",
    "y=int(input(\"세로: \"))    \n",
    "a=cal_Area()\n",
    "a.setdata(x,y)\n",
    "b=cal_length()\n",
    "b.setdata(x,y)\n",
    "print(\"직사각형의 둘레는\",str(b.length())+\"이고\",\"넓이는\", str(a.area())+\"입니다\")"
   ]
  },
  {
   "cell_type": "code",
   "execution_count": 28,
   "metadata": {},
   "outputs": [
    {
     "name": "stdout",
     "output_type": "stream",
     "text": [
      "x좌표를 입력해주세요:5\n",
      "y좌표를 입력해주세요:6\n",
      "현재 좌표 : (5,6)\n",
      "x좌표 설정을 원한다면 x, y좌표 설정을 원한다면 y, 좌표이동을 원한다면 , 좌표 설정을 종료하려면 0을 입력해주세요.\n",
      "입력x\n",
      "5 6\n",
      "입력2\n",
      "입력0\n",
      "5 6\n"
     ]
    }
   ],
   "source": [
    "x=input(\"x좌표를 입력해주세요:\")\n",
    "y=input(\"y좌표를 입력해주세요:\")\n",
    "print(\"현재 좌표 :\", \"(\"+str(x)+\",\"+str(y)+\")\")\n",
    "\n",
    "print(\"x좌표 설정을 원한다면 x, y좌표 설정을 원한다면 y, 좌표이동을 원한다면 , 좌표 설정을 종료하려면 0을 입력해주세요.\")\n",
    "\n",
    "\n",
    "while (1):\n",
    "    z=input(\"입력\")\n",
    "    if z==\"x\":\n",
    "        i=(\"x자표를 입력해주세요:\")\n",
    "        i=x\n",
    "    elif z==\"y\":\n",
    "        z=y\n",
    "    elif z==\"m\":\n",
    "        i=(\"x좌표를 얼마만큼 이동할지 입력해주세요: \")\n",
    "        j=(\"x좌표를 얼마만큼 이동할지 입력해주세요: \")\n",
    "        x+i\n",
    "        y+j\n",
    "    elif z==\"0\":\n",
    "        break\n",
    "        \n",
    "print(x,y)"
   ]
  },
  {
   "cell_type": "code",
   "execution_count": null,
   "metadata": {},
   "outputs": [],
   "source": []
  },
  {
   "cell_type": "code",
   "execution_count": null,
   "metadata": {},
   "outputs": [],
   "source": []
  },
  {
   "cell_type": "code",
   "execution_count": null,
   "metadata": {},
   "outputs": [],
   "source": []
  },
  {
   "cell_type": "code",
   "execution_count": null,
   "metadata": {},
   "outputs": [],
   "source": []
  },
  {
   "cell_type": "code",
   "execution_count": null,
   "metadata": {},
   "outputs": [],
   "source": []
  },
  {
   "cell_type": "code",
   "execution_count": null,
   "metadata": {},
   "outputs": [],
   "source": []
  },
  {
   "cell_type": "code",
   "execution_count": null,
   "metadata": {},
   "outputs": [],
   "source": []
  },
  {
   "cell_type": "code",
   "execution_count": null,
   "metadata": {},
   "outputs": [],
   "source": []
  },
  {
   "cell_type": "code",
   "execution_count": null,
   "metadata": {},
   "outputs": [],
   "source": []
  },
  {
   "cell_type": "code",
   "execution_count": null,
   "metadata": {},
   "outputs": [],
   "source": []
  },
  {
   "cell_type": "code",
   "execution_count": null,
   "metadata": {},
   "outputs": [],
   "source": []
  },
  {
   "cell_type": "code",
   "execution_count": null,
   "metadata": {},
   "outputs": [],
   "source": []
  },
  {
   "cell_type": "code",
   "execution_count": null,
   "metadata": {},
   "outputs": [],
   "source": []
  },
  {
   "cell_type": "code",
   "execution_count": null,
   "metadata": {},
   "outputs": [],
   "source": []
  },
  {
   "cell_type": "code",
   "execution_count": null,
   "metadata": {},
   "outputs": [],
   "source": []
  },
  {
   "cell_type": "code",
   "execution_count": null,
   "metadata": {},
   "outputs": [],
   "source": []
  },
  {
   "cell_type": "code",
   "execution_count": null,
   "metadata": {},
   "outputs": [],
   "source": []
  },
  {
   "cell_type": "code",
   "execution_count": null,
   "metadata": {},
   "outputs": [],
   "source": []
  },
  {
   "cell_type": "code",
   "execution_count": null,
   "metadata": {},
   "outputs": [],
   "source": []
  },
  {
   "cell_type": "code",
   "execution_count": null,
   "metadata": {},
   "outputs": [],
   "source": []
  },
  {
   "cell_type": "code",
   "execution_count": 7,
   "metadata": {},
   "outputs": [
    {
     "name": "stdout",
     "output_type": "stream",
     "text": [
      "5\n",
      "6\n",
      "11\n"
     ]
    }
   ],
   "source": [
    "class Calculator:\n",
    "\tdef setdata(self, first, second):\n",
    "\t\tself.first = first\n",
    "\t\tself.second = second\n",
    "\tdef add(self):   # add 메소드\n",
    "\t\tresult = self.first + self.second\n",
    "\t\treturn result\n",
    "x=int(input(\"\"))\n",
    "y=int(input(\"\"))   \n",
    "a = Calculator()\n",
    "a.setdata(x, y)      \n",
    "print(a.add())"
   ]
  },
  {
   "cell_type": "code",
   "execution_count": null,
   "metadata": {},
   "outputs": [],
   "source": []
  },
  {
   "cell_type": "code",
   "execution_count": null,
   "metadata": {},
   "outputs": [],
   "source": []
  },
  {
   "cell_type": "code",
   "execution_count": null,
   "metadata": {},
   "outputs": [],
   "source": []
  },
  {
   "cell_type": "code",
   "execution_count": null,
   "metadata": {},
   "outputs": [],
   "source": []
  },
  {
   "cell_type": "code",
   "execution_count": null,
   "metadata": {},
   "outputs": [],
   "source": []
  },
  {
   "cell_type": "code",
   "execution_count": null,
   "metadata": {},
   "outputs": [],
   "source": []
  }
 ],
 "metadata": {
  "kernelspec": {
   "display_name": "Python 3",
   "language": "python",
   "name": "python3"
  },
  "language_info": {
   "codemirror_mode": {
    "name": "ipython",
    "version": 3
   },
   "file_extension": ".py",
   "mimetype": "text/x-python",
   "name": "python",
   "nbconvert_exporter": "python",
   "pygments_lexer": "ipython3",
   "version": "3.8.5"
  }
 },
 "nbformat": 4,
 "nbformat_minor": 4
}
