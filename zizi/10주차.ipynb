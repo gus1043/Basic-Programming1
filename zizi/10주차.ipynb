{
 "cells": [
  {
   "cell_type": "code",
   "execution_count": 1,
   "metadata": {},
   "outputs": [
    {
     "name": "stdout",
     "output_type": "stream",
     "text": [
      "L= [1, -2, 3.33]\n",
      "Apply abs to each element of L.\n",
      "Apply abs to each element of L. [1, 2, 3.33]\n",
      "L= [1, 2, 3]\n",
      "Apply abs to each element of L. [1, 2, 3]\n",
      "L= [1, 2, 3]\n"
     ]
    }
   ],
   "source": [
    "def applyToEach(L,f):\n",
    "    for i in range (len(L)):\n",
    "        L[i] = f(L[i])\n",
    "def fact(n):\n",
    "    if n==1:\n",
    "        return n\n",
    "    return n*fact(n=1)\n",
    "\n",
    "L=[1,-2,3.33]\n",
    "print(\"L=\", L)\n",
    "print(\"Apply abs to each element of L.\")\n",
    "applyToEach(L, abs)\n",
    "print(\"Apply abs to each element of L.\", L)\n",
    "applyToEach(L, int)\n",
    "print(\"L=\", L)\n",
    "print(\"Apply abs to each element of L.\", L)\n",
    "applyToEach(L,fact)\n",
    "print(\"L=\", L)"
   ]
  },
  {
   "cell_type": "code",
   "execution_count": 2,
   "metadata": {},
   "outputs": [
    {
     "name": "stdout",
     "output_type": "stream",
     "text": [
      "[1, 28, 9]\n"
     ]
    }
   ],
   "source": [
    "L1=[1, 28, 36]\n",
    "L2=[2, 57, 9]\n",
    "print(list(map(min, L1, L2)))"
   ]
  },
  {
   "cell_type": "code",
   "execution_count": 4,
   "metadata": {},
   "outputs": [
    {
     "name": "stdout",
     "output_type": "stream",
     "text": [
      "The third month is Mar\n",
      "The first month is Jan\n",
      "3\n",
      "Apr and Jan are 3 months apart.\n"
     ]
    }
   ],
   "source": [
    "monthNumbers={\"Jan\":1, \"Feb\":2, \"Mar\":3, \"Apr\":4, \"May\":5, 7:\"Jan\", 2:\"Jan\", 2:\"Feb\", 3:\"Mar\", 4:\"Apr\", 5:\"May\"}\n",
    "print(\"The third month is \" + monthNumbers[3])\n",
    "print(\"The first month is \" + monthNumbers[7])\n",
    "print(str(monthNumbers[\"Mar\"]))\n",
    "diff = monthNumbers[\"Apr\"]-monthNumbers[\"Jan\"]\n",
    "print(\"Apr and Jan are\", diff, \"months apart.\")"
   ]
  },
  {
   "cell_type": "code",
   "execution_count": 6,
   "metadata": {},
   "outputs": [
    {
     "name": "stdout",
     "output_type": "stream",
     "text": [
      "['Jan', 'Feb', 'Mar', 'Apr', 'May', 7, 2, 3, 4, 5]\n"
     ]
    }
   ],
   "source": [
    "keys=[]\n",
    "for e in monthNumbers:\n",
    "    keys.append(e)\n",
    "print(keys)"
   ]
  },
  {
   "cell_type": "code",
   "execution_count": 22,
   "metadata": {},
   "outputs": [
    {
     "name": "stdout",
     "output_type": "stream",
     "text": [
      "Jean boit \"good\" rouge vin, et mange plain.\n",
      "John drinks of wine red.\n"
     ]
    }
   ],
   "source": [
    "EtoF = {\"bread\":\"plain\", \"wine\":\"vin\", \"with\":\"avec\", \"eats\":\"mange\", \"drinks\":\"boit\", \"John\":\"Jean\", \"friends\":\"amis\", \"and\":\"et\", \"of\":\"du\", \"red\":\"rouge\"}\n",
    "FtoE = {\"plain\":\"bread\", \"vin\":\"wine\", \"avec\":\"with\", \"mange\":\"eats\", \"boit\":\"drinks\", \"Jean\":\"John\", \"amis\":\"friends\", \"et\":\"and\", \"du\":\"of\", \"rouge\":\"red\"}\n",
    "dicts = {\"English to French\":EtoF, \"French to English\":FtoE}\n",
    "\n",
    "def translateWord(word, dictionary):\n",
    "    if word in dictionary.keys():\n",
    "        return dictionary[word]\n",
    "    elif word != \"\":\n",
    "        return '\"' + word + '\"'\n",
    "    return word\n",
    "\n",
    "def translate(phrase, dicts, direction):\n",
    "    UCLetters = \"ABCDEFGHIJKLMNOPQRSTUVWXYZ\"\n",
    "    LCLetters = \"abcdefghhijklmnopqrstuvwxyz\"\n",
    "    letters = UCLetters + LCLetters\n",
    "    dictionary = dicts[direction]\n",
    "    translation=\"\"\n",
    "    word=\"\"\n",
    "    for c in phrase:\n",
    "        if c in letters:\n",
    "            word = word +c\n",
    "        else:\n",
    "            translation = translation + translateWord(word, dictionary)+c\n",
    "            word=\"\"\n",
    "    return translation\n",
    "\n",
    "print(translate(\"John drinks good red wine, and eats bread.\", dicts, \"English to French\"))\n",
    "print(translate(\"Jean boit du vin rouge.\", dicts, \"French to English\"))"
   ]
  },
  {
   "cell_type": "code",
   "execution_count": 26,
   "metadata": {},
   "outputs": [
    {
     "name": "stdout",
     "output_type": "stream",
     "text": [
      "Jean boit \"good\" \"white\" vin, et mange plain.\n",
      "John wood of wine red.\n"
     ]
    }
   ],
   "source": [
    "FtoE[\"boit\"]=\"wood\"\n",
    "\n",
    "print(translate(\"John drinks good white wine, and eats bread.\", dicts, \"English to French\"))\n",
    "print(translate(\"Jean boit du vin rouge.\", dicts, \"French to English\"))"
   ]
  },
  {
   "cell_type": "code",
   "execution_count": 27,
   "metadata": {},
   "outputs": [
    {
     "name": "stdout",
     "output_type": "stream",
     "text": [
      "Jean boit \"good\" blanc vin, et mange plain.\n",
      "John wood of wine red.\n"
     ]
    }
   ],
   "source": [
    "EtoF[\"white\"]=\"blanc\"\n",
    "\n",
    "print(translate(\"John drinks good white wine, and eats bread.\", dicts, \"English to French\"))\n",
    "print(translate(\"Jean boit du vin rouge.\", dicts, \"French to English\"))"
   ]
  },
  {
   "cell_type": "code",
   "execution_count": 32,
   "metadata": {},
   "outputs": [
    {
     "name": "stdout",
     "output_type": "stream",
     "text": [
      "vin\n",
      "rouge\n",
      "None\n"
     ]
    }
   ],
   "source": [
    "def keySearch(L, k):\n",
    "    for elem in L:\n",
    "        if elem == k:\n",
    "            return L[k]\n",
    "    return None\n",
    "\n",
    "print(keySearch(EtoF, \"wine\"))\n",
    "print(keySearch(EtoF, \"red\"))\n",
    "print(keySearch(EtoF, \"good\"))"
   ]
  },
  {
   "cell_type": "code",
   "execution_count": 36,
   "metadata": {},
   "outputs": [
    {
     "name": "stdout",
     "output_type": "stream",
     "text": [
      "input number of programing language : 2\n",
      "프로그래밍 언어 이름: 파이썬\n",
      "프로그래밍 언어 설명: 쉬운 언어\n",
      "프로그래밍 언어 이름: C언어\n",
      "프로그래밍 언어 설명: 어려운 언어\n",
      "{'파이썬': '쉬운 언어', 'C언어': '어려운 언어'}\n"
     ]
    }
   ],
   "source": [
    "def generateDictionary(n):\n",
    "    dic={}\n",
    "    \n",
    "    for i in range(n):\n",
    "        word = input(\"프로그래밍 언어 이름: \")\n",
    "        desc = input(\"프로그래밍 언어 설명: \")\n",
    "        dic[word]=desc\n",
    "    return dic\n",
    "\n",
    "n=int(input(\"input number of programing language : \"))\n",
    "print(generateDictionary(n))"
   ]
  },
  {
   "cell_type": "code",
   "execution_count": 38,
   "metadata": {},
   "outputs": [
    {
     "name": "stdout",
     "output_type": "stream",
     "text": [
      "input number of keys : 2\n",
      "프로그래밍 언어 이름: 파이썬\n",
      "프로그래밍 언어 설명: 쉬운 언어\n",
      "프로그래밍 언어 이름: C언어\n",
      "프로그래밍 언어 설명: 어려운 언어\n",
      "프로그래밍 언어 이름: 자바\n",
      "프로그래밍 언어 설명: 객체지향언어\n",
      "프로그래밍 언어 이름: 매트랩 \n",
      "프로그래밍 언어 설명: 행렬전용언어\n",
      "파이썬 : 쉬운 언어\n",
      "C언어 : 어려운 언어\n",
      "자바 : 객체지향언어\n",
      "매트랩  : 행렬전용언어\n"
     ]
    }
   ],
   "source": [
    "def generateDictionary(n):\n",
    "    dic={}\n",
    "\n",
    "    for i in range(n):\n",
    "        word = input(\"프로그래밍 언어 이름: \")\n",
    "        desc = input(\"프로그래밍 언어 설명: \")\n",
    "        dic[word]=desc\n",
    "    return dic\n",
    "\n",
    "def printDictionary(*dicts):\n",
    "    for dic in dicts:\n",
    "        for word in dic:\n",
    "            print (word, \":\", dic[word])\n",
    "\n",
    "\n",
    "n=int(input(\"input number of keys : \"))\n",
    "dic1=generateDictionary(n)\n",
    "dic2=generateDictionary(n)\n",
    "printDictionary(dic1,dic2)"
   ]
  },
  {
   "cell_type": "code",
   "execution_count": 49,
   "metadata": {},
   "outputs": [
    {
     "name": "stdout",
     "output_type": "stream",
     "text": [
      "input number of keys : 2\n",
      "프로그래밍 언어 이름: 파이썬\n",
      "프로그래밍 언어 설명: 쉬운언어\n",
      "프로그래밍 언어 이름: C언어\n",
      "프로그래밍 언어 설명: 어려운언어\n",
      "=영어사전 생성=\n",
      "decsription: 쉬운언어\n",
      "input the name of the language in English:python\n",
      "=영어사전 생성=\n",
      "decsription: 어려운언어\n",
      "input the name of the language in English:C language\n",
      "{'파이썬': '쉬운언어', 'C언어': '어려운언어'}\n",
      "{'python': '쉬운언어', 'C language': '어려운언어'}\n"
     ]
    }
   ],
   "source": [
    "def generateDictionary(n):\n",
    "    dic={}\n",
    "\n",
    "    for i in range(n):\n",
    "        word = input(\"프로그래밍 언어 이름: \")\n",
    "        desc = input(\"프로그래밍 언어 설명: \")\n",
    "        dic[word]=desc\n",
    "    return dic\n",
    "\n",
    "def translateDictionary(dic):\n",
    "    new_dic={}\n",
    "\n",
    "    for word in dic:\n",
    "        print(\"=영어사전 생성=\")\n",
    "        print(\"decsription:\", dic[word])\n",
    "        new_word = input(\"input the name of the language in English:\")\n",
    "        new_dic[new_word]=dic[word]\n",
    "    return new_dic\n",
    "\n",
    "def printDictionary(*dicts):\n",
    "    for dic in dicts:\n",
    "        for word in dic:\n",
    "            print (word, \":\", dic[word])\n",
    "\n",
    "\n",
    "n=int(input(\"input number of keys : \"))\n",
    "dic1=generateDictionary(n)\n",
    "dic2=translateDictionary(dic1)\n",
    "print(dic1)\n",
    "print(dic2)"
   ]
  },
  {
   "cell_type": "code",
   "execution_count": 81,
   "metadata": {},
   "outputs": [
    {
     "name": "stdout",
     "output_type": "stream",
     "text": [
      "input number of keys : 2\n",
      "프로그래밍 언어 이름: 파이썬\n",
      "프로그래밍 언어 설명: 쉬운언어\n",
      "프로그래밍 언어 이름: C언어\n",
      "프로그래밍 언어 설명: 어려운 언어\n",
      "=영어사전 생성=\n",
      "decsription: 쉬운언어\n",
      "input the name of the language in English:python\n",
      "input the description of the language in English :an easy programming language\n",
      "=영어사전 생성=\n",
      "decsription: 어려운 언어\n",
      "input the name of the language in English:C language\n",
      "input the description of the language in English :a hard programming language\n",
      "{'파이썬': '쉬운언어', 'C언어': '어려운 언어'}\n",
      "{'python': 'an easy programming language', 'C language': 'a hard programming language'}\n"
     ]
    }
   ],
   "source": [
    "def generateDictionary(n):\n",
    "    dic={}\n",
    "\n",
    "    for i in range(n):\n",
    "        word = input(\"프로그래밍 언어 이름: \")\n",
    "        desc = input(\"프로그래밍 언어 설명: \")\n",
    "        dic[word]=desc\n",
    "    return dic\n",
    "\n",
    "def translateDictionary(dic):\n",
    "    new_dic={}\n",
    "\n",
    "    for word in dic:\n",
    "        print(\"=영어사전 생성=\")\n",
    "        print(\"decsription:\", dic[word])\n",
    "        new_word = input(\"input the name of the language in English:\")\n",
    "        new_desc = input(\"input the description of the language in English :\")\n",
    "        new_dic[new_word]=new_desc\n",
    "    return new_dic\n",
    "\n",
    "\n",
    "\n",
    "def printDictionary(*dicts):\n",
    "    for dic in dicts:\n",
    "        for word in dic:\n",
    "            print (word, \":\", dic[word])\n",
    "\n",
    "\n",
    "\n",
    "n=int(input(\"input number of keys : \"))\n",
    "dic1=generateDictionary(n)\n",
    "dic2=translateDictionary(dic1)\n",
    "print(dic1)\n",
    "print(dic2)"
   ]
  },
  {
   "cell_type": "code",
   "execution_count": 385,
   "metadata": {},
   "outputs": [
    {
     "ename": "IndentationError",
     "evalue": "expected an indented block (<ipython-input-385-57e081addbc6>, line 32)",
     "output_type": "error",
     "traceback": [
      "\u001b[1;36m  File \u001b[1;32m\"<ipython-input-385-57e081addbc6>\"\u001b[1;36m, line \u001b[1;32m32\u001b[0m\n\u001b[1;33m    n=int(input(\"input number of keys : \"))\u001b[0m\n\u001b[1;37m    ^\u001b[0m\n\u001b[1;31mIndentationError\u001b[0m\u001b[1;31m:\u001b[0m expected an indented block\n"
     ]
    }
   ],
   "source": [
    "def generateDictionary(n):\n",
    "    dic={}\n",
    "\n",
    "    for i in range(n):\n",
    "        word = input(\"프로그래밍 언어 이름: \")\n",
    "        desc = input(\"프로그래밍 언어 설명: \")\n",
    "        dic[word]=desc\n",
    "        \n",
    "    return dic\n",
    "\n",
    "def translateDictionary(dic):\n",
    "    new_dic={}\n",
    "\n",
    "    for word in dic:\n",
    "        print(\"=영어사전 생성=\")\n",
    "        print(\"decsription:\", dic[word])\n",
    "        new_word = input(\"input the name of the language in English:\")\n",
    "        new_desc = input(\"input the description of the language in English :\")\n",
    "        new_dic[new_word]=new_desc\n",
    "        \n",
    "    return new_dic\n",
    "\n",
    "\n",
    "def printDictionary(*dics):\n",
    "    for dic in dics:\n",
    "        for word in dic:\n",
    "            print (word, \":\", dic[word])\n",
    "\n",
    "def searchDictionary(dic):\n",
    "    \n",
    "\n",
    "n=int(input(\"input number of keys : \"))\n",
    "dic1=generateDictionary(n)\n",
    "dic2=translateDictionary(dic1)\n",
    "print(dic1)\n",
    "print(dic2)"
   ]
  },
  {
   "cell_type": "code",
   "execution_count": null,
   "metadata": {},
   "outputs": [],
   "source": []
  },
  {
   "cell_type": "code",
   "execution_count": null,
   "metadata": {},
   "outputs": [],
   "source": []
  },
  {
   "cell_type": "code",
   "execution_count": 84,
   "metadata": {},
   "outputs": [
    {
     "name": "stdout",
     "output_type": "stream",
     "text": [
      "input the number : 5\n",
      "input the string : banana\n",
      "input the string : melon\n",
      "input the string : apple\n",
      "input the string : orange\n",
      "input the string : mango\n",
      "['melon', 'apple', 'orange', 'mango']\n"
     ]
    }
   ],
   "source": [
    "#튜터링 연습문제\n",
    "\n",
    "cnt=int(input(\"input the number : \"))\n",
    "list=[]\n",
    "while cnt>0:\n",
    "    x=input(\"input the string : \")\n",
    "    cnt-=1\n",
    "    list.append(x)\n",
    "for i in list :\n",
    "    if i[0]==\"b\":\n",
    "        list.remove(i)\n",
    "        \n",
    "print(list)"
   ]
  },
  {
   "cell_type": "code",
   "execution_count": 113,
   "metadata": {},
   "outputs": [
    {
     "name": "stdout",
     "output_type": "stream",
     "text": [
      "input the first name : park\n",
      "kim 90\n",
      "76\n"
     ]
    }
   ],
   "source": [
    "#튜터링 연습문제2\n",
    "s=[[\"kim\", 90], [\"park\", 89], [\"choi\", 76]]\n",
    "x=input(\"input the first name : \")\n",
    "for i in s:\n",
    "    print(i[0], i[1])\n",
    "    if i[0]==x:\n",
    "        print(90)\n",
    "        break\n",
    "    elif i[0]==x:\n",
    "        print(89)\n",
    "        break\n",
    "    else:\n",
    "        print(76)\n",
    "        break\n",
    "        "
   ]
  },
  {
   "cell_type": "code",
   "execution_count": 122,
   "metadata": {},
   "outputs": [
    {
     "name": "stdout",
     "output_type": "stream",
     "text": [
      "input the first name : choi\n",
      "76\n"
     ]
    }
   ],
   "source": [
    "s=[[\"kim\", 90], [\"park\", 89], [\"choi\", 76]]\n",
    "x=input(\"input the first name : \")\n",
    "while True:\n",
    "    if s[0][0]==x:\n",
    "        print(s[0][1])\n",
    "        break\n",
    "    elif s[1][0]==x:\n",
    "        print(s[1][1])\n",
    "        break\n",
    "    else:\n",
    "        print(s[2][1])\n",
    "        break"
   ]
  },
  {
   "cell_type": "code",
   "execution_count": 212,
   "metadata": {},
   "outputs": [
    {
     "name": "stdout",
     "output_type": "stream",
     "text": [
      "input number of keys : 2\n",
      "프로그래밍 언어 이름: 파이썬\n",
      "프로그래밍 언어 설명: 쉬운 프로그래밍 언어\n",
      "프로그래밍 언어 이름: C언어\n",
      "프로그래밍 언어 설명: 어려운 프로그래밍 언어\n",
      "=영어사전 생성=\n",
      "decsription: 쉬운 프로그래밍 언어\n",
      "input the name of the language in English:Python\n",
      "input the description of the language in English :an easy programming language\n",
      "=영어사전 생성=\n",
      "decsription: 어려운 프로그래밍 언어\n",
      "input the name of the language in English:C language\n",
      "input the description of the language in English :a hard programming language\n",
      "{'파이썬': '쉬운 프로그래밍 언어', 'C언어': '어려운 프로그래밍 언어'}\n",
      "{'Python': 'an easy programming language', 'C language': 'a hard programming language'}\n",
      "=====================\n",
      "Enter a word for searcheasy\n",
      "an easy programming language\n",
      "파이썬\n",
      "C언어\n",
      "Python\n",
      "C language\n",
      "None\n"
     ]
    }
   ],
   "source": [
    "def generateDictionary(n):\n",
    "    dic={}\n",
    "\n",
    "    for i in range(n):\n",
    "        word = input(\"프로그래밍 언어 이름: \")\n",
    "        desc = input(\"프로그래밍 언어 설명: \")\n",
    "        dic[word]=desc\n",
    "    return dic\n",
    "\n",
    "def translateDictionary(dic):\n",
    "    new_dic={}\n",
    "\n",
    "    for word in dic:\n",
    "        print(\"=영어사전 생성=\")\n",
    "        print(\"decsription:\", dic[word])\n",
    "        new_word = input(\"input the name of the language in English:\")\n",
    "        new_desc = input(\"input the description of the language in English :\")\n",
    "        new_dic[new_word]=new_desc\n",
    "    return new_dic\n",
    "\n",
    "def printDictionary(*dicts):\n",
    "    for dic in dicts:\n",
    "        for word in dic:\n",
    "            print (word, \":\", dic[word])\n",
    "\n",
    "def Search():\n",
    "    x=input(\"Enter a word for search\")\n",
    "    for v in dic1.values():\n",
    "        if x in v:\n",
    "            print (v)\n",
    "    for v in dic2.values():\n",
    "        if x in v:\n",
    "            print(v)\n",
    "    for k in dic1.keys():\n",
    "        if v==v:\n",
    "            print(k)\n",
    "    for k in dic2.keys():\n",
    "        if v==v:\n",
    "            print(k)\n",
    "\n",
    "n=int(input(\"input number of keys : \"))\n",
    "dic1=generateDictionary(n)\n",
    "dic2=translateDictionary(dic1)\n",
    "print(dic1)\n",
    "print(dic2)\n",
    "print(\"=====================\")\n",
    "print(Search())\n",
    "\n"
   ]
  },
  {
   "cell_type": "code",
   "execution_count": 289,
   "metadata": {},
   "outputs": [
    {
     "ename": "IndentationError",
     "evalue": "expected an indented block (<ipython-input-289-c6c31bc89028>, line 7)",
     "output_type": "error",
     "traceback": [
      "\u001b[1;36m  File \u001b[1;32m\"<ipython-input-289-c6c31bc89028>\"\u001b[1;36m, line \u001b[1;32m7\u001b[0m\n\u001b[1;33m    print(fruit)\u001b[0m\n\u001b[1;37m    ^\u001b[0m\n\u001b[1;31mIndentationError\u001b[0m\u001b[1;31m:\u001b[0m expected an indented block\n"
     ]
    }
   ],
   "source": [
    "dic1={'사과':'아주 맛있는 과일','복숭아':'매우 달달한 과일'}\n",
    "dic2={\"Apple\":\"very delicious fruit\", \"Peach\":\"wonderful sweet fruit\"}\n",
    "\n",
    "search_desc = input(\"\")\n",
    "for fruit,desc in dic2.items():\n",
    "    if search_desc == desc:\n",
    "    print(fruit)"
   ]
  },
  {
   "cell_type": "code",
   "execution_count": 293,
   "metadata": {},
   "outputs": [
    {
     "name": "stdout",
     "output_type": "stream",
     "text": [
      "16\n",
      "george\n"
     ]
    }
   ],
   "source": [
    "mydict = {'george':16,'amber':19}\n",
    "x=int(input(\"\"))\n",
    "res = dict((v,k) for k,v in mydict.items())\n",
    "print(res[x])"
   ]
  },
  {
   "cell_type": "code",
   "execution_count": 313,
   "metadata": {},
   "outputs": [
    {
     "name": "stdout",
     "output_type": "stream",
     "text": [
      "기초\n"
     ]
    }
   ],
   "source": [
    "dic1={'사과':'아주 맛있는 과일','복숭아':'매우 달달한 과일'}\n",
    "dic2={\"Apple\":\"very delicious fruit\", \"Peach\":\"wonderful sweet fruit\"}\n",
    "x=input(\"\")\n",
    "\n",
    "while True:\n",
    "    for v in dic1.values():\n",
    "        if x in v:\n",
    "            Val=v\n",
    "            print(Val)\n",
    "    break\n",
    "    for v in dic2.values():\n",
    "        if x in v:\n",
    "            Val=v\n",
    "            print(Val)\n",
    "    break\n",
    "\n",
    "def Print():\n",
    "    while (1):\n",
    "        if Val in dic2.values():\n",
    "            print(\"Search result: \", [k for k, v in dic2.items() if v == Val])\n",
    "        elif Val in dic1. values():\n",
    "             print(\"Search result: \", [k for k, v in dic1.items() if v == Val])\n",
    "        else:\n",
    "            break\n",
    "            print(\"No match!! Break\")\n"
   ]
  },
  {
   "cell_type": "code",
   "execution_count": 316,
   "metadata": {},
   "outputs": [
    {
     "name": "stdout",
     "output_type": "stream",
     "text": [
      "맛있는\n"
     ]
    },
    {
     "ename": "KeyboardInterrupt",
     "evalue": "",
     "output_type": "error",
     "traceback": [
      "\u001b[1;31m---------------------------------------------------------------------------\u001b[0m",
      "\u001b[1;31mKeyboardInterrupt\u001b[0m                         Traceback (most recent call last)",
      "\u001b[1;32m<ipython-input-316-d9726166a735>\u001b[0m in \u001b[0;36m<module>\u001b[1;34m\u001b[0m\n\u001b[0;32m     10\u001b[0m             \u001b[1;32mif\u001b[0m \u001b[0mVal\u001b[0m \u001b[1;32min\u001b[0m \u001b[0mdic2\u001b[0m\u001b[1;33m.\u001b[0m\u001b[0mvalues\u001b[0m\u001b[1;33m(\u001b[0m\u001b[1;33m)\u001b[0m\u001b[1;33m:\u001b[0m\u001b[1;33m\u001b[0m\u001b[1;33m\u001b[0m\u001b[0m\n\u001b[0;32m     11\u001b[0m                 \u001b[0mprint\u001b[0m\u001b[1;33m(\u001b[0m\u001b[1;34m\"Search result: \"\u001b[0m\u001b[1;33m,\u001b[0m \u001b[1;33m[\u001b[0m\u001b[0mk\u001b[0m \u001b[1;32mfor\u001b[0m \u001b[0mk\u001b[0m\u001b[1;33m,\u001b[0m \u001b[0mv\u001b[0m \u001b[1;32min\u001b[0m \u001b[0mdic2\u001b[0m\u001b[1;33m.\u001b[0m\u001b[0mitems\u001b[0m\u001b[1;33m(\u001b[0m\u001b[1;33m)\u001b[0m \u001b[1;32mif\u001b[0m \u001b[0mv\u001b[0m \u001b[1;33m==\u001b[0m \u001b[0mVal\u001b[0m\u001b[1;33m]\u001b[0m\u001b[1;33m)\u001b[0m\u001b[1;33m\u001b[0m\u001b[1;33m\u001b[0m\u001b[0m\n\u001b[1;32m---> 12\u001b[1;33m     \u001b[1;32mfor\u001b[0m \u001b[0mv\u001b[0m \u001b[1;32min\u001b[0m \u001b[0mdic2\u001b[0m\u001b[1;33m.\u001b[0m\u001b[0mvalues\u001b[0m\u001b[1;33m(\u001b[0m\u001b[1;33m)\u001b[0m\u001b[1;33m:\u001b[0m\u001b[1;33m\u001b[0m\u001b[1;33m\u001b[0m\u001b[0m\n\u001b[0m\u001b[0;32m     13\u001b[0m         \u001b[1;32mif\u001b[0m \u001b[0mx\u001b[0m \u001b[1;32min\u001b[0m \u001b[0mv\u001b[0m\u001b[1;33m:\u001b[0m\u001b[1;33m\u001b[0m\u001b[1;33m\u001b[0m\u001b[0m\n\u001b[0;32m     14\u001b[0m             \u001b[0mVal\u001b[0m\u001b[1;33m=\u001b[0m\u001b[0mv\u001b[0m\u001b[1;33m\u001b[0m\u001b[1;33m\u001b[0m\u001b[0m\n",
      "\u001b[1;31mKeyboardInterrupt\u001b[0m: "
     ]
    }
   ],
   "source": [
    "dic1={'사과':'아주 맛있는 과일','복숭아':'매우 달달한 과일'}\n",
    "dic2={\"Apple\":\"very delicious fruit\", \"Peach\":\"wonderful sweet fruit\"}\n",
    "x=input(\"\")\n",
    "\n",
    "while True:\n",
    "    for v in dic1.values():\n",
    "        if x in v:\n",
    "            Val=v\n",
    "            break\n",
    "            if Val in dic2.values():\n",
    "                print(\"Search result: \", [k for k, v in dic2.items() if v == Val])\n",
    "    for v in dic2.values():\n",
    "        if x in v:\n",
    "            Val=v\n",
    "            print(Val)\n",
    "            if Val in dic1. values():\n",
    "                print(\"Search result: \", [k for k, v in dic1.items() if v == Val])\n",
    "\n"
   ]
  },
  {
   "cell_type": "code",
   "execution_count": 324,
   "metadata": {},
   "outputs": [
    {
     "name": "stdout",
     "output_type": "stream",
     "text": [
      "과일\n",
      "아주 맛있는 과일\n",
      "Search result:  ['사과']\n",
      "매우 달달한 과일\n",
      "Search result:  ['복숭아']\n"
     ]
    }
   ],
   "source": [
    "dic1={'사과':'아주 맛있는 과일','복숭아':'매우 달달한 과일'}\n",
    "dic2={\"Apple\":\"very delicious fruit\", \"Peach\":\"wonderful sweet fruit\"}\n",
    "x=input(\"\")\n",
    "\n",
    "for v in dic1.values():\n",
    "    if x in v:\n",
    "        Val=v\n",
    "        print(Val)\n",
    "        if Val in dic1.values():\n",
    "            print(\"Search result: \", [k for k, v in dic1.items() if v == Val])\n",
    "for v in dic2.values():\n",
    "    if x in v:\n",
    "        Val=v\n",
    "        print(Val)\n",
    "        if Val in dic2.values():\n",
    "            print(\"Search result: \", [k for k, v in dic2.items() if v == Val])"
   ]
  },
  {
   "cell_type": "code",
   "execution_count": 352,
   "metadata": {},
   "outputs": [
    {
     "ename": "KeyboardInterrupt",
     "evalue": "Interrupted by user",
     "output_type": "error",
     "traceback": [
      "\u001b[1;31m---------------------------------------------------------------------------\u001b[0m",
      "\u001b[1;31mKeyboardInterrupt\u001b[0m                         Traceback (most recent call last)",
      "\u001b[1;32m<ipython-input-352-216d7189f921>\u001b[0m in \u001b[0;36m<module>\u001b[1;34m\u001b[0m\n\u001b[0;32m      4\u001b[0m \u001b[1;33m\u001b[0m\u001b[0m\n\u001b[0;32m      5\u001b[0m \u001b[1;32mwhile\u001b[0m \u001b[1;33m(\u001b[0m\u001b[1;36m1\u001b[0m\u001b[1;33m)\u001b[0m\u001b[1;33m:\u001b[0m\u001b[1;33m\u001b[0m\u001b[1;33m\u001b[0m\u001b[0m\n\u001b[1;32m----> 6\u001b[1;33m     \u001b[0mx\u001b[0m\u001b[1;33m=\u001b[0m\u001b[0minput\u001b[0m\u001b[1;33m(\u001b[0m\u001b[1;34m\"\"\u001b[0m\u001b[1;33m)\u001b[0m\u001b[1;33m\u001b[0m\u001b[1;33m\u001b[0m\u001b[0m\n\u001b[0m\u001b[0;32m      7\u001b[0m     \u001b[1;32mfor\u001b[0m \u001b[0mv\u001b[0m \u001b[1;32min\u001b[0m \u001b[0mdic1\u001b[0m\u001b[1;33m.\u001b[0m\u001b[0mvalues\u001b[0m\u001b[1;33m(\u001b[0m\u001b[1;33m)\u001b[0m\u001b[1;33m:\u001b[0m\u001b[1;33m\u001b[0m\u001b[1;33m\u001b[0m\u001b[0m\n\u001b[0;32m      8\u001b[0m         \u001b[1;32mif\u001b[0m \u001b[0mx\u001b[0m \u001b[1;32min\u001b[0m \u001b[0mv\u001b[0m\u001b[1;33m:\u001b[0m\u001b[1;33m\u001b[0m\u001b[1;33m\u001b[0m\u001b[0m\n",
      "\u001b[1;32m~\\anaconda3\\lib\\site-packages\\ipykernel\\kernelbase.py\u001b[0m in \u001b[0;36mraw_input\u001b[1;34m(self, prompt)\u001b[0m\n\u001b[0;32m    858\u001b[0m                 \u001b[1;34m\"raw_input was called, but this frontend does not support input requests.\"\u001b[0m\u001b[1;33m\u001b[0m\u001b[1;33m\u001b[0m\u001b[0m\n\u001b[0;32m    859\u001b[0m             )\n\u001b[1;32m--> 860\u001b[1;33m         return self._input_request(str(prompt),\n\u001b[0m\u001b[0;32m    861\u001b[0m             \u001b[0mself\u001b[0m\u001b[1;33m.\u001b[0m\u001b[0m_parent_ident\u001b[0m\u001b[1;33m,\u001b[0m\u001b[1;33m\u001b[0m\u001b[1;33m\u001b[0m\u001b[0m\n\u001b[0;32m    862\u001b[0m             \u001b[0mself\u001b[0m\u001b[1;33m.\u001b[0m\u001b[0m_parent_header\u001b[0m\u001b[1;33m,\u001b[0m\u001b[1;33m\u001b[0m\u001b[1;33m\u001b[0m\u001b[0m\n",
      "\u001b[1;32m~\\anaconda3\\lib\\site-packages\\ipykernel\\kernelbase.py\u001b[0m in \u001b[0;36m_input_request\u001b[1;34m(self, prompt, ident, parent, password)\u001b[0m\n\u001b[0;32m    902\u001b[0m             \u001b[1;32mexcept\u001b[0m \u001b[0mKeyboardInterrupt\u001b[0m\u001b[1;33m:\u001b[0m\u001b[1;33m\u001b[0m\u001b[1;33m\u001b[0m\u001b[0m\n\u001b[0;32m    903\u001b[0m                 \u001b[1;31m# re-raise KeyboardInterrupt, to truncate traceback\u001b[0m\u001b[1;33m\u001b[0m\u001b[1;33m\u001b[0m\u001b[1;33m\u001b[0m\u001b[0m\n\u001b[1;32m--> 904\u001b[1;33m                 \u001b[1;32mraise\u001b[0m \u001b[0mKeyboardInterrupt\u001b[0m\u001b[1;33m(\u001b[0m\u001b[1;34m\"Interrupted by user\"\u001b[0m\u001b[1;33m)\u001b[0m \u001b[1;32mfrom\u001b[0m \u001b[1;32mNone\u001b[0m\u001b[1;33m\u001b[0m\u001b[1;33m\u001b[0m\u001b[0m\n\u001b[0m\u001b[0;32m    905\u001b[0m             \u001b[1;32mexcept\u001b[0m \u001b[0mException\u001b[0m \u001b[1;32mas\u001b[0m \u001b[0me\u001b[0m\u001b[1;33m:\u001b[0m\u001b[1;33m\u001b[0m\u001b[1;33m\u001b[0m\u001b[0m\n\u001b[0;32m    906\u001b[0m                 \u001b[0mself\u001b[0m\u001b[1;33m.\u001b[0m\u001b[0mlog\u001b[0m\u001b[1;33m.\u001b[0m\u001b[0mwarning\u001b[0m\u001b[1;33m(\u001b[0m\u001b[1;34m\"Invalid Message:\"\u001b[0m\u001b[1;33m,\u001b[0m \u001b[0mexc_info\u001b[0m\u001b[1;33m=\u001b[0m\u001b[1;32mTrue\u001b[0m\u001b[1;33m)\u001b[0m\u001b[1;33m\u001b[0m\u001b[1;33m\u001b[0m\u001b[0m\n",
      "\u001b[1;31mKeyboardInterrupt\u001b[0m: Interrupted by user"
     ]
    }
   ],
   "source": [
    "dic1={'사과':'아주 맛있는 과일','복숭아':'매우 달달한 과일'}\n",
    "dic2={\"Apple\":\"very delicious fruit\", \"Peach\":\"wonderful sweet fruit\"}\n",
    "\n",
    "\n",
    "while (1):\n",
    "    x=input(\"\")\n",
    "    for v in dic1.values():\n",
    "        if x in v:\n",
    "            Val=v\n",
    "            print(Val)\n",
    "            if Val in dic1.values():\n",
    "                print(\"Search result: \", [k for k, v in dic1.items() if v == Val])\n",
    "               \n",
    "    for v in dic2.values():\n",
    "        if x in v:\n",
    "            Val=v\n",
    "            print(Val)\n",
    "            if Val in dic2.values():\n",
    "                print(\"Search result: \", [k for k, v in dic2.items() if v == Val])\n",
    "                \n",
    "    for v in dic1.values():\n",
    "        if not (x in v):\n",
    "            print(\"No match!! Break!\")\n",
    "    break\n",
    "\n",
    "    for v in dic2.values():\n",
    "        if not (x in v):\n",
    "            print(\"No match!! Break!\")\n",
    "    break\n",
    "        "
   ]
  },
  {
   "cell_type": "code",
   "execution_count": 382,
   "metadata": {},
   "outputs": [
    {
     "ename": "SyntaxError",
     "evalue": "unexpected EOF while parsing (<ipython-input-382-9923efd86df1>, line 48)",
     "output_type": "error",
     "traceback": [
      "\u001b[1;36m  File \u001b[1;32m\"<ipython-input-382-9923efd86df1>\"\u001b[1;36m, line \u001b[1;32m48\u001b[0m\n\u001b[1;33m    print(list(Search(*dics))\u001b[0m\n\u001b[1;37m                             ^\u001b[0m\n\u001b[1;31mSyntaxError\u001b[0m\u001b[1;31m:\u001b[0m unexpected EOF while parsing\n"
     ]
    }
   ],
   "source": [
    "def generateDictionary(n):\n",
    "    dic={}\n",
    "\n",
    "    for i in range(n):\n",
    "        word = input(\"프로그래밍 언어 이름: \")\n",
    "        desc = input(\"프로그래밍 언어 설명: \")\n",
    "        dic[word]=desc\n",
    "    return dic\n",
    "\n",
    "def translateDictionary(dic):\n",
    "    new_dic={}\n",
    "\n",
    "    for word in dic:\n",
    "        print(\"=영어사전 생성=\")\n",
    "        print(\"decsription:\", dic[word])\n",
    "        new_word = input(\"input the name of the language in English:\")\n",
    "        new_desc = input(\"input the description of the language in English :\")\n",
    "        new_dic[new_word]=new_desc\n",
    "    return new_dic\n",
    "\n",
    "def printDictionary(*dicts):\n",
    "    for dic in dicts:\n",
    "        for word in dic:\n",
    "            print (word, \":\", dic[word])\n",
    "def Search(*dics):\n",
    "    while (1):\n",
    "        x=input(\"\")\n",
    "        for v in dic1.values():\n",
    "            if x in v:\n",
    "                Val=v\n",
    "                if Val in dic1.values():\n",
    "                    print(\"Search result: \", [k for k, v in dic1.items() if v == Val])\n",
    "        for v in dic2.values():\n",
    "            if x in v:\n",
    "                Val=v\n",
    "                if Val in dic2.values():\n",
    "                    print(\"Search result: \", [k for k, v in dic2.items() if v == Val])\n",
    "        break\n",
    "        print(\"NO match\")\n",
    "                \n",
    "\n",
    "n=int(input(\"input number of keys : \"))\n",
    "dic1=generateDictionary(n)\n",
    "dic2=translateDictionary(dic1)\n",
    "print(dic1)\n",
    "print(dic2)\n",
    "print(\"=====================\")\n",
    "print(list(Search(*dics))"
   ]
  },
  {
   "cell_type": "code",
   "execution_count": null,
   "metadata": {},
   "outputs": [],
   "source": []
  },
  {
   "cell_type": "code",
   "execution_count": null,
   "metadata": {},
   "outputs": [],
   "source": []
  },
  {
   "cell_type": "code",
   "execution_count": 380,
   "metadata": {},
   "outputs": [
    {
     "ename": "NameError",
     "evalue": "name 'search' is not defined",
     "output_type": "error",
     "traceback": [
      "\u001b[1;31m---------------------------------------------------------------------------\u001b[0m",
      "\u001b[1;31mNameError\u001b[0m                                 Traceback (most recent call last)",
      "\u001b[1;32m<ipython-input-380-5934c800a8c1>\u001b[0m in \u001b[0;36m<module>\u001b[1;34m\u001b[0m\n\u001b[1;32m----> 1\u001b[1;33m \u001b[0msearch\u001b[0m\u001b[1;33m(\u001b[0m\u001b[1;33m*\u001b[0m\u001b[0mdics\u001b[0m\u001b[1;33m)\u001b[0m\u001b[1;33m\u001b[0m\u001b[1;33m\u001b[0m\u001b[0m\n\u001b[0m",
      "\u001b[1;31mNameError\u001b[0m: name 'search' is not defined"
     ]
    }
   ],
   "source": [
    "search(*dics)"
   ]
  },
  {
   "cell_type": "code",
   "execution_count": null,
   "metadata": {},
   "outputs": [],
   "source": []
  },
  {
   "cell_type": "code",
   "execution_count": null,
   "metadata": {},
   "outputs": [],
   "source": []
  },
  {
   "cell_type": "code",
   "execution_count": 405,
   "metadata": {},
   "outputs": [
    {
     "name": "stdout",
     "output_type": "stream",
     "text": [
      "input number of keys : 2\n",
      "프로그래밍 언어 이름: 파이썬\n",
      "프로그래밍 언어 설명: 쉬운\n",
      "프로그래밍 언어 이름: C 언어\n",
      "프로그래밍 언어 설명: 어려운\n",
      "=영어사전 생성=\n",
      "decsription: 쉬운\n",
      "input the name of the language in English:python\n",
      "input the description of the language in English :easy\n",
      "=영어사전 생성=\n",
      "decsription: 어려운\n",
      "input the name of the language in English:C langu\n",
      "input the description of the language in English :hard\n",
      "{'파이썬': '쉬운', 'C 언어': '어려운'}\n",
      "{'python': 'easy', 'C langu': 'hard'}\n",
      "[{'파이썬': '쉬운', 'C 언어': '어려운'}]\n",
      "[{'파이썬': '쉬운', 'C 언어': '어려운'}, {'python': 'easy', 'C langu': 'hard'}]\n"
     ]
    },
    {
     "ename": "TypeError",
     "evalue": "'list' object is not callable",
     "output_type": "error",
     "traceback": [
      "\u001b[1;31m---------------------------------------------------------------------------\u001b[0m",
      "\u001b[1;31mTypeError\u001b[0m                                 Traceback (most recent call last)",
      "\u001b[1;32m<ipython-input-405-599800b31fcb>\u001b[0m in \u001b[0;36m<module>\u001b[1;34m\u001b[0m\n\u001b[0;32m     36\u001b[0m \u001b[0mdic3\u001b[0m\u001b[1;33m=\u001b[0m\u001b[0mSearchDictionary\u001b[0m\u001b[1;33m(\u001b[0m\u001b[0mdic1\u001b[0m\u001b[1;33m)\u001b[0m\u001b[1;33m\u001b[0m\u001b[1;33m\u001b[0m\u001b[0m\n\u001b[0;32m     37\u001b[0m \u001b[0mdic4\u001b[0m\u001b[1;33m=\u001b[0m\u001b[0mSearchDictionary\u001b[0m\u001b[1;33m(\u001b[0m\u001b[0mdic2\u001b[0m\u001b[1;33m)\u001b[0m\u001b[1;33m\u001b[0m\u001b[1;33m\u001b[0m\u001b[0m\n\u001b[1;32m---> 38\u001b[1;33m \u001b[0mprint\u001b[0m\u001b[1;33m(\u001b[0m\u001b[0mlist\u001b[0m\u001b[1;33m(\u001b[0m\u001b[0mdic3\u001b[0m\u001b[1;33m,\u001b[0m \u001b[0mdic4\u001b[0m\u001b[1;33m)\u001b[0m\u001b[1;33m)\u001b[0m\u001b[1;33m\u001b[0m\u001b[1;33m\u001b[0m\u001b[0m\n\u001b[0m",
      "\u001b[1;31mTypeError\u001b[0m: 'list' object is not callable"
     ]
    }
   ],
   "source": [
    "def generateDictionary(n):\n",
    "    dic={}\n",
    "    for i in range(n):\n",
    "        word = input(\"프로그래밍 언어 이름: \")\n",
    "        desc = input(\"프로그래밍 언어 설명: \")\n",
    "        dic[word]=desc\n",
    "    return dic\n",
    "\n",
    "def translateDictionary(dic):\n",
    "    new_dic={}\n",
    "    for word in dic:\n",
    "        print(\"=영어사전 생성=\")\n",
    "        print(\"decsription:\", dic[word])\n",
    "        new_word = input(\"input the name of the language in English:\")\n",
    "        new_desc = input(\"input the description of the language in English :\")\n",
    "        new_dic[new_word]=new_desc\n",
    "    return new_dic\n",
    "\n",
    "def printDictionary(*dics):\n",
    "    for dic in dics:\n",
    "        for word in dic:\n",
    "            print (word, \":\", dic[word])\n",
    "\n",
    "list=[]\n",
    "def SearchDictionary(*dics):\n",
    "    for dic in dics:\n",
    "        for desc in dics:\n",
    "            list.append(desc)\n",
    "            print(list)\n",
    "\n",
    "n=int(input(\"input number of keys : \"))\n",
    "dic1=generateDictionary(n)\n",
    "dic2=translateDictionary(dic1)\n",
    "print(dic1)\n",
    "print(dic2)\n",
    "print("
   ]
  },
  {
   "cell_type": "code",
   "execution_count": 446,
   "metadata": {},
   "outputs": [
    {
     "name": "stdout",
     "output_type": "stream",
     "text": [
      "달달한\n",
      "[['복숭아']]\n",
      "과일\n",
      "[['사과'], ['복숭아']]\n",
      "사과\n",
      "없어\n"
     ]
    }
   ],
   "source": [
    "dic1={'사과':'아주 맛있는 과일','복숭아':'매우 달달한 과일'}\n",
    "dic2={\"Apple\":\"very delicious fruit\", \"Peach\":\"wonderful sweet fruit\"}\n",
    "\n",
    "\n",
    "while True:\n",
    "    x=input(\"\")\n",
    "    ans1=[] \n",
    "    ans2=[]\n",
    "    for v in dic1.values():\n",
    "        if x in v:\n",
    "            Val=v\n",
    "            if Val in dic1.values():\n",
    "                ans1.append([k for k, v in dic1.items() if v == Val])\n",
    "\n",
    "\n",
    "    for v in dic2.values():\n",
    "        if x in v:\n",
    "            Val=v\n",
    "            if Val in dic2.values():\n",
    "                ans2.append([k for k, v in dic2.items() if v == Val])\n",
    "                \n",
    "    ans=ans1+ans2            \n",
    "    if ans==[]:\n",
    "        print(\"없어\")\n",
    "        break\n",
    "    print(ans)"
   ]
  },
  {
   "cell_type": "code",
   "execution_count": 468,
   "metadata": {},
   "outputs": [
    {
     "name": "stdout",
     "output_type": "stream",
     "text": [
      "input number of keys : 2\n",
      "프로그래밍 언어 이름: 파이썬\n",
      "프로그래밍 언어 설명: 쉬운 프로그래밍 언어\n",
      "프로그래밍 언어 이름: C언어\n",
      "프로그래밍 언어 설명: 어려운 프로그래밍 언어\n",
      "=영어사전 생성=\n",
      "decsription: 쉬운 프로그래밍 언어\n",
      "input the name of the language in English:python\n",
      "input the description of the language in English :easy programming language\n",
      "=영어사전 생성=\n",
      "decsription: 어려운 프로그래밍 언어\n",
      "input the name of the language in English:C language\n",
      "input the description of the language in English :hard programming language\n",
      "{'파이썬': '쉬운 프로그래밍 언어', 'C언어': '어려운 프로그래밍 언어'}\n",
      "{'python': 'easy programming language', 'C language': 'hard programming language'}\n",
      "언어\n",
      "['파이썬', 'C언어']\n",
      "쉬운\n",
      "['파이썬']\n",
      "hard\n",
      "['C language']\n",
      "language\n",
      "['python', 'C language']\n",
      "기초\n",
      "No match!! Break!\n"
     ]
    }
   ],
   "source": [
    "def generateDictionary(n):\n",
    "    dic={}\n",
    "    for i in range(n):\n",
    "        word = input(\"프로그래밍 언어 이름: \")\n",
    "        desc = input(\"프로그래밍 언어 설명: \")\n",
    "        dic[word]=desc\n",
    "    return dic\n",
    "\n",
    "def translateDictionary(dic):\n",
    "    new_dic={}\n",
    "    for word in dic:\n",
    "        print(\"=영어사전 생성=\")\n",
    "        print(\"decsription:\", dic[word])\n",
    "        new_word = input(\"input the name of the language in English:\")\n",
    "        new_desc = input(\"input the description of the language in English :\")\n",
    "        new_dic[new_word]=new_desc\n",
    "    return new_dic\n",
    "\n",
    "def printDictionary(*dics):\n",
    "    for dic in dics:\n",
    "        for word in dic:\n",
    "            print (word, \":\", dic[word])\n",
    "\n",
    "list=[]\n",
    "def SearchDictionary(*dics):\n",
    "    while True:\n",
    "        x=input(\"\")\n",
    "        ans1=[]\n",
    "        ans2=[]\n",
    "        for v in dic1.values():\n",
    "            if x in v:\n",
    "                Val=v\n",
    "                if Val in dic1.values():\n",
    "                    ans1.append(''.join([k for k, v in dic1.items() if v == Val]))\n",
    "        for v in dic2.values():\n",
    "            if x in v:\n",
    "                Val=v\n",
    "                if Val in dic2. values():\n",
    "                    ans2.append(''.join([k for k, v in dic2.items() if v == Val]))\n",
    "                    \n",
    "        ans=ans1+ans2\n",
    "        \n",
    "        if ans != []:\n",
    "            print(ans)\n",
    "        else:\n",
    "            return \"No match!! Break!\"\n",
    "        \n",
    "        \n",
    "n=int(input(\"input number of keys : \"))\n",
    "dic1=generateDictionary(n)\n",
    "dic2=translateDictionary(dic1)\n",
    "print(dic1)\n",
    "print(dic2)\n",
    "print(SearchDictionary())"
   ]
  },
  {
   "cell_type": "code",
   "execution_count": 465,
   "metadata": {},
   "outputs": [
    {
     "name": "stdout",
     "output_type": "stream",
     "text": [
      "data\n",
      "d_a_t_a\n"
     ]
    }
   ],
   "source": [
    "l = ['d', 'a', 't', 'a']\n",
    "\n",
    "print(''.join(l)) #data\n",
    "print('_'.join(l))"
   ]
  },
  {
   "cell_type": "code",
   "execution_count": 362,
   "metadata": {},
   "outputs": [
    {
     "name": "stdout",
     "output_type": "stream",
     "text": [
      "맛있는\n",
      "아주 맛있는 과일\n",
      "사과\n",
      "복숭아\n"
     ]
    }
   ],
   "source": [
    "dic1={'사과':'아주 맛있는 과일','복숭아':'매우 달달한 과일'}\n",
    "dic2={\"Apple\":\"very delicious fruit\", \"Peach\":\"wonderful sweet fruit\"}\n",
    "x=input(\"\")\n",
    "\n",
    "for v in dic1.values():\n",
    "    if x in v:\n",
    "        Val=v\n",
    "        print (Val)\n",
    "        \n",
    "for v in dic2.values():\n",
    "    if x in v:\n",
    "        Val=v\n",
    "        print(Val)\n",
    "        \n",
    "for k in dic1.keys():\n",
    "    for v in dic1.values():\n",
    "        if v==Val:\n",
    "            print(k)\n",
    "            break\n",
    "            "
   ]
  },
  {
   "cell_type": "code",
   "execution_count": 358,
   "metadata": {},
   "outputs": [
    {
     "name": "stdout",
     "output_type": "stream",
     "text": [
      "맛있는\n",
      "No match\n",
      "Search result:  ['사과']\n",
      "None\n"
     ]
    }
   ],
   "source": [
    "dic1={'사과':'아주 맛있는 과일','복숭아':'매우 달달한 과일'}\n",
    "dic2={\"Apple\":\"very delicious fruit\", \"Peach\":\"wonderful sweet fruit\"}\n",
    "\n",
    "\n",
    "while True:\n",
    "    x=input(\"\")\n",
    "    if not (x in dic1. values() and x in dic2.valuse()):\n",
    "        print(\"No match\")\n",
    "        break\n",
    "    else:\n",
    "        for v in dic1.values():\n",
    "            if x in v:\n",
    "                Val=v\n",
    "        for v in dic2.values():\n",
    "            if x in v:\n",
    "                Val=v\n",
    "\n",
    "def Print():\n",
    "    if Val in dic2.values():\n",
    "        print(\"Search result: \", [k for k, v in dic2.items() if v == Val])\n",
    "    elif Val in dic1. values():\n",
    "        print(\"Search result: \", [k for k, v in dic1.items() if v == Val])\n",
    "    else:\n",
    "        print(\"No match!! Break\")\n",
    "\n",
    "print(Print())\n"
   ]
  }
 ],
 "metadata": {
  "kernelspec": {
   "display_name": "Python 3",
   "language": "python",
   "name": "python3"
  },
  "language_info": {
   "codemirror_mode": {
    "name": "ipython",
    "version": 3
   },
   "file_extension": ".py",
   "mimetype": "text/x-python",
   "name": "python",
   "nbconvert_exporter": "python",
   "pygments_lexer": "ipython3",
   "version": "3.8.5"
  }
 },
 "nbformat": 4,
 "nbformat_minor": 4
}
