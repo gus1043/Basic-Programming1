{
 "cells": [
  {
   "cell_type": "code",
   "execution_count": 3,
   "metadata": {},
   "outputs": [
    {
     "name": "stdout",
     "output_type": "stream",
     "text": [
      "9.4247779605\n"
     ]
    }
   ],
   "source": [
    "_pi_ = 3.1415926535\n",
    "k=_and= 3\n",
    "print(_pi_*_and)"
   ]
  },
  {
   "cell_type": "code",
   "execution_count": 13,
   "metadata": {},
   "outputs": [
    {
     "name": "stdout",
     "output_type": "stream",
     "text": [
      "input an integer number: 3\n",
      "Normal circle! The area is 28.259999999999998\n"
     ]
    }
   ],
   "source": [
    "PI=3.14\n",
    "radius=int(input('input an integer number: '))\n",
    "area=PI*radius*radius\n",
    "\n",
    "if radius <= 0 :\n",
    "    print('Wrong input! The area is', area)\n",
    "elif area >= 50:\n",
    "    print('Very big circle! The area is', area)\n",
    "else:\n",
    "    print ('Normal circle! The area is', area)"
   ]
  },
  {
   "cell_type": "code",
   "execution_count": 8,
   "metadata": {},
   "outputs": [
    {
     "name": "stdout",
     "output_type": "stream",
     "text": [
      "input an integer number:4\n",
      "input an integer number:4\n",
      "They are same!\n"
     ]
    }
   ],
   "source": [
    "num1=int(input('input an integer number:'))\n",
    "num2=int(input('input an integer number:'))\n",
    "\n",
    "if num1>num2 :\n",
    "    print (num2)\n",
    "elif num2>num1 :\n",
    "    print (num1)\n",
    "else:\n",
    "    print ('They are same!')"
   ]
  },
  {
   "cell_type": "code",
   "execution_count": 6,
   "metadata": {},
   "outputs": [
    {
     "name": "stdout",
     "output_type": "stream",
     "text": [
      "문자열의 입력하시오:기초프로그래밍실습문제\n",
      "기초\n",
      "초프\n",
      "프로\n",
      "로그\n",
      "그래\n",
      "래밍\n",
      "밍실\n",
      "실습\n",
      "습문\n",
      "문제\n",
      "제\n"
     ]
    }
   ],
   "source": [
    "korean_str=input('문자열의 입력하시오:')\n",
    "str_len=len(korean_str)\n",
    "i=0\n",
    "while (str_len>0) :\n",
    "    print(korean_str[i:i+2])\n",
    "    i=i+1\n",
    "    str_len = str_len-1"
   ]
  },
  {
   "cell_type": "code",
   "execution_count": 10,
   "metadata": {},
   "outputs": [
    {
     "name": "stdout",
     "output_type": "stream",
     "text": [
      "input a stringMy FIRST programming language is PYTHON!!!\n",
      "input a sting: My FIRST programming language is PYTHON!!!\n",
      "Length of input string:  42\n",
      "The number of lower letters are  19\n"
     ]
    }
   ],
   "source": [
    "English_str=input('input a string')\n",
    "str_len=len(English_str)\n",
    "print('input a sting:',English_str)\n",
    "print('Length of input string: ',str_len)\n",
    "\n",
    "i=0\n",
    "lowerstr_len=0\n",
    "\n",
    "while(i<str_len) :\n",
    "    if(English_str[i]>'a' and English_str[i]<='z') :\n",
    "        lowerstr_len += 1\n",
    "    i+=1\n",
    "print('The number of lower letters are ', lowerstr_len)"
   ]
  },
  {
   "cell_type": "code",
   "execution_count": 17,
   "metadata": {},
   "outputs": [
    {
     "name": "stdout",
     "output_type": "stream",
     "text": [
      "input 1st sting:1 \n",
      "input 2nd sting: 2 \n",
      "input 3rd sting: 3\n",
      "The merged sting: 1 2 3\n"
     ]
    }
   ],
   "source": [
    "cr1=input('input 1st sting:')\n",
    "cr2=input('input 2nd sting: ')\n",
    "cr3=input('input 3rd sting: ')\n",
    "print ('The merged sting:', cr1 + cr2 + cr3)"
   ]
  },
  {
   "cell_type": "code",
   "execution_count": 18,
   "metadata": {},
   "outputs": [
    {
     "ename": "SyntaxError",
     "evalue": "unexpected EOF while parsing (<ipython-input-18-f3f3f1e81bf4>, line 11)",
     "output_type": "error",
     "traceback": [
      "\u001b[1;36m  File \u001b[1;32m\"<ipython-input-18-f3f3f1e81bf4>\"\u001b[1;36m, line \u001b[1;32m11\u001b[0m\n\u001b[1;33m    \u001b[0m\n\u001b[1;37m    ^\u001b[0m\n\u001b[1;31mSyntaxError\u001b[0m\u001b[1;31m:\u001b[0m unexpected EOF while parsing\n"
     ]
    }
   ],
   "source": [
    "cr1=input('input a string; ')\n",
    "cnt=len(cr1)\n",
    "\n",
    "i=0\n",
    "\n",
    "while(i<cnt) :\n",
    "    if(cr1[i]>'a' and cr1[i]<='z') :\n",
    "        \n",
    "    \n",
    "    "
   ]
  },
  {
   "cell_type": "code",
   "execution_count": null,
   "metadata": {},
   "outputs": [],
   "source": []
  },
  {
   "cell_type": "code",
   "execution_count": null,
   "metadata": {},
   "outputs": [],
   "source": []
  },
  {
   "cell_type": "code",
   "execution_count": null,
   "metadata": {},
   "outputs": [],
   "source": []
  },
  {
   "cell_type": "code",
   "execution_count": null,
   "metadata": {},
   "outputs": [],
   "source": []
  },
  {
   "cell_type": "code",
   "execution_count": null,
   "metadata": {},
   "outputs": [],
   "source": []
  },
  {
   "cell_type": "code",
   "execution_count": null,
   "metadata": {},
   "outputs": [],
   "source": []
  },
  {
   "cell_type": "code",
   "execution_count": null,
   "metadata": {},
   "outputs": [],
   "source": []
  },
  {
   "cell_type": "code",
   "execution_count": null,
   "metadata": {},
   "outputs": [],
   "source": []
  },
  {
   "cell_type": "code",
   "execution_count": null,
   "metadata": {},
   "outputs": [],
   "source": []
  },
  {
   "cell_type": "code",
   "execution_count": null,
   "metadata": {},
   "outputs": [],
   "source": []
  },
  {
   "cell_type": "code",
   "execution_count": null,
   "metadata": {},
   "outputs": [],
   "source": []
  },
  {
   "cell_type": "code",
   "execution_count": null,
   "metadata": {},
   "outputs": [],
   "source": []
  },
  {
   "cell_type": "code",
   "execution_count": null,
   "metadata": {},
   "outputs": [],
   "source": []
  },
  {
   "cell_type": "code",
   "execution_count": null,
   "metadata": {},
   "outputs": [],
   "source": []
  },
  {
   "cell_type": "code",
   "execution_count": null,
   "metadata": {},
   "outputs": [],
   "source": []
  },
  {
   "cell_type": "code",
   "execution_count": null,
   "metadata": {},
   "outputs": [],
   "source": []
  },
  {
   "cell_type": "code",
   "execution_count": null,
   "metadata": {},
   "outputs": [],
   "source": []
  },
  {
   "cell_type": "code",
   "execution_count": null,
   "metadata": {},
   "outputs": [],
   "source": []
  },
  {
   "cell_type": "code",
   "execution_count": null,
   "metadata": {},
   "outputs": [],
   "source": []
  }
 ],
 "metadata": {
  "kernelspec": {
   "display_name": "Python 3",
   "language": "python",
   "name": "python3"
  },
  "language_info": {
   "codemirror_mode": {
    "name": "ipython",
    "version": 3
   },
   "file_extension": ".py",
   "mimetype": "text/x-python",
   "name": "python",
   "nbconvert_exporter": "python",
   "pygments_lexer": "ipython3",
   "version": "3.8.5"
  }
 },
 "nbformat": 4,
 "nbformat_minor": 4
}
