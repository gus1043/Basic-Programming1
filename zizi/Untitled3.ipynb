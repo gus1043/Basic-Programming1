{
 "cells": [
  {
   "cell_type": "code",
   "execution_count": 1,
   "metadata": {},
   "outputs": [
    {
     "name": "stdout",
     "output_type": "stream",
     "text": [
      "Input loop count: 3\n",
      "-------------------------\n",
      "input name: \n",
      "이름을 잘못 입력하였습니다. 다시 입력하세요.\n",
      "input name: 김도형\n",
      "input student id:80170111\n",
      "input grade:1\n",
      "-------------------------\n",
      "input name: 이경식\n",
      "input student id:80170113\n",
      "input grade:1\n",
      "-------------------------\n",
      "input name: 이은수\n",
      "input student id:60152221\n",
      "input grade:3\n",
      "-------------------------\n"
     ]
    },
    {
     "ename": "NameError",
     "evalue": "name 'attrgetter' is not defined",
     "output_type": "error",
     "traceback": [
      "\u001b[1;31m---------------------------------------------------------------------------\u001b[0m",
      "\u001b[1;31mNameError\u001b[0m                                 Traceback (most recent call last)",
      "\u001b[1;32m<ipython-input-1-d7185fde9759>\u001b[0m in \u001b[0;36m<module>\u001b[1;34m\u001b[0m\n\u001b[0;32m     44\u001b[0m     \u001b[0mprint\u001b[0m\u001b[1;33m(\u001b[0m\u001b[1;34m\"-------------------------\"\u001b[0m\u001b[1;33m)\u001b[0m\u001b[1;33m\u001b[0m\u001b[1;33m\u001b[0m\u001b[0m\n\u001b[0;32m     45\u001b[0m \u001b[1;33m\u001b[0m\u001b[0m\n\u001b[1;32m---> 46\u001b[1;33m \u001b[0mlist\u001b[0m\u001b[1;33m=\u001b[0m\u001b[0msorted\u001b[0m\u001b[1;33m(\u001b[0m\u001b[0mlist\u001b[0m\u001b[1;33m,\u001b[0m\u001b[0mkey\u001b[0m\u001b[1;33m=\u001b[0m\u001b[0mattrgetter\u001b[0m\u001b[1;33m(\u001b[0m\u001b[1;34m'stdid'\u001b[0m\u001b[1;33m)\u001b[0m\u001b[1;33m)\u001b[0m\u001b[1;33m\u001b[0m\u001b[1;33m\u001b[0m\u001b[0m\n\u001b[0m\u001b[0;32m     47\u001b[0m \u001b[0mprint\u001b[0m\u001b[1;33m(\u001b[0m\u001b[0mlist\u001b[0m\u001b[1;33m)\u001b[0m\u001b[1;33m\u001b[0m\u001b[1;33m\u001b[0m\u001b[0m\n",
      "\u001b[1;31mNameError\u001b[0m: name 'attrgetter' is not defined"
     ]
    }
   ],
   "source": [
    "import collections\n",
    "import operator\n",
    "\n",
    "def chkname(string):\n",
    "    if string == \"\":\n",
    "        return False\n",
    "    for i in string:\n",
    "        if (i in \"+-*/\"):\n",
    "            return False\n",
    "    return True\n",
    "    \n",
    "def chknum(num):\n",
    "    for i in num:\n",
    "        if not (i in \"0123456789\"):\n",
    "            return False\n",
    "    return True\n",
    "\n",
    "cnt=int(input(\"Input loop count: \"))\n",
    "print(\"-------------------------\")\n",
    "Student = collections.namedtuple(\"Student\", \"name stdid grade\")\n",
    "list=[]\n",
    "while cnt>0:\n",
    "    while True:\n",
    "        name1 = input(\"input name: \")\n",
    "        if chkname(name1):\n",
    "            break\n",
    "        print(\"이름을 잘못 입력하였습니다. 다시 입력하세요.\")\n",
    "        \n",
    "    while True:\n",
    "        stdid1 = input(\"input student id:\")\n",
    "        if chkname(stdid1):\n",
    "            stdid1 = int(stdid1)\n",
    "            break\n",
    "        print(\"학번을 잘못 입력하였습니다. 다시 입력하세요.\")\n",
    "    while True:\n",
    "        grade1 = input(\"input grade:\")\n",
    "        if chkname(grade1):\n",
    "            grade1 = int(grade1)\n",
    "            break\n",
    "        print(\"학년을 잘못 입력하였습니다. 다시 입력하세요.\")\n",
    "    cnt-=1\n",
    "    std = Student(name=name1, stdid=stdid1, grade=grade1)\n",
    "    list.append(std)\n",
    "    print(\"-------------------------\")\n",
    "\n",
    "list=sorted(list,key=attrgetter('stdid'))\n",
    "print(list)"
   ]
  },
  {
   "cell_type": "code",
   "execution_count": null,
   "metadata": {},
   "outputs": [],
   "source": []
  }
 ],
 "metadata": {
  "kernelspec": {
   "display_name": "Python 3",
   "language": "python",
   "name": "python3"
  },
  "language_info": {
   "codemirror_mode": {
    "name": "ipython",
    "version": 3
   },
   "file_extension": ".py",
   "mimetype": "text/x-python",
   "name": "python",
   "nbconvert_exporter": "python",
   "pygments_lexer": "ipython3",
   "version": "3.8.5"
  }
 },
 "nbformat": 4,
 "nbformat_minor": 4
}
