{
 "cells": [
  {
   "cell_type": "code",
   "execution_count": 1,
   "metadata": {},
   "outputs": [
    {
     "name": "stdout",
     "output_type": "stream",
     "text": [
      "My first name: Ji-Hyeon\n",
      "My last name: Choi\n",
      "My birth year: 2001\n",
      "This year: 2021\n",
      "My gender: female\n",
      "My school-id: 60211704\n"
     ]
    }
   ],
   "source": [
    "chr1=input(\"My first name: \")\n",
    "chr2=input(\"My last name: \")\n",
    "chr3=input(\"My birth year: \")\n",
    "chr4=input(\"This year: \")\n",
    "chr5=input(\"My gender: \")\n",
    "chr6=input(\"My school-id: \")"
   ]
  },
  {
   "cell_type": "code",
   "execution_count": 2,
   "metadata": {},
   "outputs": [
    {
     "name": "stdout",
     "output_type": "stream",
     "text": [
      "2021 2001\n"
     ]
    }
   ],
   "source": [
    "chr7=int(chr4)\n",
    "chr8=int(chr3)\n",
    "print(chr7, chr8)"
   ]
  },
  {
   "cell_type": "code",
   "execution_count": 3,
   "metadata": {},
   "outputs": [
    {
     "name": "stdout",
     "output_type": "stream",
     "text": [
      "My name is Ji-Hyeon Choi.\n",
      "I am 21 year old female.\n",
      "And I am a student of Data technology major in Myongji University!\n",
      "My student id is 60211704 and I am happy to join this major!\n"
     ]
    }
   ],
   "source": [
    "chr9=(chr7-chr8+1)   #In order to make korean age, I add '1'\n",
    "print(\"My name is\", chr1, chr2+\".\")\n",
    "print(\"I am\", chr9, \"year old\", chr5+\".\")\n",
    "print(\"And I am a student of Data technology major in Myongji University!\")\n",
    "print(\"My student id is\", chr6, \"and I am happy to join this major!\")"
   ]
  },
  {
   "cell_type": "code",
   "execution_count": null,
   "metadata": {},
   "outputs": [],
   "source": []
  }
 ],
 "metadata": {
  "kernelspec": {
   "display_name": "Python 3",
   "language": "python",
   "name": "python3"
  },
  "language_info": {
   "codemirror_mode": {
    "name": "ipython",
    "version": 3
   },
   "file_extension": ".py",
   "mimetype": "text/x-python",
   "name": "python",
   "nbconvert_exporter": "python",
   "pygments_lexer": "ipython3",
   "version": "3.8.5"
  }
 },
 "nbformat": 4,
 "nbformat_minor": 4
}
