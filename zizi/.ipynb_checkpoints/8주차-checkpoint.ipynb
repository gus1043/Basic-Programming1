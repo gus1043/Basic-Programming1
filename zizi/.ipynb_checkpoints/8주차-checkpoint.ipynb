{
 "cells": [
  {
   "cell_type": "code",
   "execution_count": 2,
   "metadata": {},
   "outputs": [
    {
     "name": "stdout",
     "output_type": "stream",
     "text": [
      "((1, 'two', 3), 3.25)\n",
      "(1, 'two', 3, (1, 'two', 3), 3.25)\n",
      "(1, 'two', 3)\n",
      "(3, (1, 'two', 3), 3.25)\n"
     ]
    }
   ],
   "source": [
    "t1=(1, \"two\", 3)\n",
    "t2=(t1, 3.25)\n",
    "print(t2)\n",
    "print(t1+t2)\n",
    "print((t1+t2) [3])\n",
    "print((t1+t2) [2:5])"
   ]
  },
  {
   "cell_type": "code",
   "execution_count": 5,
   "metadata": {},
   "outputs": [
    {
     "name": "stdout",
     "output_type": "stream",
     "text": [
      "(1, 2, 4, 5, 10, 20)\n",
      "42\n"
     ]
    }
   ],
   "source": [
    "def findDivisors(n1,n2):\n",
    "    divisors=() #the empty tuple\n",
    "    for i in range (1, min(n1,n2)+1): #range 는 1부터 21까지(작은거에 +1이니까)-->1부터 20까지 하나-\n",
    "        if n1%i==0 and n2%i==0:\n",
    "            divisors = divisors + (i,)\n",
    "    return divisors\n",
    "\n",
    "divisors = findDivisors(20,100)\n",
    "print(divisors)\n",
    "total=0\n",
    "for d in divisors:\n",
    "    total+=d\n",
    "print(total)"
   ]
  },
  {
   "cell_type": "code",
   "execution_count": 7,
   "metadata": {},
   "outputs": [
    {
     "name": "stdout",
     "output_type": "stream",
     "text": [
      "1 100\n"
     ]
    }
   ],
   "source": [
    "def findExtremeDivisors(n1,n2):\n",
    "    divisors=() #the empty tuple\n",
    "    minVal, maxVal = None, None\n",
    "    for i in range(1, min(n1,n2)+1):\n",
    "        if n1%i==0 and n2%i==0:\n",
    "            if minVal == None or i < minVal:\n",
    "                minVal = i\n",
    "            if maxVal == None or i > maxVal:\n",
    "                maxVal = i\n",
    "    return (minVal, maxVal)\n",
    "\n",
    "minDivisor, maxDivisor = findExtremeDivisors(100,200)\n",
    "print(minDivisor, maxDivisor)"
   ]
  },
  {
   "cell_type": "code",
   "execution_count": 10,
   "metadata": {},
   "outputs": [
    {
     "data": {
      "text/plain": [
       "True"
      ]
     },
     "execution_count": 10,
     "metadata": {},
     "output_type": "execute_result"
    }
   ],
   "source": [
    "range(0,7,2)==range(0,8,2)  #0.2.4.6"
   ]
  },
  {
   "cell_type": "code",
   "execution_count": 14,
   "metadata": {},
   "outputs": [
    {
     "data": {
      "text/plain": [
       "False"
      ]
     },
     "execution_count": 14,
     "metadata": {},
     "output_type": "execute_result"
    }
   ],
   "source": [
    "range(0,7,2)==range(6,-1,-2)  #(0,2,4,6) (6,4,2,0) 순서다름"
   ]
  },
  {
   "cell_type": "code",
   "execution_count": 15,
   "metadata": {},
   "outputs": [
    {
     "name": "stdout",
     "output_type": "stream",
     "text": [
      "I did it all\n",
      "4\n",
      "Love\n"
     ]
    }
   ],
   "source": [
    "L=[\"I did it all\", 4, \"Love\"]\n",
    "for i in range (len(L)):\n",
    "    print(L[i])"
   ]
  },
  {
   "cell_type": "code",
   "execution_count": 19,
   "metadata": {},
   "outputs": [
    {
     "name": "stdout",
     "output_type": "stream",
     "text": [
      "Univs = [['MIT', 'Caltech'], ['Harvard', 'Yale', 'Brown']]\n",
      "Univs1 = [['MIT', 'Caltech'], ['Harvard', 'Yale', 'Brown']]\n",
      "True\n"
     ]
    }
   ],
   "source": [
    "Techs=[\"MIT\", \"Caltech\"]\n",
    "Ivys = [\"Harvard\", \"Yale\", \"Brown\"]\n",
    "Univs=[Techs, Ivys]\n",
    "Univs1=[[\"MIT\", \"Caltech\"], [\"Harvard\", \"Yale\", \"Brown\"]]\n",
    "print(\"Univs =\", Univs)\n",
    "print('Univs1 =', Univs1)\n",
    "print(Univs == Univs1)"
   ]
  },
  {
   "cell_type": "code",
   "execution_count": 22,
   "metadata": {},
   "outputs": [
    {
     "name": "stdout",
     "output_type": "stream",
     "text": [
      "Id of Univs = 2085758176000\n",
      "Id of Univs = 2085757611904\n"
     ]
    }
   ],
   "source": [
    "print(\"Id of Univs =\", id(Univs))\n",
    "print(\"Id of Univs =\", id(Univs1))"
   ]
  },
  {
   "cell_type": "code",
   "execution_count": 23,
   "metadata": {},
   "outputs": [
    {
     "name": "stdout",
     "output_type": "stream",
     "text": [
      "Univs = [['MIT', 'Caltech', 'PRI'], ['Harvard', 'Yale', 'Brown']]\n",
      "Univs1 = [['MIT', 'Caltech'], ['Harvard', 'Yale', 'Brown']]\n"
     ]
    }
   ],
   "source": [
    "Techs.append(\"PRI\")\n",
    "print(\"Univs =\", Univs)\n",
    "print('Univs1 =', Univs1)"
   ]
  },
  {
   "cell_type": "code",
   "execution_count": 30,
   "metadata": {},
   "outputs": [
    {
     "name": "stdout",
     "output_type": "stream",
     "text": [
      "1: [['MIT', 'Caltech'], ['Harvard', 'Yale', 'Brown']]\n",
      "2: ['MIT', 'Caltech', 'Harvard', 'Yale', 'Brown']\n",
      "['MIT', 'Caltech', 'RIT']\n",
      "[['MIT', 'Caltech', 'RIT'], ['Harvard', 'Yale', 'Brown']]\n",
      "['MIT', 'Caltech', 'Harvard', 'Yale', 'Brown']\n"
     ]
    }
   ],
   "source": [
    "techstup=('MIT',\"Caltech\")\n",
    "ivystup = (\"Harvard\", \"Yale\", \"Brown\")\n",
    "techslist=['MIT',\"Caltech\"]\n",
    "ivyslist=[\"Harvard\", \"Yale\", \"Brown\"]\n",
    "Univs = [techslist, ivyslist]\n",
    "print (\"1:\", Univs)\n",
    "flat = techslist+ivyslist\n",
    "print(\"2:\", flat)\n",
    "techslist.append(\"RIT\")\n",
    "print(techslist)\n",
    "print(Univs)\n",
    "print(flat)"
   ]
  },
  {
   "cell_type": "code",
   "execution_count": 32,
   "metadata": {},
   "outputs": [
    {
     "name": "stdout",
     "output_type": "stream",
     "text": [
      "1: [['MIT', 'Caltech'], ['Harvard', 'Yale', 'Brown']]\n",
      "2: ['MIT', 'Caltech', 'Harvard', 'Yale', 'Brown']\n",
      "3: [('MIT', 'Caltech'), ('Harvard', 'Yale', 'Brown')]\n",
      "('MIT', 'Caltech', 'RIP')\n"
     ]
    }
   ],
   "source": [
    "techstup=('MIT',\"Caltech\")\n",
    "ivystup = (\"Harvard\", \"Yale\", \"Brown\")\n",
    "techslist=['MIT',\"Caltech\"]\n",
    "ivyslist=[\"Harvard\", \"Yale\", \"Brown\"]\n",
    "Univs = [techslist, ivyslist]\n",
    "print (\"1:\", Univs)\n",
    "flat = techslist+ivyslist\n",
    "print(\"2:\", flat)\n",
    "Univstup=[techstup, ivystup]\n",
    "print(\"3:\", Univstup)\n",
    "techstup=techstup+(\"RIP\",)\n",
    "print(techstup)"
   ]
  },
  {
   "cell_type": "code",
   "execution_count": 34,
   "metadata": {},
   "outputs": [
    {
     "name": "stdout",
     "output_type": "stream",
     "text": [
      "1: [['MIT', 'Caltech'], ['Harvard', 'Yale', 'Brown']]\n",
      "2: ['MIT', 'Caltech', 'Harvard', 'Yale', 'Brown']\n",
      "3: [('MIT', 'Caltech'), ('Harvard', 'Yale', 'Brown')]\n",
      "4: ['Harvard', 'Yale', 'Brown', 'MIT', 'Caltech']\n",
      "5: [['MIT', 'Caltech'], ['Harvard', 'Yale', 'Brown', 'MIT', 'Caltech']]\n"
     ]
    }
   ],
   "source": [
    "techstup=('MIT',\"Caltech\")\n",
    "ivystup = (\"Harvard\", \"Yale\", \"Brown\")\n",
    "techslist=['MIT',\"Caltech\"]\n",
    "ivyslist=[\"Harvard\", \"Yale\", \"Brown\"]\n",
    "Univs = [techslist, ivyslist]\n",
    "print (\"1:\", Univs)\n",
    "flat = techslist+ivyslist\n",
    "print(\"2:\", flat)\n",
    "Univstup=[techstup, ivystup]\n",
    "print(\"3:\", Univstup)\n",
    "ivyslist.extend(techslist)\n",
    "print(\"4:\", ivyslist)\n",
    "print(\"5:\", Univs)"
   ]
  },
  {
   "cell_type": "code",
   "execution_count": 36,
   "metadata": {},
   "outputs": [
    {
     "name": "stdout",
     "output_type": "stream",
     "text": [
      "L1= [2, 3, 4]\n"
     ]
    }
   ],
   "source": [
    "def removeDups(L1, L2):\n",
    "    for e1 in L1 :\n",
    "        if e1 in L2:\n",
    "            L1.remove(e1)\n",
    "L1=[1,2,3,4]\n",
    "L2=[1,2,5,6]\n",
    "removeDups(L1,L2)\n",
    "print('L1=',L1)"
   ]
  },
  {
   "cell_type": "code",
   "execution_count": 37,
   "metadata": {},
   "outputs": [
    {
     "name": "stdout",
     "output_type": "stream",
     "text": [
      "[1, 4, 9, 16, 25, 36]\n"
     ]
    }
   ],
   "source": [
    "L=[x**2 for x in range(1,7)]\n",
    "print(L)"
   ]
  },
  {
   "cell_type": "code",
   "execution_count": 38,
   "metadata": {},
   "outputs": [
    {
     "name": "stdout",
     "output_type": "stream",
     "text": [
      "[1, 4, 9]\n"
     ]
    }
   ],
   "source": [
    "L=[1,2,\"a\", 3, 4.0]\n",
    "print([x**2 for x in L if type(x)==int])"
   ]
  },
  {
   "cell_type": "code",
   "execution_count": 39,
   "metadata": {},
   "outputs": [
    {
     "name": "stdout",
     "output_type": "stream",
     "text": [
      "('a', 'b', 'c', 'd')\n",
      "b\n"
     ]
    }
   ],
   "source": [
    "myTuple = (\"a\", \"b\", \"c\",\"d\")\n",
    "print(myTuple)\n",
    "print(myTuple[1])"
   ]
  },
  {
   "cell_type": "code",
   "execution_count": 40,
   "metadata": {},
   "outputs": [
    {
     "name": "stdout",
     "output_type": "stream",
     "text": [
      "pythone\n",
      "t\n",
      "2\n"
     ]
    }
   ],
   "source": [
    "myTuple = (\"pythone\", (1,2,3), [4,5,6])\n",
    "print (myTuple[0])\n",
    "print (myTuple[0] [2])\n",
    "print (myTuple[1][1])"
   ]
  },
  {
   "cell_type": "code",
   "execution_count": 41,
   "metadata": {},
   "outputs": [
    {
     "name": "stdout",
     "output_type": "stream",
     "text": [
      "('y', 't', 'h')\n",
      "('p', 'y', 't')\n",
      "('p', 'y', 't', 'h', 'o', 'n')\n"
     ]
    }
   ],
   "source": [
    "myTuple=(\"p\", \"y\", \"t\", \"h\", \"o\", \"n\")\n",
    "print(myTuple[1:4])\n",
    "print(myTuple[:3])\n",
    "print(myTuple[:])"
   ]
  },
  {
   "cell_type": "code",
   "execution_count": 42,
   "metadata": {},
   "outputs": [
    {
     "name": "stdout",
     "output_type": "stream",
     "text": [
      "(10, 20, [1, 3, 5])\n"
     ]
    }
   ],
   "source": [
    "myTuple=(10,20,[1,3,5])\n",
    "print(myTuple)"
   ]
  },
  {
   "cell_type": "code",
   "execution_count": 45,
   "metadata": {},
   "outputs": [
    {
     "ename": "TypeError",
     "evalue": "'tuple' object does not support item assignment",
     "output_type": "error",
     "traceback": [
      "\u001b[1;31m---------------------------------------------------------------------------\u001b[0m",
      "\u001b[1;31mTypeError\u001b[0m                                 Traceback (most recent call last)",
      "\u001b[1;32m<ipython-input-45-cdac61b14174>\u001b[0m in \u001b[0;36m<module>\u001b[1;34m\u001b[0m\n\u001b[1;32m----> 1\u001b[1;33m \u001b[0mmyTuple\u001b[0m\u001b[1;33m[\u001b[0m\u001b[1;36m0\u001b[0m\u001b[1;33m]\u001b[0m\u001b[1;33m=\u001b[0m\u001b[1;36m1\u001b[0m\u001b[1;33m\u001b[0m\u001b[1;33m\u001b[0m\u001b[0m\n\u001b[0m",
      "\u001b[1;31mTypeError\u001b[0m: 'tuple' object does not support item assignment"
     ]
    }
   ],
   "source": [
    "myTuple[0]=1\n",
    "#tuple은 immutable"
   ]
  },
  {
   "cell_type": "code",
   "execution_count": 44,
   "metadata": {},
   "outputs": [
    {
     "name": "stdout",
     "output_type": "stream",
     "text": [
      "(1, 2, 3, 4, 5, 6)\n",
      "(1, 2, 3, 1, 2, 3)\n"
     ]
    }
   ],
   "source": [
    "Tu_1=(1,2,3)\n",
    "Tu_2=(4,5,6)\n",
    "print(Tu_1+Tu_2)\n",
    "print(Tu_1*2)"
   ]
  },
  {
   "cell_type": "code",
   "execution_count": 50,
   "metadata": {},
   "outputs": [
    {
     "name": "stdout",
     "output_type": "stream",
     "text": [
      "input number: 10\n",
      "10's octal numner is 012\n",
      "10's hexadecimal numner is 0xA\n"
     ]
    }
   ],
   "source": [
    "x=int(input(\"input number: \"))\n",
    "x_oct=\"\"\n",
    "x_hex=\"\"\n",
    "x_hex_dic=[\"A\", \"B\", \"C\", \"D\", \"E\", \"F\"]\n",
    "\n",
    "temp=x\n",
    "\n",
    "while (temp>0):\n",
    "    x_oct=str(temp%8) + x_oct\n",
    "    temp//=8\n",
    "    \n",
    "temp=x\n",
    "while (temp>0):\n",
    "    if (temp%16>9):\n",
    "        x_hex=x_hex_dic[temp%16-10]\n",
    "        \n",
    "        temp//=16\n",
    "        \n",
    "if (x==0):\n",
    "    x_oct=\"0\"\n",
    "    x_hex =\"0\"\n",
    "    \n",
    "print(str(x)+\"\\'s octal numner is 0\"+x_oct)\n",
    "print(str(x)+\"\\'s hexadecimal numner is 0x\"+x_hex)"
   ]
  },
  {
   "cell_type": "code",
   "execution_count": 84,
   "metadata": {
    "scrolled": true
   },
   "outputs": [
    {
     "name": "stdout",
     "output_type": "stream",
     "text": [
      "학생의 수를 입력하세요 :5\n",
      "성적을 입력하세요 : 50\n",
      "성적을 입력하세요 : 40\n",
      "성적을 입력하세요 : 30\n",
      "성적을 입력하세요 : 20\n",
      "성적을 입력하세요 : 10\n",
      "성적 평균은  30.0 입니다.\n",
      "가장 높은 점수는  50 입니다,\n",
      "가장 낮은 점수는 10 입니다.\n"
     ]
    }
   ],
   "source": [
    "cnt=int(input(\"학생의 수를 입력하세요 :\"))\n",
    "n=cnt\n",
    "p=cnt\n",
    "scores=[]\n",
    "\n",
    "while cnt>0:\n",
    "    x=input(\"성적을 입력하세요 : \")\n",
    "    cnt-=1\n",
    "    scores.append(int(x))\n",
    "\n",
    "def find_min(scores):\n",
    "    n=len(scores)\n",
    "    min_v=scores[0]\n",
    "    for i in range(1,n):\n",
    "        if scores[i]<min_v:\n",
    "            min_v=scores[i]\n",
    "    return min_v\n",
    "\n",
    "def find_max(scores):\n",
    "    n=len(scores)\n",
    "    max_v=scores[0]\n",
    "    for i in range(1,n):\n",
    "        if scores[i]>max_v:\n",
    "            max_v=scores[i]\n",
    "    return max_v\n",
    "\n",
    "\n",
    "\n",
    "print(\"성적 평균은 \", sum(scores)/n, \"입니다.\")\n",
    "print(\"가장 높은 점수는 \", find_max(scores), \"입니다,\")\n",
    "print(\"가장 낮은 점수는\", find_min(scores), \"입니다.\")"
   ]
  },
  {
   "cell_type": "code",
   "execution_count": 120,
   "metadata": {},
   "outputs": [
    {
     "name": "stdout",
     "output_type": "stream",
     "text": [
      "숫자를 입력해 주세요 :35\n",
      "숫자를 입력해 주세요 :22\n",
      "숫자를 입력해 주세요 :15\n",
      "숫자를 입력해 주세요 :18\n",
      "숫자를 입력해 주세요 :48\n",
      "[15, 18, 22, 35, 48]\n",
      "tuple과 list를 합친 결과 result [10, 20, 30, 40, 15, 18, 22, 35, 48]\n"
     ]
    }
   ],
   "source": [
    "Tuple=(10, 20, 30, 40)\n",
    "L=[]\n",
    "cnt=5\n",
    "while cnt>0:\n",
    "    cnt-=1\n",
    "    x=input(\"숫자를 입력해 주세요 :\")\n",
    "    L.append(int(x))\n",
    "    \n",
    "for i in L:\n",
    "    j=0\n",
    "    while j < len(L)-1:\n",
    "        if L[j]>L[j+1]:\n",
    "            t=L[j]\n",
    "            L[j]=L[j+1]\n",
    "            L[j+1]=t\n",
    "        j+=1\n",
    "        \n",
    "print(L)\n",
    "print(\"tuple과 list를 합친 결과 result\", list(Tuple)+L)"
   ]
  },
  {
   "cell_type": "code",
   "execution_count": null,
   "metadata": {},
   "outputs": [],
   "source": []
  },
  {
   "cell_type": "code",
   "execution_count": null,
   "metadata": {},
   "outputs": [],
   "source": []
  },
  {
   "cell_type": "code",
   "execution_count": null,
   "metadata": {},
   "outputs": [],
   "source": []
  }
 ],
 "metadata": {
  "kernelspec": {
   "display_name": "Python 3",
   "language": "python",
   "name": "python3"
  },
  "language_info": {
   "codemirror_mode": {
    "name": "ipython",
    "version": 3
   },
   "file_extension": ".py",
   "mimetype": "text/x-python",
   "name": "python",
   "nbconvert_exporter": "python",
   "pygments_lexer": "ipython3",
   "version": "3.8.5"
  }
 },
 "nbformat": 4,
 "nbformat_minor": 4
}
