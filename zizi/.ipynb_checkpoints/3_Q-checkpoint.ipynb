{
 "cells": [
  {
   "cell_type": "code",
   "execution_count": 8,
   "metadata": {},
   "outputs": [
    {
     "name": "stdout",
     "output_type": "stream",
     "text": [
      "Calculate QF(Quadratic Formula) for PSE(Perfect Square Expression)\n",
      "ex) ax^2 + bx + c = 0\n",
      "Input a: 1\n",
      "Input b: 2\n",
      "Input c: 1\n"
     ]
    },
    {
     "ename": "NameError",
     "evalue": "name 'getQadraticFormula' is not defined",
     "output_type": "error",
     "traceback": [
      "\u001b[1;31m---------------------------------------------------------------------------\u001b[0m",
      "\u001b[1;31mNameError\u001b[0m                                 Traceback (most recent call last)",
      "\u001b[1;32m<ipython-input-8-b05544361b1e>\u001b[0m in \u001b[0;36m<module>\u001b[1;34m\u001b[0m\n\u001b[0;32m     46\u001b[0m \u001b[0mb\u001b[0m \u001b[1;33m=\u001b[0m \u001b[0mint\u001b[0m\u001b[1;33m(\u001b[0m\u001b[0minput\u001b[0m\u001b[1;33m(\u001b[0m\u001b[1;34m\"Input b: \"\u001b[0m\u001b[1;33m)\u001b[0m\u001b[1;33m)\u001b[0m\u001b[1;33m\u001b[0m\u001b[1;33m\u001b[0m\u001b[0m\n\u001b[0;32m     47\u001b[0m \u001b[0mc\u001b[0m \u001b[1;33m=\u001b[0m \u001b[0mint\u001b[0m\u001b[1;33m(\u001b[0m\u001b[0minput\u001b[0m\u001b[1;33m(\u001b[0m\u001b[1;34m\"Input c: \"\u001b[0m\u001b[1;33m)\u001b[0m\u001b[1;33m)\u001b[0m\u001b[1;33m\u001b[0m\u001b[1;33m\u001b[0m\u001b[0m\n\u001b[1;32m---> 48\u001b[1;33m \u001b[0mQF\u001b[0m \u001b[1;33m=\u001b[0m \u001b[0mgetQadraticFormula\u001b[0m\u001b[1;33m(\u001b[0m\u001b[0ma\u001b[0m\u001b[1;33m,\u001b[0m \u001b[0mb\u001b[0m\u001b[1;33m,\u001b[0m \u001b[0mc\u001b[0m\u001b[1;33m)\u001b[0m\u001b[1;33m\u001b[0m\u001b[1;33m\u001b[0m\u001b[0m\n\u001b[0m\u001b[0;32m     49\u001b[0m \u001b[1;33m\u001b[0m\u001b[0m\n\u001b[0;32m     50\u001b[0m \u001b[0mprint\u001b[0m\u001b[1;33m(\u001b[0m\u001b[1;34m\"Calculated answer is(are):\"\u001b[0m\u001b[1;33m)\u001b[0m\u001b[1;33m\u001b[0m\u001b[1;33m\u001b[0m\u001b[0m\n",
      "\u001b[1;31mNameError\u001b[0m: name 'getQadraticFormula' is not defined"
     ]
    }
   ],
   "source": [
    "#디버깅 과제 문제 - 답이랑 비교하며 체크하기!\n",
    "\n",
    "def getDiscriminant(a, b, c):\n",
    "    return (b ** 2) - (4 * a * c)\n",
    "\n",
    "def getQuadraticFormula(a, b, c):\n",
    "    QF = None\n",
    "\n",
    "    if a == 0:\n",
    "        if b == 0:\n",
    "            # Answer is infinity\n",
    "            if c == 0:\n",
    "                QF = False\n",
    "\n",
    "            # Answer is none\n",
    "            else:\n",
    "                QF = True\n",
    "\n",
    "        # Answer is one real root\n",
    "        else:\n",
    "            QF = c / (-b)\n",
    "\n",
    "    else:\n",
    "        D = getDiscriminant(a, b, c)\n",
    "\n",
    "    # Answer are two real root\n",
    "    if D < 0:\n",
    "        QF = (\n",
    "            (-b + D ** 0.5) / (2 * a),\n",
    "            (-b - D ** 0.5) / (2 * a))\n",
    "\n",
    "    # Answer are two imaginary root\n",
    "    elif D > 0:\n",
    "        QF = (\n",
    "            complex((-b) / (2 * a), (-D) ** 0.5 / (2 * a)),\n",
    "            complex((-b) / (2 * a), - ((-D) ** 0.5) / (2 * a)))\n",
    "\n",
    "    # Answer is multiple root\n",
    "    else:\n",
    "        QF = (-b) / (2 * a)\n",
    "\n",
    "    return QF\n",
    "\n",
    "print(\"Calculate QF(Quadratic Formula) for PSE(Perfect Square Expression)\")\n",
    "print(\"ex) ax^2 + bx + c = 0\")\n",
    "\n",
    "a = int(input(\"Input a: \"))\n",
    "b = int(input(\"Input b: \"))\n",
    "c = int(input(\"Input c: \"))\n",
    "QF = getQadraticFormula(a, b, c)\n",
    "\n",
    "print(\"Calculated answer is(are):\")\n",
    "\n",
    "if QF == True:\n",
    "    print(\"Infinity.\")\n",
    "\n",
    "elif QF == False:\n",
    "    print(\"None.\")\n",
    "\n",
    "elif isinstance(QF, TupleType):\n",
    "    for answer in QF:\n",
    "        print(\"{:.2f}\".format(answer))\n",
    "\n",
    "else:\n",
    "    print(\"{:.2f}\".format(QF))\n"
   ]
  },
  {
   "cell_type": "markdown",
   "metadata": {},
   "source": [
    "4# "
   ]
  },
  {
   "cell_type": "code",
   "execution_count": null,
   "metadata": {},
   "outputs": [],
   "source": []
  }
 ],
 "metadata": {
  "kernelspec": {
   "display_name": "Python 3",
   "language": "python",
   "name": "python3"
  },
  "language_info": {
   "codemirror_mode": {
    "name": "ipython",
    "version": 3
   },
   "file_extension": ".py",
   "mimetype": "text/x-python",
   "name": "python",
   "nbconvert_exporter": "python",
   "pygments_lexer": "ipython3",
   "version": "3.8.5"
  }
 },
 "nbformat": 4,
 "nbformat_minor": 2
}
