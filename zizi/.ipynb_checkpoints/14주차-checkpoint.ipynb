{
 "cells": [
  {
   "cell_type": "code",
   "execution_count": 7,
   "metadata": {
    "scrolled": true
   },
   "outputs": [
    {
     "name": "stdout",
     "output_type": "stream",
     "text": [
      "Obama\n",
      "Hahn\n",
      "Kim\n",
      "Sayhee Hahn\n",
      "Barack Hassein Obama\n",
      "Boyung Kim\n",
      "Sayhee Hahn\n",
      "Boyung Kim\n",
      "Barack Hassein Obama\n"
     ]
    }
   ],
   "source": [
    "import datetime\n",
    "\n",
    "class Person(object):\n",
    "    def __init__(self, name):\n",
    "        \"\"\"create a person with name name\"\"\"\n",
    "        self.name = name\n",
    "        try:\n",
    "            lastBlank = name.rindex(' ')\n",
    "            self.lastName = name[lastBlank+1:]\n",
    "        except:\n",
    "            self.lastName = name\n",
    "        self.birthday = None\n",
    "        \n",
    "    def getLastName(self):\n",
    "        \"\"\"return self's last name\"\"\"\n",
    "        return self.lastName\n",
    "    def setBirthday(self, birthDate):\n",
    "        \"\"\"Assumes birthDate is of tupe datetime.date\n",
    "           set self's birthday to birthDate\"\"\"\n",
    "        self.birthday = birthDate\n",
    "    def getAge(self):\n",
    "        \"\"\"returns self's current age in days\"\"\"\n",
    "        if self.birthday == None:\n",
    "            raise ValueError\n",
    "        return (datetime.date.today() - self.birthday).days\n",
    "    def __lt__(self, other): \n",
    "        \"\"\"return True if self;s name is lexicographically\n",
    "           less than other's name, and False otherwise\"\"\"\n",
    "        if self.lastName == other.lastName:\n",
    "            return self.name < other.name\n",
    "        return self.lastName < other.lastName\n",
    "    def __str__(self):\n",
    "        \"\"\"return self's name\"\"\"\n",
    "        return self.name\n",
    "    \n",
    "me=Person(\"Sayhee Hahn\")\n",
    "him=Person(\"Barack Hassein Obama\")\n",
    "her=Person(\"Boyung Kim\")\n",
    "print(him.getLastName())\n",
    "print(me.getLastName())\n",
    "print(her.getLastName())\n",
    "him.setBirthday(datetime.date(1996, 8, 4))\n",
    "her.setBirthday(datetime.date(1996, 12, 30))\n",
    "\n",
    "pList = [me, him, her]\n",
    "for p in pList:\n",
    "    print(p)\n",
    "pList.sort()\n",
    "for p in pList:\n",
    "    print(p)"
   ]
  },
  {
   "cell_type": "code",
   "execution_count": 10,
   "metadata": {},
   "outputs": [
    {
     "name": "stdout",
     "output_type": "stream",
     "text": [
      "Jinyoung Bae's id number is 0\n",
      "Jihoon Min's if number is1\n",
      "p1 < p2 = True\n",
      "p3 < p2 = False\n",
      "p4 < p1 = False\n"
     ]
    }
   ],
   "source": [
    "class MITPerson(Person) :\n",
    "    nextIdNum = 0\n",
    "    def __init__(self, name):\n",
    "        Person.__init__(self, name)\n",
    "        self.idNum = MITPerson.nextIdNum\n",
    "        MITPerson.nextIdNum +=1\n",
    "    def getIdNum(self):\n",
    "        return self.idNum\n",
    "    def __lt__(self, other):\n",
    "        return self.idNum < other.idNum\n",
    "    \n",
    "p1 = MITPerson('Jinyoung Bae')\n",
    "print(str(p1) + '\\'s id number is ' + str(p1.getIdNum()))\n",
    "\n",
    "p1 = MITPerson(\"Jihoon Min\")\n",
    "p2 = MITPerson(\"Jiwoo Lee\")  --> bind num 1\n",
    "p3 = MITPerson(\"Jiwoo Lee\")  --> bine num 2\n",
    "p4 = MITPerson(\"Jiwoo Lee\")  --> bind num 3\n",
    "\n",
    "print(str(p1) + '\\'s if number is' + str(p1.getIdNum()))\n",
    "print('p1 < p2 =', p1 < p2)\n",
    "print('p3 < p2 =', p3 < p2)\n",
    "print('p4 < p1 =', p4 < p1)"
   ]
  },
  {
   "cell_type": "code",
   "execution_count": 15,
   "metadata": {},
   "outputs": [
    {
     "name": "stdout",
     "output_type": "stream",
     "text": [
      "Soobin Sonh is a graduate student is True\n",
      "Soobin Sonh is an undergraduate student is False\n"
     ]
    }
   ],
   "source": [
    "class Student(MITPerson):\n",
    "    pass\n",
    "\n",
    "class UG(Student):\n",
    "    def __init__(self, name, classYear):\n",
    "        MITPerson.__init__(self, name)\n",
    "        self.year = classYear\n",
    "    def getClass(self):\n",
    "        return self.year\n",
    "        \n",
    "class Grad(Student) :\n",
    "    pass\n",
    "\n",
    "p5 = Grad(\"Soobin Sonh\")\n",
    "p6 = UG(\"Jooyoung Pyun\", 2020)\n",
    "print(p5, 'is a graduate student is', type(p5) == Grad)\n",
    "print (p5, 'is an undergraduate student is', type(p5)==UG)"
   ]
  },
  {
   "cell_type": "code",
   "execution_count": 21,
   "metadata": {},
   "outputs": [
    {
     "ename": "AttributeError",
     "evalue": "'Grad' object has no attribute 'isStudent'",
     "output_type": "error",
     "traceback": [
      "\u001b[1;31m---------------------------------------------------------------------------\u001b[0m",
      "\u001b[1;31mAttributeError\u001b[0m                            Traceback (most recent call last)",
      "\u001b[1;32m<ipython-input-21-d34faf29ac78>\u001b[0m in \u001b[0;36m<module>\u001b[1;34m\u001b[0m\n\u001b[0;32m      2\u001b[0m     \u001b[1;32mreturn\u001b[0m \u001b[0misinstance\u001b[0m\u001b[1;33m(\u001b[0m\u001b[0mself\u001b[0m\u001b[1;33m,\u001b[0m \u001b[0mStudent\u001b[0m\u001b[1;33m)\u001b[0m\u001b[1;33m\u001b[0m\u001b[1;33m\u001b[0m\u001b[0m\n\u001b[0;32m      3\u001b[0m \u001b[1;33m\u001b[0m\u001b[0m\n\u001b[1;32m----> 4\u001b[1;33m \u001b[0mprint\u001b[0m\u001b[1;33m(\u001b[0m\u001b[0mp5\u001b[0m\u001b[1;33m,\u001b[0m \u001b[1;34m'is a student is'\u001b[0m\u001b[1;33m,\u001b[0m \u001b[0mp5\u001b[0m\u001b[1;33m.\u001b[0m\u001b[0misStudent\u001b[0m\u001b[1;33m(\u001b[0m\u001b[1;33m)\u001b[0m\u001b[1;33m)\u001b[0m\u001b[1;33m\u001b[0m\u001b[1;33m\u001b[0m\u001b[0m\n\u001b[0m\u001b[0;32m      5\u001b[0m \u001b[0mprint\u001b[0m\u001b[1;33m(\u001b[0m\u001b[0mp6\u001b[0m\u001b[1;33m,\u001b[0m \u001b[1;34m'is a student is'\u001b[0m\u001b[1;33m,\u001b[0m \u001b[0mp6\u001b[0m\u001b[1;33m.\u001b[0m\u001b[0misStudent\u001b[0m\u001b[1;33m(\u001b[0m\u001b[1;33m)\u001b[0m\u001b[1;33m)\u001b[0m\u001b[1;33m\u001b[0m\u001b[1;33m\u001b[0m\u001b[0m\n\u001b[0;32m      6\u001b[0m \u001b[0mprint\u001b[0m\u001b[1;33m(\u001b[0m\u001b[0mp3\u001b[0m\u001b[1;33m,\u001b[0m \u001b[1;34m'is a student is'\u001b[0m\u001b[1;33m,\u001b[0m \u001b[0mp3\u001b[0m\u001b[1;33m.\u001b[0m\u001b[0misStudent\u001b[0m\u001b[1;33m(\u001b[0m\u001b[1;33m)\u001b[0m\u001b[1;33m)\u001b[0m\u001b[1;33m\u001b[0m\u001b[1;33m\u001b[0m\u001b[0m\n",
      "\u001b[1;31mAttributeError\u001b[0m: 'Grad' object has no attribute 'isStudent'"
     ]
    }
   ],
   "source": [
    "def isStudent(self) :\n",
    "    return isinstance(self, Student)\n",
    "\n",
    "print(p5, 'is a student is', p5.isStudent())\n",
    "print(p6, 'is a student is', p6.isStudent())\n",
    "print(p3, 'is a student is', p3.isStudent())\n",
    "\n",
    "print(isinstance(p6,Student))\n",
    "print(type(p6) == Student)"
   ]
  },
  {
   "cell_type": "code",
   "execution_count": 26,
   "metadata": {},
   "outputs": [
    {
     "ename": "NameError",
     "evalue": "name 'Grades' is not defined",
     "output_type": "error",
     "traceback": [
      "\u001b[1;31m---------------------------------------------------------------------------\u001b[0m",
      "\u001b[1;31mNameError\u001b[0m                                 Traceback (most recent call last)",
      "\u001b[1;32m<ipython-input-26-7a312d8d0f0b>\u001b[0m in \u001b[0;36m<module>\u001b[1;34m\u001b[0m\n\u001b[0;32m     52\u001b[0m \u001b[0mg1\u001b[0m \u001b[1;33m=\u001b[0m \u001b[0mGrad\u001b[0m\u001b[1;33m(\u001b[0m\u001b[1;34m\"Soobin Sohn\"\u001b[0m\u001b[1;33m)\u001b[0m\u001b[1;33m\u001b[0m\u001b[1;33m\u001b[0m\u001b[0m\n\u001b[0;32m     53\u001b[0m \u001b[0mg2\u001b[0m \u001b[1;33m=\u001b[0m \u001b[0mGrad\u001b[0m\u001b[1;33m(\u001b[0m\u001b[1;34m\"Jihyun Yoo\"\u001b[0m\u001b[1;33m)\u001b[0m\u001b[1;33m\u001b[0m\u001b[1;33m\u001b[0m\u001b[0m\n\u001b[1;32m---> 54\u001b[1;33m \u001b[0msixHundred\u001b[0m \u001b[1;33m=\u001b[0m \u001b[0mGrades\u001b[0m\u001b[1;33m(\u001b[0m\u001b[1;33m)\u001b[0m\u001b[1;33m\u001b[0m\u001b[1;33m\u001b[0m\u001b[0m\n\u001b[0m\u001b[0;32m     55\u001b[0m \u001b[0msixHundred\u001b[0m\u001b[1;33m.\u001b[0m\u001b[0maddStudent\u001b[0m\u001b[1;33m(\u001b[0m\u001b[0mug1\u001b[0m\u001b[1;33m)\u001b[0m\u001b[1;33m\u001b[0m\u001b[1;33m\u001b[0m\u001b[0m\n\u001b[0;32m     56\u001b[0m \u001b[0msixHundred\u001b[0m\u001b[1;33m.\u001b[0m\u001b[0maddStudent\u001b[0m\u001b[1;33m(\u001b[0m\u001b[0mug2\u001b[0m\u001b[1;33m)\u001b[0m\u001b[1;33m\u001b[0m\u001b[1;33m\u001b[0m\u001b[0m\n",
      "\u001b[1;31mNameError\u001b[0m: name 'Grades' is not defined"
     ]
    }
   ],
   "source": [
    "#ppt 보기\n",
    "class Grade(object) :\n",
    "    \"\"\"A mapping from students to a list of grades\"\"\"\n",
    "    \n",
    "    def __init__(self):\n",
    "        \"\"\"Create empty grade book\"\"\"\n",
    "        self.students = []\n",
    "        self.grades = {}\n",
    "        self.isSorted = True\n",
    "        \n",
    "    def addStudent(self, student):\n",
    "        \"\"\"Assumes : student is of type Student\n",
    "           Add student to the grade book\"\"\"\n",
    "        if student in self.students:\n",
    "            raise ValueError(\"Duplicate student\")\n",
    "        self.students.append(student)\n",
    "        self.grades[student.getIdNum()] = []\n",
    "        self.isSorted = False\n",
    "        \n",
    "    def addGrade(self, student, grade):\n",
    "        \"\"\"Assumes : grade is a float\n",
    "           Add grade to the list of grades for student\"\"\"\n",
    "        try:\n",
    "            self.grades[student.getIdNum()][:]\n",
    "        except:\n",
    "            raise ValueError(\"Student not in mapping\")\n",
    "            \n",
    "    def allStudent(self):\n",
    "        \"\"\"Return a list of the students in the grade book\"\"\"\n",
    "        if not self.isSorted:\n",
    "            self.students.sort()\n",
    "        return self.students[:] \n",
    "    \n",
    "    def gradeReport(course) :\n",
    "        report = ''\n",
    "        for s in course.allStudents():\n",
    "            tot = 0.0\n",
    "            numGrades = 0\n",
    "            for g in course.getGrades(s):\n",
    "                tot += g\n",
    "                numGrades += 1\n",
    "            try :\n",
    "                average = tot/numGrades\n",
    "                report = report + '\\n' + str(s) + '\\' mean grade is' + str(average)\n",
    "                \n",
    "            except ZeroDivisionError:\n",
    "                reprot = report + '\\n' + str(s) + ' has no grades'\n",
    "        return report\n",
    "    \n",
    "ug1 = UG(\"Jongmoon Choi\", 2015)\n",
    "ug2 = UG(\"Seungyeon Lee\", 2016)\n",
    "ug3 = UG(\"Jiyae Hyun\", 2013)\n",
    "g1 = Grad(\"Soobin Sohn\")\n",
    "g2 = Grad(\"Jihyun Yoo\")\n",
    "sixHundred = Grades()\n",
    "sixHundred.addStudent(ug1)\n",
    "sixHundred.addStudent(ug2)\n",
    "sixHundred.addStudent(g1)\n",
    "sixHundred.addStudent(g2)\n",
    "for s in sixHundred.allStudents():\n",
    "    sixHundred.addGrade(s, 75)\n",
    "sixHundred.addGrade(g1, 25)\n",
    "sixHundred.addGrade(g2, 100)\n",
    "sixHundred.addStudent(ug3)\n",
    "print(gradeReport(sixHundred))\n",
    "\n"
   ]
  },
  {
   "cell_type": "code",
   "execution_count": null,
   "metadata": {},
   "outputs": [],
   "source": []
  },
  {
   "cell_type": "code",
   "execution_count": null,
   "metadata": {},
   "outputs": [],
   "source": []
  },
  {
   "cell_type": "code",
   "execution_count": null,
   "metadata": {},
   "outputs": [],
   "source": []
  },
  {
   "cell_type": "code",
   "execution_count": null,
   "metadata": {},
   "outputs": [],
   "source": []
  }
 ],
 "metadata": {
  "kernelspec": {
   "display_name": "Python 3",
   "language": "python",
   "name": "python3"
  },
  "language_info": {
   "codemirror_mode": {
    "name": "ipython",
    "version": 3
   },
   "file_extension": ".py",
   "mimetype": "text/x-python",
   "name": "python",
   "nbconvert_exporter": "python",
   "pygments_lexer": "ipython3",
   "version": "3.8.5"
  }
 },
 "nbformat": 4,
 "nbformat_minor": 4
}
