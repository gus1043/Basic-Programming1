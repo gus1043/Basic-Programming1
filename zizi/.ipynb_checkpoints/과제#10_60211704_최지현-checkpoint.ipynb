{
 "cells": [
  {
   "cell_type": "code",
   "execution_count": 1,
   "metadata": {},
   "outputs": [
    {
     "name": "stdout",
     "output_type": "stream",
     "text": [
      "The key a is already in th hashMap!\n",
      "Cannot remove the key c! it is not in the hashMap!\n",
      "[1, 20, 50, 70, 100]\n",
      "{a:1, b:100, c:50, d:20, f:70}\n"
     ]
    }
   ],
   "source": [
    "class HashMap(object):\n",
    "    def __init__(self):\n",
    "        self.container = {}\n",
    "        \n",
    "    def insert(self, key, value):\n",
    "        if key in self.container.keys():\n",
    "            print(\"The key %c is already in th hashMap!\" % key)\n",
    "        else:\n",
    "            self.container[key]= value\n",
    "        \n",
    "    def delete(self, key):\n",
    "        if key in self.container.keys():   #error발생 부분\n",
    "            del self.container[key]\n",
    "        else:\n",
    "            raise ValueError(\"Cannot remove the key %c! it is not in the hashMap!\" % key)\n",
    "            \n",
    "    def get(self, key):\n",
    "        try:\n",
    "            return self.container[key]\n",
    "        except:\n",
    "            return None\n",
    "        \n",
    "    def contain(self, key):\n",
    "        return key in self.container\n",
    "    \n",
    "    def __str__(self):\n",
    "        result=\"\"\n",
    "        for i in self.container.keys(): \n",
    "            result=result + str(i) + ':' + str(self.container[i]) + \", \"\n",
    "        return '{'+result[:-2]+'}'\n",
    "        \n",
    "    def scoreSort(self):\n",
    "        result=[]\n",
    "        for i in self.container.values(): \n",
    "            result.append(i)\n",
    "        result.sort()\n",
    "        return result\n",
    "    \n",
    "hashMap=HashMap()\n",
    "hashMap.insert(\"a\",1)\n",
    "hashMap.insert(\"a\",100)\n",
    "try:\n",
    "    hashMap.delete('c')\n",
    "except ValueError as msg:\n",
    "    print(msg)\n",
    "hashMap.insert(\"b\",100)\n",
    "hashMap.insert(\"c\",50)\n",
    "hashMap.insert(\"d\",20)\n",
    "hashMap.insert(\"f\",70)\n",
    "print(hashMap.scoreSort())\n",
    "print(hashMap)"
   ]
  },
  {
   "cell_type": "code",
   "execution_count": null,
   "metadata": {},
   "outputs": [],
   "source": []
  }
 ],
 "metadata": {
  "kernelspec": {
   "display_name": "Python 3",
   "language": "python",
   "name": "python3"
  },
  "language_info": {
   "codemirror_mode": {
    "name": "ipython",
    "version": 3
   },
   "file_extension": ".py",
   "mimetype": "text/x-python",
   "name": "python",
   "nbconvert_exporter": "python",
   "pygments_lexer": "ipython3",
   "version": "3.8.5"
  }
 },
 "nbformat": 4,
 "nbformat_minor": 4
}
