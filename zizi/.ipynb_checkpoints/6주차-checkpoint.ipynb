{
 "cells": [
  {
   "cell_type": "code",
   "execution_count": 1,
   "metadata": {},
   "outputs": [
    {
     "name": "stdout",
     "output_type": "stream",
     "text": [
      "Olga Puchmajerova\n",
      "Puchmajerova, Olga\n",
      "Puchmajerova, Olga\n"
     ]
    }
   ],
   "source": [
    "def printName(firstName, lastName, reverse=False):\n",
    "    if reverse:\n",
    "        print(lastName + \", \" + firstName)\n",
    "    else:\n",
    "        print(firstName, lastName)\n",
    "        \n",
    "printName('Olga', 'Puchmajerova')\n",
    "printName('Olga', 'Puchmajerova', True)\n",
    "printName('Olga', 'Puchmajerova', reverse=True)"
   ]
  },
  {
   "cell_type": "code",
   "execution_count": 2,
   "metadata": {},
   "outputs": [
    {
     "ename": "TypeError",
     "evalue": "printName() got multiple values for argument 'lastName'",
     "output_type": "error",
     "traceback": [
      "\u001b[1;31m---------------------------------------------------------------------------\u001b[0m",
      "\u001b[1;31mTypeError\u001b[0m                                 Traceback (most recent call last)",
      "\u001b[1;32m<ipython-input-2-c84eb88a5f1c>\u001b[0m in \u001b[0;36m<module>\u001b[1;34m\u001b[0m\n\u001b[0;32m      5\u001b[0m         \u001b[0mprint\u001b[0m\u001b[1;33m(\u001b[0m\u001b[0mfirstName\u001b[0m\u001b[1;33m,\u001b[0m \u001b[0mlastName\u001b[0m\u001b[1;33m)\u001b[0m\u001b[1;33m\u001b[0m\u001b[1;33m\u001b[0m\u001b[0m\n\u001b[0;32m      6\u001b[0m \u001b[1;33m\u001b[0m\u001b[0m\n\u001b[1;32m----> 7\u001b[1;33m \u001b[0mprintName\u001b[0m\u001b[1;33m(\u001b[0m\u001b[1;34m'Olga'\u001b[0m\u001b[1;33m,\u001b[0m \u001b[1;32mTrue\u001b[0m\u001b[1;33m,\u001b[0m \u001b[0mlastName\u001b[0m\u001b[1;33m=\u001b[0m\u001b[1;34m'Puchmajerova'\u001b[0m\u001b[1;33m)\u001b[0m\u001b[1;33m\u001b[0m\u001b[1;33m\u001b[0m\u001b[0m\n\u001b[0m",
      "\u001b[1;31mTypeError\u001b[0m: printName() got multiple values for argument 'lastName'"
     ]
    }
   ],
   "source": [
    "def printName(firstName, lastName, reverse=False):\n",
    "    if reverse:\n",
    "        print(lastName + \", \" + firstName)\n",
    "    else:\n",
    "        print(firstName, lastName)\n",
    "    \n",
    "printName('Olga', True, lastName='Puchmajerova')"
   ]
  },
  {
   "cell_type": "code",
   "execution_count": 4,
   "metadata": {},
   "outputs": [],
   "source": [
    "def min(x,y):\n",
    "    if x>y:\n",
    "        return y\n",
    "    else:\n",
    "        return x"
   ]
  },
  {
   "cell_type": "code",
   "execution_count": 5,
   "metadata": {},
   "outputs": [
    {
     "name": "stdout",
     "output_type": "stream",
     "text": [
      "x= 4\n",
      "z= 4\n",
      "x= 3\n",
      "y= 2\n"
     ]
    }
   ],
   "source": [
    "def f(x):\n",
    "    y=1\n",
    "    x=x+y\n",
    "    print ('x=', x)\n",
    "    return x\n",
    "x=3\n",
    "y=2\n",
    "z=f(x)\n",
    "print('z=',z)\n",
    "print('x=',x)\n",
    "print('y=', y)"
   ]
  },
  {
   "cell_type": "code",
   "execution_count": 2,
   "metadata": {},
   "outputs": [
    {
     "name": "stdout",
     "output_type": "stream",
     "text": [
      "x= 4\n",
      "z= 4\n",
      "x= abc\n",
      "x= 4\n",
      "x= 3\n",
      "z= <function f.<locals>.g at 0x000001EA65E768B0>\n",
      "x= abc\n"
     ]
    }
   ],
   "source": [
    "def f(x):\n",
    "    def g():\n",
    "        x='abc'\n",
    "        print ('x=', x)\n",
    "    def h():\n",
    "        z=x\n",
    "        print('z=',z)\n",
    "    x=x+1\n",
    "    print ('x=',x)\n",
    "    h()\n",
    "    g()\n",
    "    print('x=',x)\n",
    "    return (g)\n",
    "x=3\n",
    "z=f(x)\n",
    "print('x=',x)\n",
    "print('z=',z)\n",
    "z()"
   ]
  },
  {
   "cell_type": "code",
   "execution_count": 5,
   "metadata": {},
   "outputs": [
    {
     "name": "stdout",
     "output_type": "stream",
     "text": [
      "input two numbers :\n",
      "5\n",
      "7\n",
      "Result is 12\n"
     ]
    }
   ],
   "source": [
    "def my_plus(x,y):\n",
    "    return x+y\n",
    "\n",
    "print('input two numbers :')\n",
    "x=int(input())\n",
    "y=int(input())\n",
    "\n",
    "print('Result is', my_plus(x,y))"
   ]
  },
  {
   "cell_type": "code",
   "execution_count": 8,
   "metadata": {},
   "outputs": [
    {
     "name": "stdout",
     "output_type": "stream",
     "text": [
      "input two numvers : \n",
      "5\n",
      "7\n",
      "Result is -2\n",
      "Result is 35\n",
      "Result is 0.7142857142857143\n"
     ]
    }
   ],
   "source": [
    "def my_minus(x,y):\n",
    "    return x-y\n",
    "\n",
    "def my_multiply(x,y):\n",
    "    return x*y\n",
    "\n",
    "def my_division(x,y):\n",
    "    return x/y\n",
    "\n",
    "print('input two numvers : ')\n",
    "x=int(input())\n",
    "y=int(input())\n",
    "\n",
    "print('Result is', my_minus(x,y))\n",
    "print('Result is', my_multiply(x,y))\n",
    "print('Result is', my_division(x,y))"
   ]
  },
  {
   "cell_type": "code",
   "execution_count": 12,
   "metadata": {},
   "outputs": [
    {
     "name": "stdout",
     "output_type": "stream",
     "text": [
      "input two numbers : \n",
      "5\n",
      "7\n",
      "input operation: *\n",
      "Result is 35\n"
     ]
    }
   ],
   "source": [
    "def my_plus(x,y):\n",
    "    return x+y\n",
    "\n",
    "def my_minus(x,y):\n",
    "    return x-y\n",
    "\n",
    "def my_multiply(x,y):\n",
    "    return x*y\n",
    "\n",
    "def my_division(x,y):\n",
    "    return x/y\n",
    "\n",
    "def my_calculate (x,y,opcode='+'):\n",
    "    if (opcode=='-'):\n",
    "        return my_minus(x,y)\n",
    "    elif (opcode=='*'):\n",
    "        return my_multiply(x,y)\n",
    "    elif (opcode=='/'):\n",
    "        return my_division(x,y)\n",
    "    else:\n",
    "        return my_plus(x,y)\n",
    "\n",
    "print('input two numbers : ')\n",
    "x=int(input())\n",
    "y=int(input())\n",
    "opcode=input('input operation: ')\n",
    "\n",
    "print('Result is', my_calculate(x,y,opcode))"
   ]
  },
  {
   "cell_type": "code",
   "execution_count": null,
   "metadata": {},
   "outputs": [],
   "source": []
  },
  {
   "cell_type": "code",
   "execution_count": null,
   "metadata": {},
   "outputs": [],
   "source": []
  },
  {
   "cell_type": "code",
   "execution_count": null,
   "metadata": {},
   "outputs": [],
   "source": []
  },
  {
   "cell_type": "code",
   "execution_count": null,
   "metadata": {},
   "outputs": [],
   "source": []
  },
  {
   "cell_type": "code",
   "execution_count": null,
   "metadata": {},
   "outputs": [],
   "source": []
  },
  {
   "cell_type": "code",
   "execution_count": null,
   "metadata": {},
   "outputs": [],
   "source": []
  },
  {
   "cell_type": "code",
   "execution_count": null,
   "metadata": {},
   "outputs": [],
   "source": []
  },
  {
   "cell_type": "code",
   "execution_count": null,
   "metadata": {},
   "outputs": [],
   "source": []
  },
  {
   "cell_type": "code",
   "execution_count": null,
   "metadata": {},
   "outputs": [],
   "source": []
  },
  {
   "cell_type": "code",
   "execution_count": null,
   "metadata": {},
   "outputs": [],
   "source": []
  }
 ],
 "metadata": {
  "kernelspec": {
   "display_name": "Python 3",
   "language": "python",
   "name": "python3"
  },
  "language_info": {
   "codemirror_mode": {
    "name": "ipython",
    "version": 3
   },
   "file_extension": ".py",
   "mimetype": "text/x-python",
   "name": "python",
   "nbconvert_exporter": "python",
   "pygments_lexer": "ipython3",
   "version": "3.8.5"
  }
 },
 "nbformat": 4,
 "nbformat_minor": 4
}
