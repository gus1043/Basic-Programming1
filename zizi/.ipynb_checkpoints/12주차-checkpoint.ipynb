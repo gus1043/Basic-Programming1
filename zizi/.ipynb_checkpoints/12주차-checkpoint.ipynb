{
 "cells": [
  {
   "cell_type": "code",
   "execution_count": 1,
   "metadata": {},
   "outputs": [
    {
     "ename": "NameError",
     "evalue": "name 'numSuccesses' is not defined",
     "output_type": "error",
     "traceback": [
      "\u001b[1;31m---------------------------------------------------------------------------\u001b[0m",
      "\u001b[1;31mNameError\u001b[0m                                 Traceback (most recent call last)",
      "\u001b[1;32m<ipython-input-1-8e2bc4f68a34>\u001b[0m in \u001b[0;36m<module>\u001b[1;34m\u001b[0m\n\u001b[1;32m----> 1\u001b[1;33m \u001b[0msuccessFailureRatio\u001b[0m \u001b[1;33m=\u001b[0m \u001b[0mnumSuccesses\u001b[0m\u001b[1;33m/\u001b[0m\u001b[0mnumFailures\u001b[0m\u001b[1;33m\u001b[0m\u001b[1;33m\u001b[0m\u001b[0m\n\u001b[0m\u001b[0;32m      2\u001b[0m \u001b[0mprint\u001b[0m \u001b[1;33m(\u001b[0m\u001b[1;34m\"The success/failure ratio is\"\u001b[0m\u001b[1;33m,\u001b[0m \u001b[0msuccessFailureRatio\u001b[0m\u001b[1;33m)\u001b[0m\u001b[1;33m\u001b[0m\u001b[1;33m\u001b[0m\u001b[0m\n\u001b[0;32m      3\u001b[0m \u001b[0mprint\u001b[0m\u001b[1;33m(\u001b[0m\u001b[1;34m\"Now here\"\u001b[0m\u001b[1;33m)\u001b[0m\u001b[1;33m\u001b[0m\u001b[1;33m\u001b[0m\u001b[0m\n",
      "\u001b[1;31mNameError\u001b[0m: name 'numSuccesses' is not defined"
     ]
    }
   ],
   "source": [
    "successFailureRatio = numSuccesses/numFailures\n",
    "#numFailures가 0이 되면 ZeroDivisionError exception이 발생함\n",
    "print (\"The success/failure ratio is\", successFailureRatio)\n",
    "print(\"Now here\")"
   ]
  },
  {
   "cell_type": "code",
   "execution_count": 2,
   "metadata": {},
   "outputs": [
    {
     "ename": "NameError",
     "evalue": "name 'numSuccesses' is not defined",
     "output_type": "error",
     "traceback": [
      "\u001b[1;31m---------------------------------------------------------------------------\u001b[0m",
      "\u001b[1;31mNameError\u001b[0m                                 Traceback (most recent call last)",
      "\u001b[1;32m<ipython-input-2-02078fa492d1>\u001b[0m in \u001b[0;36m<module>\u001b[1;34m\u001b[0m\n\u001b[0;32m      1\u001b[0m \u001b[1;32mtry\u001b[0m\u001b[1;33m:\u001b[0m\u001b[1;33m\u001b[0m\u001b[1;33m\u001b[0m\u001b[0m\n\u001b[1;32m----> 2\u001b[1;33m     \u001b[0msuccessFailureRatio\u001b[0m\u001b[1;33m=\u001b[0m\u001b[0mnumSuccesses\u001b[0m\u001b[1;33m/\u001b[0m\u001b[0mnumFailures\u001b[0m\u001b[1;33m\u001b[0m\u001b[1;33m\u001b[0m\u001b[0m\n\u001b[0m\u001b[0;32m      3\u001b[0m     \u001b[0mprint\u001b[0m\u001b[1;33m(\u001b[0m\u001b[1;34m\"The success/failure ratio is\"\u001b[0m\u001b[1;33m,\u001b[0m \u001b[0msuccessFailureRatio\u001b[0m\u001b[1;33m)\u001b[0m\u001b[1;33m\u001b[0m\u001b[1;33m\u001b[0m\u001b[0m\n\u001b[0;32m      4\u001b[0m \u001b[1;32mexcept\u001b[0m \u001b[0mZeroDivisionError\u001b[0m\u001b[1;33m:\u001b[0m\u001b[1;33m\u001b[0m\u001b[1;33m\u001b[0m\u001b[0m\n\u001b[0;32m      5\u001b[0m     \u001b[0mprint\u001b[0m\u001b[1;33m(\u001b[0m\u001b[1;34m\"No failures, so the sicess/failure ratio is undefined.\"\u001b[0m\u001b[1;33m)\u001b[0m\u001b[1;33m\u001b[0m\u001b[1;33m\u001b[0m\u001b[0m\n",
      "\u001b[1;31mNameError\u001b[0m: name 'numSuccesses' is not defined"
     ]
    }
   ],
   "source": [
    "try:\n",
    "    successFailureRatio=numSuccesses/numFailures\n",
    "    print(\"The success/failure ratio is\", successFailureRatio)\n",
    "except ZeroDivisionError:\n",
    "    print(\"No failures, so the sicess/failure ratio is undefined.\")\n",
    "print(\"Now here\")"
   ]
  },
  {
   "cell_type": "code",
   "execution_count": 4,
   "metadata": {},
   "outputs": [
    {
     "name": "stdout",
     "output_type": "stream",
     "text": [
      "Enter an integers: 5\n",
      "The square of the number you entered is 25\n"
     ]
    }
   ],
   "source": [
    "val=int(input(\"Enter an integers: \"))\n",
    "print(\"The square of the number you entered is\", val**2)"
   ]
  },
  {
   "cell_type": "code",
   "execution_count": 5,
   "metadata": {},
   "outputs": [
    {
     "name": "stdout",
     "output_type": "stream",
     "text": [
      "Enter an integers: 25.8\n",
      "25.8 is not an integer\n",
      "Enter an integers: 5\n",
      "The square of the number you entered is 25\n"
     ]
    }
   ],
   "source": [
    "while True:\n",
    "    val = input(\"Enter an integers: \")\n",
    "    try :\n",
    "        val = int(val)\n",
    "        print (\"The square of the number you entered is\", val**2)\n",
    "        break #to ecit the while loop\n",
    "    except ValueError:\n",
    "        print(val, \"is not an integer\")"
   ]
  },
  {
   "cell_type": "code",
   "execution_count": 6,
   "metadata": {},
   "outputs": [],
   "source": [
    "def readInt():\n",
    "    while True:\n",
    "        val=input(\"Enter an integers: \")\n",
    "        try:\n",
    "            val=int(val)\n",
    "            return val\n",
    "        except ValueError:\n",
    "            print(val + \"is not an integer\")\n",
    "    \n",
    "def readVal(valType, requestMsg,errorMsg):\n",
    "    while True:\n",
    "        val = input(RequestMsg+\" \")\n",
    "        try:\n",
    "            val=valType(val)\n",
    "            return val\n",
    "        except ValueError:\n",
    "            print(val+\" \"+errorMsg)"
   ]
  },
  {
   "cell_type": "code",
   "execution_count": 11,
   "metadata": {},
   "outputs": [
    {
     "name": "stdout",
     "output_type": "stream",
     "text": [
      "getRatios called with bad argumnts\n"
     ]
    }
   ],
   "source": [
    "def getRatios(vect1, vect2):\n",
    "    ratios = []\n",
    "    for indx in range(len(vect1)):\n",
    "        try:\n",
    "            ratios.append(vect[indx]/float(vext2[indx]))\n",
    "        except ZeroDivisionError:\n",
    "            ratios.append(float(\"nan\")) #nan=Nat a Number\n",
    "        except:\n",
    "            raise ValueError\n",
    "        return ratios\n",
    "    \n",
    "try:\n",
    "    print(getRatios([1.0,2.0,7.0,6.0],[1.0,2.0,0.0,3.0]))\n",
    "    print(getRatios([],[]))\n",
    "    print(getRAtios([1.0,2.0],[3.0]))\n",
    "except ValueError:\n",
    "    print(\"getRatios called with bad argumnts\")"
   ]
  },
  {
   "cell_type": "code",
   "execution_count": 12,
   "metadata": {},
   "outputs": [],
   "source": [
    "def getRatios(vect1, vect2):\n",
    "    \"\"\"Assumes:vect1 and cext2 are lists of equal length of numvers \n",
    "       Returns:a list containing the meaning ful values of \n",
    "               vect1[i]vect2[i]\"\"\"\n",
    "    \n",
    "    ratios=[]\n",
    "    if len(vect1) != len(vect2):\n",
    "        raise ValueError(\"getRatios called with bad args\")\n",
    "    for indx in range(len(vect1)):\n",
    "        vect1Elem = vect1[indx]\n",
    "        vect2Elem = vect2[indx]\n",
    "        if (type(vect1Elem) not in (int, float))\\\n",
    "        or (type(vect2ELem) not in (int, float)):\n",
    "            raise ValueError(\"getRatios called with bad args\")\n",
    "        if vect2ELem == 0.0:\n",
    "            ratios.append(float(\"Nan\"))\n",
    "        else:\n",
    "            ratios.append(vect1Elem/vect2Elem)\n",
    "    return ratios"
   ]
  },
  {
   "cell_type": "code",
   "execution_count": 15,
   "metadata": {},
   "outputs": [
    {
     "ename": "NameError",
     "evalue": "name 'quizgrades' is not defined",
     "output_type": "error",
     "traceback": [
      "\u001b[1;31m---------------------------------------------------------------------------\u001b[0m",
      "\u001b[1;31mNameError\u001b[0m                                 Traceback (most recent call last)",
      "\u001b[1;32m<ipython-input-15-c967e71687e2>\u001b[0m in \u001b[0;36m<module>\u001b[1;34m\u001b[0m\n\u001b[0;32m     12\u001b[0m         \u001b[1;32mreturn\u001b[0m \u001b[0mgrades\u001b[0m\u001b[1;33m\u001b[0m\u001b[1;33m\u001b[0m\u001b[0m\n\u001b[0;32m     13\u001b[0m \u001b[1;32mtry\u001b[0m\u001b[1;33m:\u001b[0m\u001b[1;33m\u001b[0m\u001b[1;33m\u001b[0m\u001b[0m\n\u001b[1;32m---> 14\u001b[1;33m     \u001b[0mgrades\u001b[0m\u001b[1;33m=\u001b[0m\u001b[0mgetGrades\u001b[0m\u001b[1;33m(\u001b[0m\u001b[0mquizgrades\u001b[0m\u001b[1;33m.\u001b[0m\u001b[0mtxt\u001b[0m\u001b[1;33m)\u001b[0m\u001b[1;33m\u001b[0m\u001b[1;33m\u001b[0m\u001b[0m\n\u001b[0m\u001b[0;32m     15\u001b[0m     \u001b[0mgrades\u001b[0m\u001b[1;33m.\u001b[0m\u001b[0msort\u001b[0m\u001b[1;33m(\u001b[0m\u001b[1;33m)\u001b[0m\u001b[1;33m\u001b[0m\u001b[1;33m\u001b[0m\u001b[0m\n\u001b[0;32m     16\u001b[0m     \u001b[0mmedian\u001b[0m\u001b[1;33m=\u001b[0m\u001b[0mgrades\u001b[0m\u001b[1;33m[\u001b[0m\u001b[0mlen\u001b[0m\u001b[1;33m(\u001b[0m\u001b[0mgrades\u001b[0m\u001b[1;33m)\u001b[0m\u001b[1;33m//\u001b[0m\u001b[1;36m2\u001b[0m\u001b[1;33m]\u001b[0m\u001b[1;33m\u001b[0m\u001b[1;33m\u001b[0m\u001b[0m\n",
      "\u001b[1;31mNameError\u001b[0m: name 'quizgrades' is not defined"
     ]
    }
   ],
   "source": [
    "def getGrades(fname) :\n",
    "    try:\n",
    "        gradesFile = open(fname,\"r\")\n",
    "    except IOError:\n",
    "        raise ValueError(\"getGrades could not open \"+fname)\n",
    "    grades=[]\n",
    "    for line in gradesFile:\n",
    "        try:\n",
    "            grades.append(float(line))\n",
    "        except:\n",
    "            raise ValueError(\"Unable to convert line to float\")\n",
    "        return grades\n",
    "try:\n",
    "    grades=getGrades(quizgrades.txt)\n",
    "    grades.sort()\n",
    "    median=grades[len(grades)//2]\n",
    "    print(\"Median grade is\", median)\n",
    "except(ValueError) as errorMsg:\n",
    "    print(\"Whoops!\", errorMsg)"
   ]
  },
  {
   "cell_type": "code",
   "execution_count": 18,
   "metadata": {},
   "outputs": [
    {
     "name": "stdout",
     "output_type": "stream",
     "text": [
      "정수 아닌 값이 있네\n"
     ]
    }
   ],
   "source": [
    "def test(t):\n",
    "    assert type(t) is int, \"정수 아닌 값이 있네\"\n",
    "    \n",
    "lists=[1,3,6,3,8,7,13,23,13,2,3.14,2,3,7]\n",
    "\n",
    "try:\n",
    "    for i in lists:\n",
    "        test(i)\n",
    "except AssertionError as errorMsg:\n",
    "    print(errorMsg)"
   ]
  },
  {
   "cell_type": "code",
   "execution_count": 19,
   "metadata": {},
   "outputs": [
    {
     "name": "stdout",
     "output_type": "stream",
     "text": [
      "정수 아닌 값이 있네\n"
     ]
    }
   ],
   "source": [
    "def test(t):\n",
    "    assert isinstance(t, int), \"정수 아닌 값이 있네\"\n",
    "    \n",
    "lists=[1,3,6,3,8,7,13,23,13,2,3.14,2,3,7]\n",
    "\n",
    "try:\n",
    "    for i in lists:\n",
    "        test(i)\n",
    "except AssertionError as errorMsg:\n",
    "    print(errorMsg)"
   ]
  },
  {
   "cell_type": "code",
   "execution_count": 21,
   "metadata": {},
   "outputs": [],
   "source": [
    "class intSet(object):\n",
    "    def __init__(self):\n",
    "        self.vals=[]\n",
    "        \n",
    "    def insert(self, e):\n",
    "        if not e in self.vals:\n",
    "            self.vals.append(e)\n",
    "            \n",
    "    def member(self, e):\n",
    "        return e in self.vals\n",
    "    \n",
    "    def remove(self, e):\n",
    "        try:\n",
    "            self.vals.removes(e)\n",
    "        except:\n",
    "            raise ValueError(str(e)+\"not found\")\n",
    "            \n",
    "    def __str__(self):\n",
    "        self.vals.sort()\n",
    "        result=\"\"\n",
    "        for e in self.vals:\n",
    "            result=result+str(e)\n",
    "        return \"{\"+result[:-1]+\"}\""
   ]
  },
  {
   "cell_type": "code",
   "execution_count": 64,
   "metadata": {},
   "outputs": [
    {
     "name": "stdout",
     "output_type": "stream",
     "text": [
      "input: [30, 50, 'aaa']\n",
      "Cannot calculate invalid arguments.\n"
     ]
    }
   ],
   "source": [
    "def getAverage(vect):\n",
    "    avg = 0\n",
    "    \n",
    "    for elem in vect:\n",
    "        try:\n",
    "            avg += int(elem)\n",
    "        except :\n",
    "            raise ValueError(\"Cannot calculate invalid arguments.\")\n",
    "            \n",
    "    try:\n",
    "        avg /= len(vect)\n",
    "    except :\n",
    "        return float(\"nan\")\n",
    "    \n",
    "    return avg\n",
    "\n",
    "try:\n",
    "    lst=[30,50,\"aaa\"]\n",
    "    print(\"input: {}\".format(lst))\n",
    "    \n",
    "    avg = getAverage(lst)\n",
    "    print(\"Average result is {}\".format(avg))\n",
    "\n",
    "except ValueError as errorMsg:\n",
    "    print(errorMsg)"
   ]
  },
  {
   "cell_type": "code",
   "execution_count": 65,
   "metadata": {},
   "outputs": [
    {
     "name": "stdout",
     "output_type": "stream",
     "text": [
      "input: [1, 2, 'aaaa']\n",
      "Value Error\n"
     ]
    }
   ],
   "source": [
    "def getAverage(vect):\n",
    "    avg = 0\n",
    "    \n",
    "    for elem in vect:\n",
    "        try:\n",
    "            avg += int(elem)\n",
    "        except NameError:\n",
    "            raise ValueError(\"Name Error\")\n",
    "        except ValueError:\n",
    "            raise ValueError(\"Value Error\")\n",
    "        except TypeError:\n",
    "            raise ValueError(\"Type Error\")\n",
    "        except :\n",
    "            raise ValueError(\"Cannot calculate invalid arguments.\")\n",
    "            \n",
    "    try:\n",
    "        avg /= len(vect)\n",
    "    except :\n",
    "        return float(\"nan\")\n",
    "    \n",
    "    return avg\n",
    "\n",
    "try:\n",
    "    lst=[1,2,\"aaaa\"]\n",
    "    print(\"input: {}\".format(lst))\n",
    "    \n",
    "    avg = getAverage(lst)\n",
    "    print(\"Average result is {}\".format(avg))\n",
    "\n",
    "except ValueError as errorMsg:\n",
    "    print(errorMsg)\n",
    "except NameError:\n",
    "    print(\"Name error 2\")"
   ]
  },
  {
   "cell_type": "code",
   "execution_count": 67,
   "metadata": {},
   "outputs": [
    {
     "name": "stdout",
     "output_type": "stream",
     "text": [
      "input: [10, 20, 30, 'aaa']\n",
      "Cannot calculate invalid arguments.\n"
     ]
    }
   ],
   "source": [
    "def getAverage(vect):\n",
    "    avg = 0\n",
    "    \n",
    "    for elem in vect:\n",
    "        assert isinstance(elem, int), \"Cannot calculate invalid arguments.\"\n",
    "            \n",
    "    try:\n",
    "        avg /= len(vect)\n",
    "    except :\n",
    "        return float(\"nan\")\n",
    "    \n",
    "    return avg\n",
    "\n",
    "try:\n",
    "    lst=[10,20,30,\"aaa\"]\n",
    "    print(\"input: {}\".format(lst))\n",
    "    \n",
    "    avg = getAverage(lst)\n",
    "    print(\"Average result is {}\".format(avg))\n",
    "\n",
    "except ValueError as errorMsg:\n",
    "    print(errorMsg) \n",
    "except AssertionError as errorMsg:\n",
    "    print(errorMsg)\n",
    "except NameError as errorMsg:\n",
    "    print(errorMsg)"
   ]
  }
 ],
 "metadata": {
  "kernelspec": {
   "display_name": "Python 3",
   "language": "python",
   "name": "python3"
  },
  "language_info": {
   "codemirror_mode": {
    "name": "ipython",
    "version": 3
   },
   "file_extension": ".py",
   "mimetype": "text/x-python",
   "name": "python",
   "nbconvert_exporter": "python",
   "pygments_lexer": "ipython3",
   "version": "3.8.5"
  }
 },
 "nbformat": 4,
 "nbformat_minor": 4
}
