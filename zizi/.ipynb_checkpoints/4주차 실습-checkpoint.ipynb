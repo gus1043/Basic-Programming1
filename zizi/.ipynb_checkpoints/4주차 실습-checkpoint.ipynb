{
 "cells": [
  {
   "cell_type": "code",
   "execution_count": 3,
   "metadata": {},
   "outputs": [
    {
     "name": "stdout",
     "output_type": "stream",
     "text": [
      "9.4247779605\n"
     ]
    }
   ],
   "source": [
    "_pi_ = 3.1415926535\n",
    "k=_and= 3\n",
    "print(_pi_*_and)"
   ]
  },
  {
   "cell_type": "code",
   "execution_count": 13,
   "metadata": {},
   "outputs": [
    {
     "name": "stdout",
     "output_type": "stream",
     "text": [
      "input an integer number: 3\n",
      "Normal circle! The area is 28.259999999999998\n"
     ]
    }
   ],
   "source": [
    "PI=3.14\n",
    "radius=int(input('input an integer number: '))\n",
    "area=PI*radius*radius\n",
    "\n",
    "if radius <= 0 :\n",
    "    print('Wrong input! The area is', area)\n",
    "elif area >= 50:\n",
    "    print('Very big circle! The area is', area)\n",
    "else:\n",
    "    print ('Normal circle! The area is', area)"
   ]
  },
  {
   "cell_type": "code",
   "execution_count": null,
   "metadata": {},
   "outputs": [],
   "source": [
    "num1=int(input('input an integer number:'))\n",
    "num2=int(input('input an integer number:'))\n",
    "\n",
    "if num1>num2 :\n",
    "    print (num2)\n",
    "elif num2>num1 :\n",
    "    print (num1)\n",
    "else:\n",
    "    print ('They are same!')"
   ]
  },
  {
   "cell_type": "code",
   "execution_count": null,
   "metadata": {},
   "outputs": [],
   "source": []
  },
  {
   "cell_type": "code",
   "execution_count": null,
   "metadata": {},
   "outputs": [],
   "source": [
    "x=1\n",
    "print (x)"
   ]
  },
  {
   "cell_type": "code",
   "execution_count": null,
   "metadata": {},
   "outputs": [],
   "source": []
  },
  {
   "cell_type": "code",
   "execution_count": null,
   "metadata": {},
   "outputs": [],
   "source": []
  },
  {
   "cell_type": "code",
   "execution_count": null,
   "metadata": {},
   "outputs": [],
   "source": []
  },
  {
   "cell_type": "code",
   "execution_count": null,
   "metadata": {},
   "outputs": [],
   "source": []
  },
  {
   "cell_type": "code",
   "execution_count": null,
   "metadata": {},
   "outputs": [],
   "source": []
  }
 ],
 "metadata": {
  "kernelspec": {
   "display_name": "Python 3",
   "language": "python",
   "name": "python3"
  },
  "language_info": {
   "codemirror_mode": {
    "name": "ipython",
    "version": 3
   },
   "file_extension": ".py",
   "mimetype": "text/x-python",
   "name": "python",
   "nbconvert_exporter": "python",
   "pygments_lexer": "ipython3",
   "version": "3.8.5"
  }
 },
 "nbformat": 4,
 "nbformat_minor": 4
}
