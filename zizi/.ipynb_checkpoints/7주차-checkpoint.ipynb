{
 "cells": [
  {
   "cell_type": "code",
   "execution_count": 2,
   "metadata": {},
   "outputs": [
    {
     "name": "stdout",
     "output_type": "stream",
     "text": [
      "24\n"
     ]
    }
   ],
   "source": [
    "def factR(n):\n",
    "    if n==1:\n",
    "        return 1\n",
    "    else:\n",
    "        return n*factR(n-1) #recursion call\n",
    "print(factR(4))"
   ]
  },
  {
   "cell_type": "code",
   "execution_count": 3,
   "metadata": {},
   "outputs": [
    {
     "name": "stdout",
     "output_type": "stream",
     "text": [
      "24\n"
     ]
    }
   ],
   "source": [
    "def factI(n):\n",
    "    res=1\n",
    "    while n> 1:\n",
    "        res=res*n\n",
    "        n -= 1\n",
    "    return res\n",
    "print (factI(4))"
   ]
  },
  {
   "cell_type": "code",
   "execution_count": 5,
   "metadata": {},
   "outputs": [
    {
     "name": "stdout",
     "output_type": "stream",
     "text": [
      "10!\n",
      "9!\n",
      "8!\n",
      "7!\n",
      "6!\n",
      "5!\n",
      "4!\n",
      "3!\n",
      "2!\n",
      "1!\n"
     ]
    }
   ],
   "source": [
    "def factPrint(n):\n",
    "    while n>= 1:\n",
    "        print(str(n)+'!')\n",
    "        n-=1\n",
    "factPrint(10)"
   ]
  },
  {
   "cell_type": "code",
   "execution_count": 16,
   "metadata": {},
   "outputs": [
    {
     "name": "stdout",
     "output_type": "stream",
     "text": [
      "10!\n",
      "9!\n",
      "8!\n",
      "7!\n",
      "6!\n",
      "5!\n",
      "4!\n",
      "3!\n",
      "2!\n",
      "1!\n"
     ]
    }
   ],
   "source": [
    "def factPrint(n):\n",
    "    if n== 1:\n",
    "        print('1!')\n",
    "    else:\n",
    "        print(str(n)+'!')\n",
    "        factPrint(n-1)\n",
    "\n",
    "factPrint(10)"
   ]
  },
  {
   "cell_type": "code",
   "execution_count": 25,
   "metadata": {},
   "outputs": [
    {
     "name": "stdout",
     "output_type": "stream",
     "text": [
      "input an interger:5\n",
      "the result is 15\n"
     ]
    }
   ],
   "source": [
    "n=int(input('input an interger:'))\n",
    "res=0\n",
    "while n>=1:\n",
    "    res+=n\n",
    "    n-=1\n",
    "print ('the result is', res)"
   ]
  },
  {
   "cell_type": "code",
   "execution_count": 27,
   "metadata": {},
   "outputs": [
    {
     "name": "stdout",
     "output_type": "stream",
     "text": [
      "input an interger:5\n",
      "the result is: 15\n"
     ]
    }
   ],
   "source": [
    "def my_rec(n):\n",
    "    if n==1:\n",
    "        return 1\n",
    "    else:\n",
    "        return(n+my_rec(n-1))\n",
    "n=int(input('input an interger:'))\n",
    "print ('the result is:',my_rec(n))"
   ]
  },
  {
   "cell_type": "code",
   "execution_count": 67,
   "metadata": {},
   "outputs": [
    {
     "name": "stdout",
     "output_type": "stream",
     "text": [
      "input an interger:5\n",
      "fib is: 8\n"
     ]
    }
   ],
   "source": [
    "def fib(n):\n",
    "    if n==1 or n==0:\n",
    "        return 1\n",
    "    else:\n",
    "        return (fib(n-1)+fib(n-2))\n",
    "\n",
    "def testFib(n):\n",
    "    for i in range(n+1):\n",
    "        print('fib of', i, '=', fib(i))\n",
    "n=int(input('input an interger:'))\n",
    "print('fib is:', fib(n))"
   ]
  },
  {
   "cell_type": "code",
   "execution_count": 83,
   "metadata": {},
   "outputs": [
    {
     "ename": "SyntaxError",
     "evalue": "unexpected EOF while parsing (<ipython-input-83-46ca4b200922>, line 20)",
     "output_type": "error",
     "traceback": [
      "\u001b[1;36m  File \u001b[1;32m\"<ipython-input-83-46ca4b200922>\"\u001b[1;36m, line \u001b[1;32m20\u001b[0m\n\u001b[1;33m    print(isPalindrome('godDog')\u001b[0m\n\u001b[1;37m                                ^\u001b[0m\n\u001b[1;31mSyntaxError\u001b[0m\u001b[1;31m:\u001b[0m unexpected EOF while parsing\n"
     ]
    }
   ],
   "source": [
    "def isPalindrome(s):\n",
    "    def toChars(s):  #소문자와 쓸데없는 것(스페이스이런거)뺴주는 함수\n",
    "        s=s.lower()#소문자로 바꿔줌\n",
    "        ans=''\n",
    "        for c in s:  #스트링을 한자한자(c) 확인한다\n",
    "            if c in 'abcdefghijklmnopqrstuvwzyz':\n",
    "                ans=ans+c\n",
    "        return ans\n",
    "    \n",
    "    def isPal(s): #재귀함수 \n",
    "        if len(s) <= 1:\n",
    "            return True\n",
    "        else:\n",
    "            return s[0] == s[-1] and isPal(s[1:-1])  \n",
    "             #양끝이 같냐 그리고 중간 양끝것도 같냐\n",
    "            return ans\n",
    "        \n",
    "        return isPal(toChars(s))\n",
    "        \n",
    "print(isPalindrome('godDog')"
   ]
  },
  {
   "cell_type": "code",
   "execution_count": 107,
   "metadata": {},
   "outputs": [
    {
     "name": "stdout",
     "output_type": "stream",
     "text": [
      "False\n",
      "False\n"
     ]
    }
   ],
   "source": [
    "def isPalindrome(s):\n",
    "    def toChars(s):\n",
    "        s=s.lower()\n",
    "        ans=''\n",
    "        for c in 'abcdefghijklmnopqrstuvwxyz':\n",
    "            ans=ans+c\n",
    "        return ans\n",
    "    \n",
    "    def isPal(s):\n",
    "        if len(s) <= 1:\n",
    "            return True\n",
    "        else:\n",
    "            return s[0]==s[-1] and isPal(s[1:-1])\n",
    "    return isPal(toChars(s))\n",
    "\n",
    "print(isPalindrome('godDog'))\n",
    "print(isPalindrome('godaDog'))"
   ]
  },
  {
   "cell_type": "code",
   "execution_count": 110,
   "metadata": {},
   "outputs": [
    {
     "name": "stdout",
     "output_type": "stream",
     "text": [
      "Try dogGod\n",
      "isPal called with doggod\n",
      "isPal called with oggo\n",
      "isPal called with gg\n",
      "isPal called with \n",
      "\n",
      "About to return True for gg\n",
      "About to return True for oggo\n",
      "About to return True for doggod\n",
      "True\n",
      "Try doGood\n",
      "isPal called with dogood\n",
      "isPal called with ogoo\n",
      "isPal called with go\n",
      "About to return False for go\n",
      "About to return False for ogoo\n",
      "About to return False for dogood\n",
      "False\n"
     ]
    }
   ],
   "source": [
    "def isPalindrome1(s):\n",
    "    def toChars(s):\n",
    "        s=s.lower()\n",
    "        ans=''\n",
    "        for c in s:\n",
    "            if c in 'abcdefghijklmnopqrstuvwxyz':\n",
    "                ans=ans+c\n",
    "        return ans\n",
    "    \n",
    "    def isPal(s):\n",
    "        print('isPal called with', s)\n",
    "        if len(s) <= 1:\n",
    "            print('')\n",
    "            return True\n",
    "        else:\n",
    "            ans = s[0] == s[-1] and isPal(s[1:-1])\n",
    "            print ('About to return', ans, 'for', s)\n",
    "            return ans\n",
    "    \n",
    "    return isPal(toChars(s))\n",
    "\n",
    "def testIsPalindrome1():\n",
    "    print(\"Try dogGod\")\n",
    "    print(isPalindrome1('dogGod'))  \n",
    "    print('Try doGood')\n",
    "    print(isPalindrome1('doGood'))\n",
    "    \n",
    "testIsPalindrome1()"
   ]
  },
  {
   "cell_type": "code",
   "execution_count": 111,
   "metadata": {},
   "outputs": [],
   "source": [
    "def fib(x):\n",
    "    global numCalls\n",
    "    numCalls += 1\n",
    "    if x==0 or x==1:\n",
    "        return 1\n",
    "    else :\n",
    "        return fib(x-1)+fib(x-2)\n",
    "    \n",
    "def testFib(n):\n",
    "    for i in range(n+1):\n",
    "        global numCalls\n",
    "        numCalls = 0\n",
    "        print('fib of', i, '=', fib(i))\n",
    "        print('fib called', numCalls, 'times.')"
   ]
  },
  {
   "cell_type": "code",
   "execution_count": 120,
   "metadata": {},
   "outputs": [
    {
     "name": "stdout",
     "output_type": "stream",
     "text": [
      "The result is: 7\n"
     ]
    }
   ],
   "source": [
    "import calculate\n",
    "print('The result is:', calculate.my_plus(3,4))"
   ]
  },
  {
   "cell_type": "code",
   "execution_count": 122,
   "metadata": {},
   "outputs": [
    {
     "name": "stdout",
     "output_type": "stream",
     "text": [
      "The result is: 7\n"
     ]
    }
   ],
   "source": [
    "from calculate import *\n",
    "print('The result is:',my_plus(3,4))"
   ]
  },
  {
   "cell_type": "code",
   "execution_count": 134,
   "metadata": {},
   "outputs": [
    {
     "name": "stdout",
     "output_type": "stream",
     "text": [
      "Enter name:sang\n",
      "Enter name:kim\n"
     ]
    }
   ],
   "source": [
    "nameHandle=open('kids','w') #creates file for writing\n",
    "for i in range (2): #2번 for문 돌려라\n",
    "    name=input(\"Enter name:\")\n",
    "    nameHandle.write(name+'\\n')  #\\n==뉴 라인:새로운 줄\n",
    "nameHandle.close()"
   ]
  },
  {
   "cell_type": "code",
   "execution_count": 127,
   "metadata": {},
   "outputs": [
    {
     "name": "stdout",
     "output_type": "stream",
     "text": [
      "sang/nkim/n\n"
     ]
    }
   ],
   "source": [
    "nameHandle=open('kids','r')#opens an existing file for reading\n",
    "for line in nameHandle:\n",
    "    print(line)\n",
    "nameHandle.close()"
   ]
  },
  {
   "cell_type": "code",
   "execution_count": null,
   "metadata": {},
   "outputs": [],
   "source": [
    "nameHandle=open(\"kids\",\"w\")\n",
    "nameHandle.write(\"Ji\\n\")\n",
    "nameHandle.write(\"Choi\\n\")\n",
    "nameHandle.close()\n",
    "nameHandle=open(\"kids\",\"r\")\n",
    "for line in nameHandle :\n",
    "    print (line[:-1])\n",
    "nameHandle.close()"
   ]
  },
  {
   "cell_type": "code",
   "execution_count": 135,
   "metadata": {},
   "outputs": [
    {
     "name": "stdout",
     "output_type": "stream",
     "text": [
      "sang\n",
      "kim\n",
      "Ji\n",
      "Choi\n"
     ]
    }
   ],
   "source": [
    "nameHandle=open(\"kids\",\"a\")#opens an exisiting file for appending\n",
    "nameHandle.write(\"Ji\\n\")\n",
    "nameHandle.write(\"Choi\\n\")\n",
    "nameHandle.close()\n",
    "nameHandle=open(\"kids\",\"r\")\n",
    "for line in nameHandle :\n",
    "    print (line[:-1])\n",
    "nameHandle.close()"
   ]
  },
  {
   "cell_type": "code",
   "execution_count": null,
   "metadata": {},
   "outputs": [],
   "source": []
  },
  {
   "cell_type": "code",
   "execution_count": null,
   "metadata": {},
   "outputs": [],
   "source": []
  },
  {
   "cell_type": "code",
   "execution_count": null,
   "metadata": {},
   "outputs": [],
   "source": []
  },
  {
   "cell_type": "code",
   "execution_count": null,
   "metadata": {},
   "outputs": [],
   "source": []
  },
  {
   "cell_type": "code",
   "execution_count": null,
   "metadata": {},
   "outputs": [],
   "source": []
  },
  {
   "cell_type": "code",
   "execution_count": null,
   "metadata": {},
   "outputs": [],
   "source": []
  },
  {
   "cell_type": "code",
   "execution_count": null,
   "metadata": {},
   "outputs": [],
   "source": []
  },
  {
   "cell_type": "code",
   "execution_count": null,
   "metadata": {},
   "outputs": [],
   "source": []
  },
  {
   "cell_type": "code",
   "execution_count": null,
   "metadata": {},
   "outputs": [],
   "source": []
  },
  {
   "cell_type": "code",
   "execution_count": null,
   "metadata": {},
   "outputs": [],
   "source": []
  },
  {
   "cell_type": "code",
   "execution_count": null,
   "metadata": {},
   "outputs": [],
   "source": []
  },
  {
   "cell_type": "code",
   "execution_count": null,
   "metadata": {},
   "outputs": [],
   "source": []
  },
  {
   "cell_type": "code",
   "execution_count": null,
   "metadata": {},
   "outputs": [],
   "source": []
  },
  {
   "cell_type": "code",
   "execution_count": null,
   "metadata": {},
   "outputs": [],
   "source": []
  },
  {
   "cell_type": "code",
   "execution_count": null,
   "metadata": {},
   "outputs": [],
   "source": []
  },
  {
   "cell_type": "code",
   "execution_count": null,
   "metadata": {},
   "outputs": [],
   "source": []
  },
  {
   "cell_type": "code",
   "execution_count": null,
   "metadata": {},
   "outputs": [],
   "source": []
  },
  {
   "cell_type": "code",
   "execution_count": null,
   "metadata": {},
   "outputs": [],
   "source": []
  },
  {
   "cell_type": "code",
   "execution_count": null,
   "metadata": {},
   "outputs": [],
   "source": []
  },
  {
   "cell_type": "code",
   "execution_count": null,
   "metadata": {},
   "outputs": [],
   "source": []
  },
  {
   "cell_type": "code",
   "execution_count": null,
   "metadata": {},
   "outputs": [],
   "source": []
  },
  {
   "cell_type": "code",
   "execution_count": null,
   "metadata": {},
   "outputs": [],
   "source": []
  },
  {
   "cell_type": "code",
   "execution_count": null,
   "metadata": {},
   "outputs": [],
   "source": []
  },
  {
   "cell_type": "code",
   "execution_count": null,
   "metadata": {},
   "outputs": [],
   "source": []
  },
  {
   "cell_type": "code",
   "execution_count": null,
   "metadata": {},
   "outputs": [],
   "source": []
  },
  {
   "cell_type": "code",
   "execution_count": null,
   "metadata": {},
   "outputs": [],
   "source": []
  },
  {
   "cell_type": "code",
   "execution_count": null,
   "metadata": {},
   "outputs": [],
   "source": []
  },
  {
   "cell_type": "code",
   "execution_count": null,
   "metadata": {},
   "outputs": [],
   "source": []
  },
  {
   "cell_type": "code",
   "execution_count": null,
   "metadata": {},
   "outputs": [],
   "source": []
  },
  {
   "cell_type": "code",
   "execution_count": null,
   "metadata": {},
   "outputs": [],
   "source": []
  },
  {
   "cell_type": "code",
   "execution_count": null,
   "metadata": {},
   "outputs": [],
   "source": []
  },
  {
   "cell_type": "code",
   "execution_count": null,
   "metadata": {},
   "outputs": [],
   "source": []
  },
  {
   "cell_type": "code",
   "execution_count": null,
   "metadata": {},
   "outputs": [],
   "source": []
  },
  {
   "cell_type": "code",
   "execution_count": null,
   "metadata": {},
   "outputs": [],
   "source": []
  },
  {
   "cell_type": "code",
   "execution_count": null,
   "metadata": {},
   "outputs": [],
   "source": []
  },
  {
   "cell_type": "code",
   "execution_count": null,
   "metadata": {},
   "outputs": [],
   "source": []
  },
  {
   "cell_type": "code",
   "execution_count": null,
   "metadata": {},
   "outputs": [],
   "source": []
  },
  {
   "cell_type": "code",
   "execution_count": null,
   "metadata": {},
   "outputs": [],
   "source": []
  },
  {
   "cell_type": "code",
   "execution_count": null,
   "metadata": {},
   "outputs": [],
   "source": []
  },
  {
   "cell_type": "code",
   "execution_count": null,
   "metadata": {},
   "outputs": [],
   "source": []
  },
  {
   "cell_type": "code",
   "execution_count": null,
   "metadata": {},
   "outputs": [],
   "source": []
  },
  {
   "cell_type": "code",
   "execution_count": null,
   "metadata": {},
   "outputs": [],
   "source": []
  },
  {
   "cell_type": "code",
   "execution_count": null,
   "metadata": {},
   "outputs": [],
   "source": []
  },
  {
   "cell_type": "code",
   "execution_count": null,
   "metadata": {},
   "outputs": [],
   "source": []
  }
 ],
 "metadata": {
  "kernelspec": {
   "display_name": "Python 3",
   "language": "python",
   "name": "python3"
  },
  "language_info": {
   "codemirror_mode": {
    "name": "ipython",
    "version": 3
   },
   "file_extension": ".py",
   "mimetype": "text/x-python",
   "name": "python",
   "nbconvert_exporter": "python",
   "pygments_lexer": "ipython3",
   "version": "3.8.5"
  }
 },
 "nbformat": 4,
 "nbformat_minor": 4
}
