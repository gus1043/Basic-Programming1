{
 "cells": [
  {
   "cell_type": "code",
   "execution_count": 1,
   "metadata": {},
   "outputs": [
    {
     "name": "stdout",
     "output_type": "stream",
     "text": [
      "학생의 수를 입력하세요 :5\n",
      "성적을 입력하세요 : 50\n",
      "성적을 입력하세요 : 40\n",
      "성적을 입력하세요 : 30\n",
      "성적을 입력하세요 : 20\n",
      "성적을 입력하세요 : 10\n",
      "성적 평균은  30.0 입니다.\n",
      "가장 높은 점수는  50 입니다,\n",
      "가장 낮은 점수는 10 입니다.\n"
     ]
    }
   ],
   "source": [
    "cnt=int(input(\"학생의 수를 입력하세요 :\"))\n",
    "n=cnt\n",
    "p=cnt\n",
    "scores=[]\n",
    "\n",
    "while cnt>0:\n",
    "    x=input(\"성적을 입력하세요 : \")\n",
    "    cnt-=1\n",
    "    scores.append(int(x))\n",
    "\n",
    "def find_min(scores):\n",
    "    n=len(scores)\n",
    "    min_v=scores[0]\n",
    "    for i in range(1,n):\n",
    "        if scores[i]<min_v:\n",
    "            min_v=scores[i]\n",
    "    return min_v\n",
    "\n",
    "def find_max(scores):\n",
    "    n=len(scores)\n",
    "    max_v=scores[0]\n",
    "    for i in range(1,n):\n",
    "        if scores[i]>max_v:\n",
    "            max_v=scores[i]\n",
    "    return max_v\n",
    "\n",
    "\n",
    "\n",
    "print(\"성적 평균은 \", sum(scores)/n, \"입니다.\")\n",
    "print(\"가장 높은 점수는 \", find_max(scores), \"입니다,\")\n",
    "print(\"가장 낮은 점수는\", find_min(scores), \"입니다.\")"
   ]
  },
  {
   "cell_type": "code",
   "execution_count": 3,
   "metadata": {},
   "outputs": [
    {
     "name": "stdout",
     "output_type": "stream",
     "text": [
      "숫자를 입력해 주세요 :35\n",
      "숫자를 입력해 주세요 :15\n",
      "숫자를 입력해 주세요 :22\n",
      "숫자를 입력해 주세요 :48\n",
      "숫자를 입력해 주세요 :55\n",
      "[15, 22, 35, 48, 55]\n",
      "tuple과 list를 합친 결과 result [10, 20, 30, 40, 15, 22, 35, 48, 55]\n"
     ]
    }
   ],
   "source": [
    "Tuple=(10, 20, 30, 40)\n",
    "L=[]\n",
    "cnt=5\n",
    "while cnt>0:\n",
    "    cnt-=1\n",
    "    x=input(\"숫자를 입력해 주세요 :\")\n",
    "    L.append(int(x))\n",
    "    \n",
    "for i in L:\n",
    "    j=0\n",
    "    while j < len(L)-1:\n",
    "        if L[j]>L[j+1]:\n",
    "            temp=L[j] #save the number temporaily\n",
    "            L[j]=L[j+1] #change the number\n",
    "            L[j+1]=temp\n",
    "        j+=1\n",
    "        \n",
    "print(L)\n",
    "print(\"tuple과 list를 합친 결과 result\", list(Tuple)+L)"
   ]
  }
 ],
 "metadata": {
  "kernelspec": {
   "display_name": "Python 3",
   "language": "python",
   "name": "python3"
  },
  "language_info": {
   "codemirror_mode": {
    "name": "ipython",
    "version": 3
   },
   "file_extension": ".py",
   "mimetype": "text/x-python",
   "name": "python",
   "nbconvert_exporter": "python",
   "pygments_lexer": "ipython3",
   "version": "3.8.5"
  }
 },
 "nbformat": 4,
 "nbformat_minor": 4
}
